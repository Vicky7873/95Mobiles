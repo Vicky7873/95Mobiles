{
 "cells": [
  {
   "cell_type": "code",
   "execution_count": 1,
   "metadata": {},
   "outputs": [],
   "source": [
    "import os"
   ]
  },
  {
   "cell_type": "code",
   "execution_count": 2,
   "metadata": {},
   "outputs": [],
   "source": [
    "os.chdir(\"../../\")"
   ]
  },
  {
   "cell_type": "code",
   "execution_count": 3,
   "metadata": {},
   "outputs": [
    {
     "data": {
      "text/plain": [
       "'/Users/bhikipallai/Desktop/Projects/95Mobiles'"
      ]
     },
     "execution_count": 3,
     "metadata": {},
     "output_type": "execute_result"
    }
   ],
   "source": [
    "%pwd"
   ]
  },
  {
   "cell_type": "code",
   "execution_count": 4,
   "metadata": {},
   "outputs": [],
   "source": [
    "from dataclasses import dataclass\n",
    "from pathlib import Path\n",
    "\n",
    "@dataclass(frozen=True)\n",
    "class Mobile_Data_Cleaning_Config:\n",
    "    root_dir: Path\n",
    "    mobile_raw_data: Path\n",
    "    mobile_cleaned_data: Path"
   ]
  },
  {
   "cell_type": "code",
   "execution_count": 5,
   "metadata": {},
   "outputs": [
    {
     "name": "stdout",
     "output_type": "stream",
     "text": [
      "[2024-10-06 17:32:47,479: INFO]: Logging file start\n"
     ]
    }
   ],
   "source": [
    "from src.mobiles.constants import *\n",
    "from src.mobiles.utils.common import read_yaml,create_directory"
   ]
  },
  {
   "cell_type": "code",
   "execution_count": 6,
   "metadata": {},
   "outputs": [],
   "source": [
    "class ConfigurationManger:\n",
    "    def __init__(self,config_filepath = CONFIG_FILE_PATH,params_filepath = PARAMS_FILE_PATH) :\n",
    "        self.config = read_yaml(config_filepath)\n",
    "        create_directory([self.config.data_root])\n",
    "\n",
    "    def get_mobile_data_cleaning(self)->Mobile_Data_Cleaning_Config:\n",
    "        config = self.config.data_cleaning\n",
    "        create_directory([config.root_dir])\n",
    "\n",
    "        model_datacleaning = Mobile_Data_Cleaning_Config(\n",
    "            root_dir=config.root_dir,\n",
    "            mobile_raw_data=config.mobile_raw_data,\n",
    "            mobile_cleaned_data=config.mobile_cleaned_data\n",
    "        )\n",
    "\n",
    "        return model_datacleaning"
   ]
  },
  {
   "cell_type": "code",
   "execution_count": 7,
   "metadata": {},
   "outputs": [],
   "source": [
    "import pandas as pd"
   ]
  },
  {
   "cell_type": "code",
   "execution_count": 8,
   "metadata": {},
   "outputs": [],
   "source": [
    "class DataCleaning:\n",
    "    def __init__(self,config:Mobile_Data_Cleaning_Config):\n",
    "        self.config = config\n",
    "    \n",
    "    def load_data(self):\n",
    "        self.df = pd.read_csv(self.config.mobile_raw_data)\n",
    "        return self.df\n",
    "    \n",
    "    def columns_cleaning(self):\n",
    "        df = self.df\n",
    "        df = df.rename(columns={'Price ($)':'price'})\n",
    "        df = df.rename(columns={'Screen Size (inches)':'screen_size','Camera (MP)':'camera','Battery Capacity (mAh)':'battery'})\n",
    "        df.columns=df.columns.str.replace(' ','')\n",
    "        return df\n",
    "    \n",
    "    def clean_data(self):\n",
    "        df = self.columns_cleaning()\n",
    "        df['price'] = df['price'].str.replace(r'\\D', '', regex=True)\n",
    "        df['price']=df['price'].astype('float')\n",
    "        df['price']=df['price'].multiply(84)\n",
    "        df['camera'] = df['camera'].str.replace('MP','')\n",
    "        df['RAM'] = df['RAM'].str.replace(r'\\D', '', regex=True)\n",
    "        df['Storage'] = df['Storage'].str.replace(r'\\D', '', regex=True)\n",
    "        df['camera'] = df['camera'].str.replace(' ','')\n",
    "        print(df.head(10))\n",
    "\n",
    "        df.to_csv(self.config.mobile_cleaned_data)"
   ]
  },
  {
   "cell_type": "code",
   "execution_count": 9,
   "metadata": {},
   "outputs": [
    {
     "name": "stdout",
     "output_type": "stream",
     "text": [
      "[2024-10-06 17:32:47,801: INFO]: yaml: config/mobiles_config.yaml loaded successfully\n",
      "[2024-10-06 17:32:47,802: INFO]: created directory at: data\n",
      "[2024-10-06 17:32:47,803: INFO]: created directory at: data/mobile/data_cleaning\n",
      "     Brand              Model Storage RAM screen_size        camera  battery  \\\n",
      "0    Apple      iPhone 13 Pro     128   6         6.1      12+12+12     3095   \n",
      "1  Samsung   Galaxy S21 Ultra     256  12         6.8  108+10+10+12     5000   \n",
      "2  OnePlus              9 Pro     128   8         6.7     48+50+8+2     4500   \n",
      "3   Xiaomi  Redmi Note 10 Pro     128   6        6.67      64+8+5+2     5020   \n",
      "4   Google            Pixel 6     128   8         6.4       50+12.2     4614   \n",
      "5    Apple          iPhone 13     128   4         6.1         12+12     2815   \n",
      "6  Samsung     Galaxy Z Flip3     256   8         6.7         12+12     3300   \n",
      "7   Xiaomi        Poco X3 Pro     128   6        6.67      48+8+2+2     5160   \n",
      "8     Oppo      Reno6 Pro+ 5G     128   8        6.55    50+13+16+2     4500   \n",
      "9     Vivo           X70 Pro+     256  12        6.78    50+48+12+8     4500   \n",
      "\n",
      "      price  \n",
      "0   83916.0  \n",
      "1  100716.0  \n",
      "2   75516.0  \n",
      "3   23436.0  \n",
      "4   67116.0  \n",
      "5   67116.0  \n",
      "6   83916.0  \n",
      "7   20916.0  \n",
      "8   58716.0  \n",
      "9  100716.0  \n"
     ]
    }
   ],
   "source": [
    "try:\n",
    "    config = ConfigurationManger()\n",
    "    data_cleaning = DataCleaning(config.get_mobile_data_cleaning())\n",
    "    data_cleaning.load_data()\n",
    "    data_cleaning.columns_cleaning()\n",
    "    data_cleaning.clean_data()\n",
    "except Exception as e:\n",
    "    raise e"
   ]
  },
  {
   "cell_type": "code",
   "execution_count": null,
   "metadata": {},
   "outputs": [],
   "source": []
  }
 ],
 "metadata": {
  "kernelspec": {
   "display_name": "95m",
   "language": "python",
   "name": "python3"
  },
  "language_info": {
   "codemirror_mode": {
    "name": "ipython",
    "version": 3
   },
   "file_extension": ".py",
   "mimetype": "text/x-python",
   "name": "python",
   "nbconvert_exporter": "python",
   "pygments_lexer": "ipython3",
   "version": "3.12.5"
  }
 },
 "nbformat": 4,
 "nbformat_minor": 2
}
