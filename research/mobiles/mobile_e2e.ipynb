{
 "cells": [
  {
   "cell_type": "code",
   "execution_count": 1,
   "metadata": {},
   "outputs": [],
   "source": [
    "import os"
   ]
  },
  {
   "cell_type": "code",
   "execution_count": 2,
   "metadata": {},
   "outputs": [],
   "source": [
    "import numpy as np\n",
    "import pandas as pd\n",
    "import matplotlib.pyplot as plt\n",
    "import seaborn as sns"
   ]
  },
  {
   "cell_type": "code",
   "execution_count": 3,
   "metadata": {},
   "outputs": [
    {
     "data": {
      "text/html": [
       "<div>\n",
       "<style scoped>\n",
       "    .dataframe tbody tr th:only-of-type {\n",
       "        vertical-align: middle;\n",
       "    }\n",
       "\n",
       "    .dataframe tbody tr th {\n",
       "        vertical-align: top;\n",
       "    }\n",
       "\n",
       "    .dataframe thead th {\n",
       "        text-align: right;\n",
       "    }\n",
       "</style>\n",
       "<table border=\"1\" class=\"dataframe\">\n",
       "  <thead>\n",
       "    <tr style=\"text-align: right;\">\n",
       "      <th></th>\n",
       "      <th>Brand</th>\n",
       "      <th>Model</th>\n",
       "      <th>Storage</th>\n",
       "      <th>RAM</th>\n",
       "      <th>Screen Size (inches)</th>\n",
       "      <th>Camera (MP)</th>\n",
       "      <th>Battery Capacity (mAh)</th>\n",
       "      <th>Price ($)</th>\n",
       "    </tr>\n",
       "  </thead>\n",
       "  <tbody>\n",
       "    <tr>\n",
       "      <th>0</th>\n",
       "      <td>Apple</td>\n",
       "      <td>iPhone 13 Pro</td>\n",
       "      <td>128 GB</td>\n",
       "      <td>6 GB</td>\n",
       "      <td>6.1</td>\n",
       "      <td>12 + 12 + 12</td>\n",
       "      <td>3095</td>\n",
       "      <td>999</td>\n",
       "    </tr>\n",
       "    <tr>\n",
       "      <th>1</th>\n",
       "      <td>Samsung</td>\n",
       "      <td>Galaxy S21 Ultra</td>\n",
       "      <td>256 GB</td>\n",
       "      <td>12 GB</td>\n",
       "      <td>6.8</td>\n",
       "      <td>108 + 10 + 10 + 12</td>\n",
       "      <td>5000</td>\n",
       "      <td>1199</td>\n",
       "    </tr>\n",
       "  </tbody>\n",
       "</table>\n",
       "</div>"
      ],
      "text/plain": [
       "     Brand             Model Storage    RAM  Screen Size (inches)  \\\n",
       "0    Apple     iPhone 13 Pro   128 GB   6 GB                  6.1   \n",
       "1  Samsung  Galaxy S21 Ultra   256 GB  12 GB                  6.8   \n",
       "\n",
       "          Camera (MP)  Battery Capacity (mAh) Price ($)  \n",
       "0        12 + 12 + 12                    3095       999  \n",
       "1  108 + 10 + 10 + 12                    5000      1199  "
      ]
     },
     "execution_count": 3,
     "metadata": {},
     "output_type": "execute_result"
    }
   ],
   "source": [
    "df = pd.read_csv(\"https://raw.githubusercontent.com/Vicky7873/data/refs/heads/main/Mobile%20phone%20price.csv\")\n",
    "df.head(2)"
   ]
  },
  {
   "cell_type": "code",
   "execution_count": 4,
   "metadata": {},
   "outputs": [
    {
     "data": {
      "text/plain": [
       "Brand                     0\n",
       "Model                     0\n",
       "Storage                   0\n",
       "RAM                       0\n",
       "Screen Size (inches)      0\n",
       "Camera (MP)               0\n",
       "Battery Capacity (mAh)    0\n",
       "Price ($)                 0\n",
       "dtype: int64"
      ]
     },
     "execution_count": 4,
     "metadata": {},
     "output_type": "execute_result"
    }
   ],
   "source": [
    "df.isna().sum()"
   ]
  },
  {
   "cell_type": "code",
   "execution_count": 5,
   "metadata": {},
   "outputs": [
    {
     "data": {
      "text/plain": [
       "Brand                     0\n",
       "Model                     0\n",
       "Storage                   0\n",
       "RAM                       0\n",
       "Screen Size (inches)      0\n",
       "Camera (MP)               0\n",
       "Battery Capacity (mAh)    0\n",
       "Price ($)                 0\n",
       "dtype: int64"
      ]
     },
     "execution_count": 5,
     "metadata": {},
     "output_type": "execute_result"
    }
   ],
   "source": [
    "df.isnull().sum()"
   ]
  },
  {
   "cell_type": "code",
   "execution_count": 6,
   "metadata": {},
   "outputs": [
    {
     "data": {
      "text/plain": [
       "np.int64(26)"
      ]
     },
     "execution_count": 6,
     "metadata": {},
     "output_type": "execute_result"
    }
   ],
   "source": [
    "df.duplicated().sum()"
   ]
  },
  {
   "cell_type": "code",
   "execution_count": 7,
   "metadata": {},
   "outputs": [
    {
     "name": "stdout",
     "output_type": "stream",
     "text": [
      "<class 'pandas.core.frame.DataFrame'>\n",
      "RangeIndex: 407 entries, 0 to 406\n",
      "Data columns (total 8 columns):\n",
      " #   Column                  Non-Null Count  Dtype \n",
      "---  ------                  --------------  ----- \n",
      " 0   Brand                   407 non-null    object\n",
      " 1   Model                   407 non-null    object\n",
      " 2   Storage                 407 non-null    object\n",
      " 3   RAM                     407 non-null    object\n",
      " 4   Screen Size (inches)    407 non-null    object\n",
      " 5   Camera (MP)             407 non-null    object\n",
      " 6   Battery Capacity (mAh)  407 non-null    int64 \n",
      " 7   Price ($)               407 non-null    object\n",
      "dtypes: int64(1), object(7)\n",
      "memory usage: 25.6+ KB\n"
     ]
    }
   ],
   "source": [
    "df.info()"
   ]
  },
  {
   "cell_type": "code",
   "execution_count": 8,
   "metadata": {},
   "outputs": [
    {
     "data": {
      "text/plain": [
       "Brand                      16\n",
       "Model                     239\n",
       "Storage                    13\n",
       "RAM                        20\n",
       "Screen Size (inches)       41\n",
       "Camera (MP)               143\n",
       "Battery Capacity (mAh)     48\n",
       "Price ($)                  89\n",
       "dtype: int64"
      ]
     },
     "execution_count": 8,
     "metadata": {},
     "output_type": "execute_result"
    }
   ],
   "source": [
    "df.nunique()"
   ]
  },
  {
   "cell_type": "code",
   "execution_count": 9,
   "metadata": {},
   "outputs": [],
   "source": [
    "df = df.rename(columns={'Price ($)':'price'})"
   ]
  },
  {
   "cell_type": "code",
   "execution_count": 10,
   "metadata": {},
   "outputs": [
    {
     "data": {
      "text/html": [
       "<div>\n",
       "<style scoped>\n",
       "    .dataframe tbody tr th:only-of-type {\n",
       "        vertical-align: middle;\n",
       "    }\n",
       "\n",
       "    .dataframe tbody tr th {\n",
       "        vertical-align: top;\n",
       "    }\n",
       "\n",
       "    .dataframe thead th {\n",
       "        text-align: right;\n",
       "    }\n",
       "</style>\n",
       "<table border=\"1\" class=\"dataframe\">\n",
       "  <thead>\n",
       "    <tr style=\"text-align: right;\">\n",
       "      <th></th>\n",
       "      <th>Brand</th>\n",
       "      <th>Model</th>\n",
       "      <th>Storage</th>\n",
       "      <th>RAM</th>\n",
       "      <th>Screen Size (inches)</th>\n",
       "      <th>Camera (MP)</th>\n",
       "      <th>Battery Capacity (mAh)</th>\n",
       "      <th>price</th>\n",
       "    </tr>\n",
       "  </thead>\n",
       "  <tbody>\n",
       "    <tr>\n",
       "      <th>0</th>\n",
       "      <td>Apple</td>\n",
       "      <td>iPhone 13 Pro</td>\n",
       "      <td>128 GB</td>\n",
       "      <td>6 GB</td>\n",
       "      <td>6.1</td>\n",
       "      <td>12 + 12 + 12</td>\n",
       "      <td>3095</td>\n",
       "      <td>999</td>\n",
       "    </tr>\n",
       "    <tr>\n",
       "      <th>1</th>\n",
       "      <td>Samsung</td>\n",
       "      <td>Galaxy S21 Ultra</td>\n",
       "      <td>256 GB</td>\n",
       "      <td>12 GB</td>\n",
       "      <td>6.8</td>\n",
       "      <td>108 + 10 + 10 + 12</td>\n",
       "      <td>5000</td>\n",
       "      <td>1199</td>\n",
       "    </tr>\n",
       "  </tbody>\n",
       "</table>\n",
       "</div>"
      ],
      "text/plain": [
       "     Brand             Model Storage    RAM  Screen Size (inches)  \\\n",
       "0    Apple     iPhone 13 Pro   128 GB   6 GB                  6.1   \n",
       "1  Samsung  Galaxy S21 Ultra   256 GB  12 GB                  6.8   \n",
       "\n",
       "          Camera (MP)  Battery Capacity (mAh) price  \n",
       "0        12 + 12 + 12                    3095   999  \n",
       "1  108 + 10 + 10 + 12                    5000  1199  "
      ]
     },
     "execution_count": 10,
     "metadata": {},
     "output_type": "execute_result"
    }
   ],
   "source": [
    "df.head(2)"
   ]
  },
  {
   "cell_type": "code",
   "execution_count": 11,
   "metadata": {},
   "outputs": [],
   "source": [
    "df = df.rename(columns={'Screen Size (inches)':'screen_size','Camera (MP)':'camera','Battery Capacity (mAh)':'battery'})"
   ]
  },
  {
   "cell_type": "code",
   "execution_count": 12,
   "metadata": {},
   "outputs": [
    {
     "data": {
      "text/html": [
       "<div>\n",
       "<style scoped>\n",
       "    .dataframe tbody tr th:only-of-type {\n",
       "        vertical-align: middle;\n",
       "    }\n",
       "\n",
       "    .dataframe tbody tr th {\n",
       "        vertical-align: top;\n",
       "    }\n",
       "\n",
       "    .dataframe thead th {\n",
       "        text-align: right;\n",
       "    }\n",
       "</style>\n",
       "<table border=\"1\" class=\"dataframe\">\n",
       "  <thead>\n",
       "    <tr style=\"text-align: right;\">\n",
       "      <th></th>\n",
       "      <th>Brand</th>\n",
       "      <th>Model</th>\n",
       "      <th>Storage</th>\n",
       "      <th>RAM</th>\n",
       "      <th>screen_size</th>\n",
       "      <th>camera</th>\n",
       "      <th>battery</th>\n",
       "      <th>price</th>\n",
       "    </tr>\n",
       "  </thead>\n",
       "  <tbody>\n",
       "    <tr>\n",
       "      <th>0</th>\n",
       "      <td>Apple</td>\n",
       "      <td>iPhone 13 Pro</td>\n",
       "      <td>128 GB</td>\n",
       "      <td>6 GB</td>\n",
       "      <td>6.1</td>\n",
       "      <td>12 + 12 + 12</td>\n",
       "      <td>3095</td>\n",
       "      <td>999</td>\n",
       "    </tr>\n",
       "    <tr>\n",
       "      <th>1</th>\n",
       "      <td>Samsung</td>\n",
       "      <td>Galaxy S21 Ultra</td>\n",
       "      <td>256 GB</td>\n",
       "      <td>12 GB</td>\n",
       "      <td>6.8</td>\n",
       "      <td>108 + 10 + 10 + 12</td>\n",
       "      <td>5000</td>\n",
       "      <td>1199</td>\n",
       "    </tr>\n",
       "  </tbody>\n",
       "</table>\n",
       "</div>"
      ],
      "text/plain": [
       "     Brand             Model Storage    RAM  screen_size              camera  \\\n",
       "0    Apple     iPhone 13 Pro   128 GB   6 GB         6.1        12 + 12 + 12   \n",
       "1  Samsung  Galaxy S21 Ultra   256 GB  12 GB         6.8  108 + 10 + 10 + 12   \n",
       "\n",
       "   battery price  \n",
       "0     3095   999  \n",
       "1     5000  1199  "
      ]
     },
     "execution_count": 12,
     "metadata": {},
     "output_type": "execute_result"
    }
   ],
   "source": [
    "df.head(2)"
   ]
  },
  {
   "cell_type": "code",
   "execution_count": 13,
   "metadata": {},
   "outputs": [],
   "source": [
    "# remove the special char from price column"
   ]
  },
  {
   "cell_type": "code",
   "execution_count": 14,
   "metadata": {},
   "outputs": [
    {
     "data": {
      "text/plain": [
       "array(['999', '1199', '899', '279', '799', '249', '699', '329', '449',\n",
       "       '199', '299', '379', '179', '729', '599', '139', '189', '399',\n",
       "       '259', '159', '229', '499', '129', '529', '369', '1099', '169',\n",
       "       '99', '459', '239', '1299', '429', '659', '269', '359', '$799 ',\n",
       "       '$399 ', '$699 ', '$329 ', '$999 ', '$549 ', '$1,299 ', '$899 ',\n",
       "       '$449 ', '$319 ', '$269 ', '$349 ', '$279 ', '$249 ', '$299 ',\n",
       "       '$969 ', '$1,199 ', '$149 ', '$139 ', '$99 ', '$199 ', '$169 ',\n",
       "       '$499 ', '$179 ', '$219 ', '$229 ', '$239 ', '$109 ', '$189 ',\n",
       "       '$389 ', '$309 ', '$369 ', '$129 ', '$849 ', '$469 ', '$209 ',\n",
       "       '$119 ', '$339 ', '$429 ', '$159 ', '$379 ', '$289 ', '130', '749',\n",
       "       '149', '969', '649', '349', '419', '1399', '1999', '119', '319',\n",
       "       '1049'], dtype=object)"
      ]
     },
     "execution_count": 14,
     "metadata": {},
     "output_type": "execute_result"
    }
   ],
   "source": [
    "df['price'].unique()"
   ]
  },
  {
   "cell_type": "code",
   "execution_count": 15,
   "metadata": {},
   "outputs": [],
   "source": [
    "df['price'] = df['price'].str.replace(r'\\D', '', regex=True)"
   ]
  },
  {
   "cell_type": "code",
   "execution_count": 16,
   "metadata": {},
   "outputs": [
    {
     "data": {
      "text/plain": [
       "array(['999', '1199', '899', '279', '799', '249', '699', '329', '449',\n",
       "       '199', '299', '379', '179', '729', '599', '139', '189', '399',\n",
       "       '259', '159', '229', '499', '129', '529', '369', '1099', '169',\n",
       "       '99', '459', '239', '1299', '429', '659', '269', '359', '549',\n",
       "       '319', '349', '969', '149', '219', '109', '389', '309', '849',\n",
       "       '469', '209', '119', '339', '289', '130', '749', '649', '419',\n",
       "       '1399', '1999', '1049'], dtype=object)"
      ]
     },
     "execution_count": 16,
     "metadata": {},
     "output_type": "execute_result"
    }
   ],
   "source": [
    "df['price'].unique()"
   ]
  },
  {
   "cell_type": "code",
   "execution_count": 17,
   "metadata": {},
   "outputs": [],
   "source": [
    "df.to_csv('a.csv')"
   ]
  },
  {
   "cell_type": "code",
   "execution_count": 18,
   "metadata": {},
   "outputs": [],
   "source": [
    "df['price']=df['price'].astype('float')"
   ]
  },
  {
   "cell_type": "code",
   "execution_count": 19,
   "metadata": {},
   "outputs": [
    {
     "name": "stdout",
     "output_type": "stream",
     "text": [
      "<class 'pandas.core.frame.DataFrame'>\n",
      "RangeIndex: 407 entries, 0 to 406\n",
      "Data columns (total 8 columns):\n",
      " #   Column       Non-Null Count  Dtype  \n",
      "---  ------       --------------  -----  \n",
      " 0   Brand        407 non-null    object \n",
      " 1   Model        407 non-null    object \n",
      " 2   Storage      407 non-null    object \n",
      " 3   RAM          407 non-null    object \n",
      " 4   screen_size  407 non-null    object \n",
      " 5   camera       407 non-null    object \n",
      " 6   battery      407 non-null    int64  \n",
      " 7   price        407 non-null    float64\n",
      "dtypes: float64(1), int64(1), object(6)\n",
      "memory usage: 25.6+ KB\n"
     ]
    }
   ],
   "source": [
    "df.info()"
   ]
  },
  {
   "cell_type": "code",
   "execution_count": 20,
   "metadata": {},
   "outputs": [],
   "source": [
    "df['price']=df['price'].multiply(84)"
   ]
  },
  {
   "cell_type": "code",
   "execution_count": 21,
   "metadata": {},
   "outputs": [
    {
     "data": {
      "text/html": [
       "<div>\n",
       "<style scoped>\n",
       "    .dataframe tbody tr th:only-of-type {\n",
       "        vertical-align: middle;\n",
       "    }\n",
       "\n",
       "    .dataframe tbody tr th {\n",
       "        vertical-align: top;\n",
       "    }\n",
       "\n",
       "    .dataframe thead th {\n",
       "        text-align: right;\n",
       "    }\n",
       "</style>\n",
       "<table border=\"1\" class=\"dataframe\">\n",
       "  <thead>\n",
       "    <tr style=\"text-align: right;\">\n",
       "      <th></th>\n",
       "      <th>Brand</th>\n",
       "      <th>Model</th>\n",
       "      <th>Storage</th>\n",
       "      <th>RAM</th>\n",
       "      <th>screen_size</th>\n",
       "      <th>camera</th>\n",
       "      <th>battery</th>\n",
       "      <th>price</th>\n",
       "    </tr>\n",
       "  </thead>\n",
       "  <tbody>\n",
       "    <tr>\n",
       "      <th>0</th>\n",
       "      <td>Apple</td>\n",
       "      <td>iPhone 13 Pro</td>\n",
       "      <td>128 GB</td>\n",
       "      <td>6 GB</td>\n",
       "      <td>6.1</td>\n",
       "      <td>12 + 12 + 12</td>\n",
       "      <td>3095</td>\n",
       "      <td>83916.0</td>\n",
       "    </tr>\n",
       "    <tr>\n",
       "      <th>1</th>\n",
       "      <td>Samsung</td>\n",
       "      <td>Galaxy S21 Ultra</td>\n",
       "      <td>256 GB</td>\n",
       "      <td>12 GB</td>\n",
       "      <td>6.8</td>\n",
       "      <td>108 + 10 + 10 + 12</td>\n",
       "      <td>5000</td>\n",
       "      <td>100716.0</td>\n",
       "    </tr>\n",
       "  </tbody>\n",
       "</table>\n",
       "</div>"
      ],
      "text/plain": [
       "     Brand             Model Storage    RAM  screen_size              camera  \\\n",
       "0    Apple     iPhone 13 Pro   128 GB   6 GB         6.1        12 + 12 + 12   \n",
       "1  Samsung  Galaxy S21 Ultra   256 GB  12 GB         6.8  108 + 10 + 10 + 12   \n",
       "\n",
       "   battery     price  \n",
       "0     3095   83916.0  \n",
       "1     5000  100716.0  "
      ]
     },
     "execution_count": 21,
     "metadata": {},
     "output_type": "execute_result"
    }
   ],
   "source": [
    "df.head(2)"
   ]
  },
  {
   "cell_type": "code",
   "execution_count": 22,
   "metadata": {},
   "outputs": [
    {
     "name": "stdout",
     "output_type": "stream",
     "text": [
      "Brand ['Apple' 'Samsung' 'OnePlus' 'Xiaomi' 'Google' 'Oppo' 'Vivo' 'Realme'\n",
      " 'Motorola' 'Nokia' 'Sony' 'LG' 'Asus' 'Blackberry' 'CAT' 'Huawei']\n",
      "Model ['iPhone 13 Pro' 'Galaxy S21 Ultra' '9 Pro' 'Redmi Note 10 Pro' 'Pixel 6'\n",
      " 'iPhone 13' 'Galaxy Z Flip3' 'Poco X3 Pro' 'Reno6 Pro+ 5G' 'X70 Pro+'\n",
      " 'Nord CE 5G' 'Galaxy A52s 5G' 'GT Neo2' 'iPhone 12 Mini' 'Find X3 Pro'\n",
      " 'Mi 11 Lite 5G NE' 'Galaxy S21' 'Y20s (G)' '8s 5G' 'A94' 'Redmi 10 Prime'\n",
      " 'Galaxy A22 5G' 'Narzo 50 Pro 5G' '9' 'Redmi Note 10 Pro Max' 'iPhone 11'\n",
      " 'Galaxy A03s' 'A74 5G' 'Y12s (2021)' '9i' 'Galaxy M52 5G' 'Redmi 10'\n",
      " 'iPhone SE (2nd Gen)' 'A53s' 'Y33s' 'C25s' 'Galaxy A22 4G' 'Nord 2 5G'\n",
      " 'Poco M3 Pro 5G' 'iPhone XR' 'A16' 'C21Y' 'Galaxy F22' 'F19 Pro+ 5G'\n",
      " 'Mi 11X' 'V21e' '8 5G' 'Galaxy M12' 'A16s' 'Redmi 9 Power'\n",
      " 'iPhone 11 Pro Max' 'Y20G' 'Narzo 50i' 'A54' 'Redmi 9T'\n",
      " 'iPhone 13 Pro Max' 'Y33' 'Galaxy A72' 'Reno6 Pro 5G' 'iPhone SE (2020)'\n",
      " 'Y53s' '7i' 'Galaxy A52 5G' 'F19 Pro' 'Redmi Note 10S' 'Y21s'\n",
      " 'Mi 11 Lite 5G' 'X60 Pro' 'Narzo 50A' 'Nord 2' 'Poco X4 Pro'\n",
      " 'GT Master Edition' 'Reno6 Pro+' 'Edge 20 Pro' 'XR20' 'Xperia 5 III'\n",
      " 'Wing' 'Zenfone 8 Flip' 'KEY2 LE' 'F19 Pro+' 'Moto G60' '5.4' 'K92 5G'\n",
      " 'Zenfone 8' 'KEY2' 'S42' 'Galaxy Z Flip 3' 'Mi 11 Ultra' 'Y12A'\n",
      " 'C20 Plus' 'Galaxy S20 FE 5G' 'Moto E7i Power' 'ROG Phone 5' 'Velvet 5G'\n",
      " 'Evolve' 'Reno 6 Pro+' 'Moto G50' 'G20' 'Galaxy M32' '8i' 'C30'\n",
      " 'Galaxy A32' 'Moto G Stylus 5G' 'Galaxy A21s' 'Y12s' 'F19s'\n",
      " 'Narzo 30 Pro 5G' 'Moto G Pure' 'Reno6 Z 5G' 'Galaxy S21 Ultra 5G' 'G50'\n",
      " 'Redmi 9 Activ' 'A54s' 'Galaxy M22' 'Moto G Power 2022' 'Poco X3 GT'\n",
      " 'Galaxy F42 5G' 'Edge 20 Fusion' 'C21' 'V21 5G' 'Redmi Note 9 Pro Max'\n",
      " 'Moto G Power 2021' 'V21e 5G' 'A53s 5G' 'Mi 11 Lite NE'\n",
      " 'Moto G Stylus 2021' 'A54s 5G' 'Galaxy F41' 'Galaxy M52' 'Moto G50s'\n",
      " 'Galaxy A13' 'Galaxy A42 5G' 'Moto G9 Power Lite' 'Galaxy A22' 'A74'\n",
      " 'Y72 5G' 'Mi 10i' 'Narzo 30 Pro' 'Galaxy M62' 'Galaxy A12' 'A15s'\n",
      " 'C11 2021' 'Redmi 9i' 'A53' '7 5G' 'Galaxy M31s' 'A15' 'G10' 'C25' 'X20'\n",
      " 'Y20s G' 'Reno 6 Pro 5G' 'Y31s' 'Galaxy A32 5G' 'Redmi Note 10' 'V20 SE'\n",
      " '3.4' 'C20' '1.4' 'Galaxy A02s' 'Y51A' 'Narzo 20' '5.3' 'Redmi Note 8'\n",
      " 'Galaxy M11' 'Y20s' 'C11' '2.4' 'Redmi 9' 'Galaxy A11' 'A12' 'C15'\n",
      " '3.1 Plus' 'Redmi Note 7' 'A31' 'Y15' 'Narzo 10A' 'Galaxy A30s'\n",
      " 'Galaxy Note 20 Ultra' 'Pixel 5' 'Mate 40 Pro' 'Nord N10 5G'\n",
      " 'Reno 5 Pro 5G' 'Galaxy A71' '8.3 5G' 'Mi 11' 'Moto G Power (2021)'\n",
      " 'Pixel 4a 5G' 'Nova 8 Pro 5G' 'Galaxy A52' '8T' 'G50 5G' 'Find X3 Neo 5G'\n",
      " 'P40 Pro' 'Moto G Stylus (2021)' 'Pixel 4' 'iPhone 12' 'A94 5G'\n",
      " 'Nova 9 Pro 5G' 'Galaxy S10 Lite' '8 Pro' '7.2' 'Mi 10T Pro'\n",
      " 'Mate 30 Pro 5G' 'Galaxy M51' 'Reno4 Pro 5G' 'Moto G9 Plus'\n",
      " 'iPhone XS Max' 'Redmi Note 9S' 'A92' 'P30 Pro' '7 Pro' '6.2'\n",
      " 'Mi 10T Lite' 'iPhone 8 Plus' 'Moto G8 Power' 'Nova 7i' 'Galaxy S21+ 5G'\n",
      " 'Mi 11 Lite' 'Nord' 'Moto G10' 'P40 Pro+' 'Galaxy Note20 5G' 'Poco M3'\n",
      " 'Galaxy S20 Ultra 5G' 'iPhone 12 mini' 'Moto G9 Power'\n",
      " 'Galaxy Z Fold2 5G' 'Mi 10T Pro 5G' 'Redmi 9C' 'Y7p' 'iPhone 12 Pro' '7'\n",
      " 'A93' 'Moto G Pro' 'P30 Lite' 'Mi 10 Lite 5G' 'iPhone 12 Pro Max' 'Reno3']\n",
      "Storage  ['128 GB' '256 GB' '64 GB' '32 GB' '128GB' '256GB' '64GB' '32GB' '256'\n",
      " '64' '128' '512' '32']\n",
      "RAM  ['6 GB' '12 GB' '8 GB' '4 GB' '3 GB' '2 GB' '4GB' '8GB' '6GB' '12GB' '3GB'\n",
      " '2GB' '5GB' '12' '3' '6' '8' '4' '16' '2']\n",
      "screen_size ['6.1' '6.8' '6.7' '6.67' '6.4' '6.55' '6.78' '6.43' '6.5' '6.62' '5.4'\n",
      " '6.2' '6.51' '6.6' '4.7' '6.58' '6.52' '6.44' '6.53' '6.56' '6.8 + 3.9'\n",
      " '4.5' '6.39' '5.9' '5.5' '6.81' '5.99' '6.82' '6.3' '6.22' '6' '6.35'\n",
      " '6.9' '6.76' '6.49' '6.72' '5.7' '6.47' '7.6 (unfolded)' '6.15' '6.57']\n",
      "camera ['12 + 12 + 12' '108 + 10 + 10 + 12' '48 + 50 + 8 + 2' '64 + 8 + 5 + 2'\n",
      " '50 + 12.2' '12 + 12' '48 + 8 + 2 + 2' '50 + 13 + 16 + 2'\n",
      " '50 + 48 + 12 + 8' '64 + 8 + 2' '64 + 12 + 5 + 5' '50 + 50 + 13 + 3'\n",
      " '64 + 8 + 5' '64 + 12 + 12' '50 + 2 + 2' '48 + 2 + 2' '50 + 8 + 2 + 2'\n",
      " '48 + 5' '48 + 50 + 2' '108 + 8 + 5 + 2' '13 + 2 + 2' '13 + 2' '12'\n",
      " '48 + 5 + 2' '50 + 8 + 2' '64 + 8 + 2 + 2' '48 + 8 + 5' '64 + 8'\n",
      " '48 + 5 + 2 + 2' '50 + 2' '64 + 12 + 8 + 5' '64 + 2' '48 + 13 + 13'\n",
      " '12MP + 12MP' '64MP + 12MP + 12MP' '50MP + 8MP + 2MP' '50MP + 12MP'\n",
      " '48MP + 8MP + 2MP + 2MP' '64MP + 8MP + 2MP' '50MP + 48MP + 12MP + 8MP'\n",
      " '50MP + 16MP + 13MP + 2MP' '108MP + 16MP + 8MP' '48MP + 13MP'\n",
      " '12MP + 12MP + 12MP' '64MP + 13MP + 12MP' '64MP + 12MP + 8MP'\n",
      " '13MP + 5MP' '64MP + 12MP + 8MP + 5MP' '108MP + 8MP + 5MP + 2MP'\n",
      " '48MP + 50MP + 2MP' '50MP + 2MP + 2MP' '108MP + 8MP + 2MP'\n",
      " '48MP + 5MP + 2MP' '64MP + 5MP + 2MP + 2MP' '64MP + 12MP'\n",
      " '48MP + 50MP + 8MP' '50MP + 48MP + 48MP' '13MP + 2MP + 2MP' '13MP + 2MP'\n",
      " '8MP + 2MP' '12MP + 12MP + 8MP' '48MP + 2MP + 2MP' '64MP + 13MP + 5MP'\n",
      " '48MP + 8MP + 5MP' '12MP + 13MP' '50MP + 13MP + 16MP + 2MP'\n",
      " '50MP + 8MP + 2MP + 2MP' '50MP + 2MP' '48MP + 5MP'\n",
      " '64MP + 8MP + 2MP + 2MP' '64MP + 8MP + 5MP' '64MP + 8MP + 5MP + 5MP'\n",
      " '64MP + 12MP + 5MP + 5MP' '48MP + 8MP + 2MP' '48MP + 2MP'\n",
      " '108MP + 12MP + 10MP + 10MP' '64MP + 2MP' '64MP + 8MP'\n",
      " '64MP + 8MP + 5MP + 2MP' '50MP + 5MP' '48MP + 8MP + 5MP + 5MP'\n",
      " '108MP + 8MP + 2MP + 2MP' '48MP + 5MP + 2MP + 2MP' '13MP'\n",
      " '48MP + 8MP + 5MP + 2MP' '13MP + 5MP + 2MP' '8MP'\n",
      " '13MP + 5MP + 2MP + 2MP' '13MP + 8MP + 5MP + 2MP'\n",
      " '13MP + 8MP + 2MP + 2MP' '12MP + 2MP + 2MP' '13MP + 8MP + 2MP'\n",
      " '25MP + 8MP + 5MP' '108+12+12' '48+8+2+2' '12.2+16' '50+20+12+3D'\n",
      " '64+8+2+2' '64+12+5+5' '64+12+2+2' '12+12+12' '108+13+5' '48+2+2'\n",
      " '48+16+5+2' '13+8+5+2' '13+2+2' '48+5+2' '12+7' '108+10+10+12'\n",
      " '108+8+5+2' '50+16+13+2' '50+12+40+3D' '48+50+8+2' '48+8+2' '48+5+2+2'\n",
      " '12+12' '50+8+2+2' '50+8+16+2' '48+12+5' '48+48+8+5' '48+8+5'\n",
      " '40+40+8+3D' '48+12+13' '13+5+2' '48+8+5+2' '40+20+8+ToF' '12+12+8'\n",
      " '48+16+8' '16+8+5' '16+8+8+2' '12+64+12' '64+8+5' '50+40+12+3D'\n",
      " '108+48+12+3D' '48+50+2' '64+2+2' '48+13+12+2' '13+2' '48+8+5+5'\n",
      " '64+12+12' '108+48+12+0.3' '48+16+2' '48+13+8+2']\n",
      "battery [3095 5000 4500 5020 4614 2815 3300 5160 2227 4250 4000 4310 6000 3110\n",
      " 1821 2942 4520 3969 4352 4200 4600 4300 4450 4630 3000 3500 4950 5050\n",
      " 4820 7000 4230 4470 4100 4080 4400 4350 3885 4850 2800 4510 3174 2691\n",
      " 4800 4115 3340 4160 3687 4025]\n",
      "price [ 83916. 100716.  75516.  23436.  67116.  20916.  58716.  27636.  37716.\n",
      "  16716.  25116.  31836.  15036.  61236.  50316.  11676.  15876.  33516.\n",
      "  21756.  13356.  19236.  41916.  10836.  44436.  30996.  92316.  14196.\n",
      "   8316.  38556.  20076. 109116.  36036.  55356.  22596.  30156.  46116.\n",
      "  26796.  29316.  81396.  12516.  18396.   9156.  32676.  25956.  71316.\n",
      "  39396.  17556.   9996.  28476.  24276.  10920.  62916.  54516.  35196.\n",
      " 117516. 167916.  88116.]\n"
     ]
    }
   ],
   "source": [
    "for col in df.columns:\n",
    "    print(df[col].name,df[col].unique())"
   ]
  },
  {
   "cell_type": "code",
   "execution_count": 23,
   "metadata": {},
   "outputs": [],
   "source": [
    "# remove MP and gb"
   ]
  },
  {
   "cell_type": "code",
   "execution_count": 24,
   "metadata": {},
   "outputs": [],
   "source": [
    "df['camera'] = df['camera'].str.replace('MP','')"
   ]
  },
  {
   "cell_type": "code",
   "execution_count": 25,
   "metadata": {},
   "outputs": [
    {
     "data": {
      "text/plain": [
       "array(['12 + 12 + 12', '108 + 10 + 10 + 12', '48 + 50 + 8 + 2',\n",
       "       '64 + 8 + 5 + 2', '50 + 12.2', '12 + 12', '48 + 8 + 2 + 2',\n",
       "       '50 + 13 + 16 + 2', '50 + 48 + 12 + 8', '64 + 8 + 2',\n",
       "       '64 + 12 + 5 + 5', '50 + 50 + 13 + 3', '64 + 8 + 5',\n",
       "       '64 + 12 + 12', '50 + 2 + 2', '48 + 2 + 2', '50 + 8 + 2 + 2',\n",
       "       '48 + 5', '48 + 50 + 2', '108 + 8 + 5 + 2', '13 + 2 + 2', '13 + 2',\n",
       "       '12', '48 + 5 + 2', '50 + 8 + 2', '64 + 8 + 2 + 2', '48 + 8 + 5',\n",
       "       '64 + 8', '48 + 5 + 2 + 2', '50 + 2', '64 + 12 + 8 + 5', '64 + 2',\n",
       "       '48 + 13 + 13', '50 + 12', '50 + 16 + 13 + 2', '108 + 16 + 8',\n",
       "       '48 + 13', '64 + 13 + 12', '64 + 12 + 8', '13 + 5', '108 + 8 + 2',\n",
       "       '64 + 5 + 2 + 2', '64 + 12', '48 + 50 + 8', '50 + 48 + 48',\n",
       "       '8 + 2', '12 + 12 + 8', '64 + 13 + 5', '12 + 13', '64 + 8 + 5 + 5',\n",
       "       '48 + 8 + 2', '48 + 2', '108 + 12 + 10 + 10', '50 + 5',\n",
       "       '48 + 8 + 5 + 5', '108 + 8 + 2 + 2', '13', '48 + 8 + 5 + 2',\n",
       "       '13 + 5 + 2', '8', '13 + 5 + 2 + 2', '13 + 8 + 5 + 2',\n",
       "       '13 + 8 + 2 + 2', '12 + 2 + 2', '13 + 8 + 2', '25 + 8 + 5',\n",
       "       '108+12+12', '48+8+2+2', '12.2+16', '50+20+12+3D', '64+8+2+2',\n",
       "       '64+12+5+5', '64+12+2+2', '12+12+12', '108+13+5', '48+2+2',\n",
       "       '48+16+5+2', '13+8+5+2', '13+2+2', '48+5+2', '12+7',\n",
       "       '108+10+10+12', '108+8+5+2', '50+16+13+2', '50+12+40+3D',\n",
       "       '48+50+8+2', '48+8+2', '48+5+2+2', '12+12', '50+8+2+2',\n",
       "       '50+8+16+2', '48+12+5', '48+48+8+5', '48+8+5', '40+40+8+3D',\n",
       "       '48+12+13', '13+5+2', '48+8+5+2', '40+20+8+ToF', '12+12+8',\n",
       "       '48+16+8', '16+8+5', '16+8+8+2', '12+64+12', '64+8+5',\n",
       "       '50+40+12+3D', '108+48+12+3D', '48+50+2', '64+2+2', '48+13+12+2',\n",
       "       '13+2', '48+8+5+5', '64+12+12', '108+48+12+0.3', '48+16+2',\n",
       "       '48+13+8+2'], dtype=object)"
      ]
     },
     "execution_count": 25,
     "metadata": {},
     "output_type": "execute_result"
    }
   ],
   "source": [
    "df['camera'].unique()"
   ]
  },
  {
   "cell_type": "code",
   "execution_count": 26,
   "metadata": {},
   "outputs": [
    {
     "data": {
      "text/plain": [
       "Index(['Brand', 'Model', 'Storage ', 'RAM ', 'screen_size', 'camera',\n",
       "       'battery', 'price'],\n",
       "      dtype='object')"
      ]
     },
     "execution_count": 26,
     "metadata": {},
     "output_type": "execute_result"
    }
   ],
   "source": [
    "df.columns"
   ]
  },
  {
   "cell_type": "code",
   "execution_count": 27,
   "metadata": {},
   "outputs": [],
   "source": [
    "df.columns=df.columns.str.replace(' ','')"
   ]
  },
  {
   "cell_type": "code",
   "execution_count": 28,
   "metadata": {},
   "outputs": [],
   "source": [
    "df['RAM'] = df['RAM'].str.replace(r'\\D', '', regex=True)"
   ]
  },
  {
   "cell_type": "code",
   "execution_count": 29,
   "metadata": {},
   "outputs": [
    {
     "data": {
      "text/plain": [
       "array(['6', '12', '8', '4', '3', '2', '5', '16'], dtype=object)"
      ]
     },
     "execution_count": 29,
     "metadata": {},
     "output_type": "execute_result"
    }
   ],
   "source": [
    "df['RAM'].unique()"
   ]
  },
  {
   "cell_type": "code",
   "execution_count": 30,
   "metadata": {},
   "outputs": [],
   "source": [
    "df['Storage'] = df['Storage'].str.replace(r'\\D', '', regex=True)"
   ]
  },
  {
   "cell_type": "code",
   "execution_count": 31,
   "metadata": {},
   "outputs": [
    {
     "data": {
      "text/plain": [
       "array(['128', '256', '64', '32', '512'], dtype=object)"
      ]
     },
     "execution_count": 31,
     "metadata": {},
     "output_type": "execute_result"
    }
   ],
   "source": [
    "df['Storage'].unique()"
   ]
  },
  {
   "cell_type": "code",
   "execution_count": 32,
   "metadata": {},
   "outputs": [
    {
     "name": "stdout",
     "output_type": "stream",
     "text": [
      "Brand ['Apple' 'Samsung' 'OnePlus' 'Xiaomi' 'Google' 'Oppo' 'Vivo' 'Realme'\n",
      " 'Motorola' 'Nokia' 'Sony' 'LG' 'Asus' 'Blackberry' 'CAT' 'Huawei']\n",
      "Model ['iPhone 13 Pro' 'Galaxy S21 Ultra' '9 Pro' 'Redmi Note 10 Pro' 'Pixel 6'\n",
      " 'iPhone 13' 'Galaxy Z Flip3' 'Poco X3 Pro' 'Reno6 Pro+ 5G' 'X70 Pro+'\n",
      " 'Nord CE 5G' 'Galaxy A52s 5G' 'GT Neo2' 'iPhone 12 Mini' 'Find X3 Pro'\n",
      " 'Mi 11 Lite 5G NE' 'Galaxy S21' 'Y20s (G)' '8s 5G' 'A94' 'Redmi 10 Prime'\n",
      " 'Galaxy A22 5G' 'Narzo 50 Pro 5G' '9' 'Redmi Note 10 Pro Max' 'iPhone 11'\n",
      " 'Galaxy A03s' 'A74 5G' 'Y12s (2021)' '9i' 'Galaxy M52 5G' 'Redmi 10'\n",
      " 'iPhone SE (2nd Gen)' 'A53s' 'Y33s' 'C25s' 'Galaxy A22 4G' 'Nord 2 5G'\n",
      " 'Poco M3 Pro 5G' 'iPhone XR' 'A16' 'C21Y' 'Galaxy F22' 'F19 Pro+ 5G'\n",
      " 'Mi 11X' 'V21e' '8 5G' 'Galaxy M12' 'A16s' 'Redmi 9 Power'\n",
      " 'iPhone 11 Pro Max' 'Y20G' 'Narzo 50i' 'A54' 'Redmi 9T'\n",
      " 'iPhone 13 Pro Max' 'Y33' 'Galaxy A72' 'Reno6 Pro 5G' 'iPhone SE (2020)'\n",
      " 'Y53s' '7i' 'Galaxy A52 5G' 'F19 Pro' 'Redmi Note 10S' 'Y21s'\n",
      " 'Mi 11 Lite 5G' 'X60 Pro' 'Narzo 50A' 'Nord 2' 'Poco X4 Pro'\n",
      " 'GT Master Edition' 'Reno6 Pro+' 'Edge 20 Pro' 'XR20' 'Xperia 5 III'\n",
      " 'Wing' 'Zenfone 8 Flip' 'KEY2 LE' 'F19 Pro+' 'Moto G60' '5.4' 'K92 5G'\n",
      " 'Zenfone 8' 'KEY2' 'S42' 'Galaxy Z Flip 3' 'Mi 11 Ultra' 'Y12A'\n",
      " 'C20 Plus' 'Galaxy S20 FE 5G' 'Moto E7i Power' 'ROG Phone 5' 'Velvet 5G'\n",
      " 'Evolve' 'Reno 6 Pro+' 'Moto G50' 'G20' 'Galaxy M32' '8i' 'C30'\n",
      " 'Galaxy A32' 'Moto G Stylus 5G' 'Galaxy A21s' 'Y12s' 'F19s'\n",
      " 'Narzo 30 Pro 5G' 'Moto G Pure' 'Reno6 Z 5G' 'Galaxy S21 Ultra 5G' 'G50'\n",
      " 'Redmi 9 Activ' 'A54s' 'Galaxy M22' 'Moto G Power 2022' 'Poco X3 GT'\n",
      " 'Galaxy F42 5G' 'Edge 20 Fusion' 'C21' 'V21 5G' 'Redmi Note 9 Pro Max'\n",
      " 'Moto G Power 2021' 'V21e 5G' 'A53s 5G' 'Mi 11 Lite NE'\n",
      " 'Moto G Stylus 2021' 'A54s 5G' 'Galaxy F41' 'Galaxy M52' 'Moto G50s'\n",
      " 'Galaxy A13' 'Galaxy A42 5G' 'Moto G9 Power Lite' 'Galaxy A22' 'A74'\n",
      " 'Y72 5G' 'Mi 10i' 'Narzo 30 Pro' 'Galaxy M62' 'Galaxy A12' 'A15s'\n",
      " 'C11 2021' 'Redmi 9i' 'A53' '7 5G' 'Galaxy M31s' 'A15' 'G10' 'C25' 'X20'\n",
      " 'Y20s G' 'Reno 6 Pro 5G' 'Y31s' 'Galaxy A32 5G' 'Redmi Note 10' 'V20 SE'\n",
      " '3.4' 'C20' '1.4' 'Galaxy A02s' 'Y51A' 'Narzo 20' '5.3' 'Redmi Note 8'\n",
      " 'Galaxy M11' 'Y20s' 'C11' '2.4' 'Redmi 9' 'Galaxy A11' 'A12' 'C15'\n",
      " '3.1 Plus' 'Redmi Note 7' 'A31' 'Y15' 'Narzo 10A' 'Galaxy A30s'\n",
      " 'Galaxy Note 20 Ultra' 'Pixel 5' 'Mate 40 Pro' 'Nord N10 5G'\n",
      " 'Reno 5 Pro 5G' 'Galaxy A71' '8.3 5G' 'Mi 11' 'Moto G Power (2021)'\n",
      " 'Pixel 4a 5G' 'Nova 8 Pro 5G' 'Galaxy A52' '8T' 'G50 5G' 'Find X3 Neo 5G'\n",
      " 'P40 Pro' 'Moto G Stylus (2021)' 'Pixel 4' 'iPhone 12' 'A94 5G'\n",
      " 'Nova 9 Pro 5G' 'Galaxy S10 Lite' '8 Pro' '7.2' 'Mi 10T Pro'\n",
      " 'Mate 30 Pro 5G' 'Galaxy M51' 'Reno4 Pro 5G' 'Moto G9 Plus'\n",
      " 'iPhone XS Max' 'Redmi Note 9S' 'A92' 'P30 Pro' '7 Pro' '6.2'\n",
      " 'Mi 10T Lite' 'iPhone 8 Plus' 'Moto G8 Power' 'Nova 7i' 'Galaxy S21+ 5G'\n",
      " 'Mi 11 Lite' 'Nord' 'Moto G10' 'P40 Pro+' 'Galaxy Note20 5G' 'Poco M3'\n",
      " 'Galaxy S20 Ultra 5G' 'iPhone 12 mini' 'Moto G9 Power'\n",
      " 'Galaxy Z Fold2 5G' 'Mi 10T Pro 5G' 'Redmi 9C' 'Y7p' 'iPhone 12 Pro' '7'\n",
      " 'A93' 'Moto G Pro' 'P30 Lite' 'Mi 10 Lite 5G' 'iPhone 12 Pro Max' 'Reno3']\n",
      "Storage ['128' '256' '64' '32' '512']\n",
      "RAM ['6' '12' '8' '4' '3' '2' '5' '16']\n",
      "screen_size ['6.1' '6.8' '6.7' '6.67' '6.4' '6.55' '6.78' '6.43' '6.5' '6.62' '5.4'\n",
      " '6.2' '6.51' '6.6' '4.7' '6.58' '6.52' '6.44' '6.53' '6.56' '6.8 + 3.9'\n",
      " '4.5' '6.39' '5.9' '5.5' '6.81' '5.99' '6.82' '6.3' '6.22' '6' '6.35'\n",
      " '6.9' '6.76' '6.49' '6.72' '5.7' '6.47' '7.6 (unfolded)' '6.15' '6.57']\n",
      "camera ['12 + 12 + 12' '108 + 10 + 10 + 12' '48 + 50 + 8 + 2' '64 + 8 + 5 + 2'\n",
      " '50 + 12.2' '12 + 12' '48 + 8 + 2 + 2' '50 + 13 + 16 + 2'\n",
      " '50 + 48 + 12 + 8' '64 + 8 + 2' '64 + 12 + 5 + 5' '50 + 50 + 13 + 3'\n",
      " '64 + 8 + 5' '64 + 12 + 12' '50 + 2 + 2' '48 + 2 + 2' '50 + 8 + 2 + 2'\n",
      " '48 + 5' '48 + 50 + 2' '108 + 8 + 5 + 2' '13 + 2 + 2' '13 + 2' '12'\n",
      " '48 + 5 + 2' '50 + 8 + 2' '64 + 8 + 2 + 2' '48 + 8 + 5' '64 + 8'\n",
      " '48 + 5 + 2 + 2' '50 + 2' '64 + 12 + 8 + 5' '64 + 2' '48 + 13 + 13'\n",
      " '50 + 12' '50 + 16 + 13 + 2' '108 + 16 + 8' '48 + 13' '64 + 13 + 12'\n",
      " '64 + 12 + 8' '13 + 5' '108 + 8 + 2' '64 + 5 + 2 + 2' '64 + 12'\n",
      " '48 + 50 + 8' '50 + 48 + 48' '8 + 2' '12 + 12 + 8' '64 + 13 + 5'\n",
      " '12 + 13' '64 + 8 + 5 + 5' '48 + 8 + 2' '48 + 2' '108 + 12 + 10 + 10'\n",
      " '50 + 5' '48 + 8 + 5 + 5' '108 + 8 + 2 + 2' '13' '48 + 8 + 5 + 2'\n",
      " '13 + 5 + 2' '8' '13 + 5 + 2 + 2' '13 + 8 + 5 + 2' '13 + 8 + 2 + 2'\n",
      " '12 + 2 + 2' '13 + 8 + 2' '25 + 8 + 5' '108+12+12' '48+8+2+2' '12.2+16'\n",
      " '50+20+12+3D' '64+8+2+2' '64+12+5+5' '64+12+2+2' '12+12+12' '108+13+5'\n",
      " '48+2+2' '48+16+5+2' '13+8+5+2' '13+2+2' '48+5+2' '12+7' '108+10+10+12'\n",
      " '108+8+5+2' '50+16+13+2' '50+12+40+3D' '48+50+8+2' '48+8+2' '48+5+2+2'\n",
      " '12+12' '50+8+2+2' '50+8+16+2' '48+12+5' '48+48+8+5' '48+8+5'\n",
      " '40+40+8+3D' '48+12+13' '13+5+2' '48+8+5+2' '40+20+8+ToF' '12+12+8'\n",
      " '48+16+8' '16+8+5' '16+8+8+2' '12+64+12' '64+8+5' '50+40+12+3D'\n",
      " '108+48+12+3D' '48+50+2' '64+2+2' '48+13+12+2' '13+2' '48+8+5+5'\n",
      " '64+12+12' '108+48+12+0.3' '48+16+2' '48+13+8+2']\n",
      "battery [3095 5000 4500 5020 4614 2815 3300 5160 2227 4250 4000 4310 6000 3110\n",
      " 1821 2942 4520 3969 4352 4200 4600 4300 4450 4630 3000 3500 4950 5050\n",
      " 4820 7000 4230 4470 4100 4080 4400 4350 3885 4850 2800 4510 3174 2691\n",
      " 4800 4115 3340 4160 3687 4025]\n",
      "price [ 83916. 100716.  75516.  23436.  67116.  20916.  58716.  27636.  37716.\n",
      "  16716.  25116.  31836.  15036.  61236.  50316.  11676.  15876.  33516.\n",
      "  21756.  13356.  19236.  41916.  10836.  44436.  30996.  92316.  14196.\n",
      "   8316.  38556.  20076. 109116.  36036.  55356.  22596.  30156.  46116.\n",
      "  26796.  29316.  81396.  12516.  18396.   9156.  32676.  25956.  71316.\n",
      "  39396.  17556.   9996.  28476.  24276.  10920.  62916.  54516.  35196.\n",
      " 117516. 167916.  88116.]\n"
     ]
    }
   ],
   "source": [
    "for col in df.columns:\n",
    "    print(df[col].name,df[col].unique())"
   ]
  },
  {
   "cell_type": "code",
   "execution_count": 33,
   "metadata": {},
   "outputs": [],
   "source": [
    "#remove spaces in camera"
   ]
  },
  {
   "cell_type": "code",
   "execution_count": 34,
   "metadata": {},
   "outputs": [],
   "source": [
    "df['camera'] = df['camera'].str.replace(' ','')"
   ]
  },
  {
   "cell_type": "code",
   "execution_count": 35,
   "metadata": {},
   "outputs": [
    {
     "data": {
      "text/plain": [
       "array(['12+12+12', '108+10+10+12', '48+50+8+2', '64+8+5+2', '50+12.2',\n",
       "       '12+12', '48+8+2+2', '50+13+16+2', '50+48+12+8', '64+8+2',\n",
       "       '64+12+5+5', '50+50+13+3', '64+8+5', '64+12+12', '50+2+2',\n",
       "       '48+2+2', '50+8+2+2', '48+5', '48+50+2', '108+8+5+2', '13+2+2',\n",
       "       '13+2', '12', '48+5+2', '50+8+2', '64+8+2+2', '48+8+5', '64+8',\n",
       "       '48+5+2+2', '50+2', '64+12+8+5', '64+2', '48+13+13', '50+12',\n",
       "       '50+16+13+2', '108+16+8', '48+13', '64+13+12', '64+12+8', '13+5',\n",
       "       '108+8+2', '64+5+2+2', '64+12', '48+50+8', '50+48+48', '8+2',\n",
       "       '12+12+8', '64+13+5', '12+13', '64+8+5+5', '48+8+2', '48+2',\n",
       "       '108+12+10+10', '50+5', '48+8+5+5', '108+8+2+2', '13', '48+8+5+2',\n",
       "       '13+5+2', '8', '13+5+2+2', '13+8+5+2', '13+8+2+2', '12+2+2',\n",
       "       '13+8+2', '25+8+5', '108+12+12', '12.2+16', '50+20+12+3D',\n",
       "       '64+12+2+2', '108+13+5', '48+16+5+2', '12+7', '50+12+40+3D',\n",
       "       '50+8+16+2', '48+12+5', '48+48+8+5', '40+40+8+3D', '48+12+13',\n",
       "       '40+20+8+ToF', '48+16+8', '16+8+5', '16+8+8+2', '12+64+12',\n",
       "       '50+40+12+3D', '108+48+12+3D', '64+2+2', '48+13+12+2',\n",
       "       '108+48+12+0.3', '48+16+2', '48+13+8+2'], dtype=object)"
      ]
     },
     "execution_count": 35,
     "metadata": {},
     "output_type": "execute_result"
    }
   ],
   "source": [
    "df['camera'].unique()"
   ]
  },
  {
   "cell_type": "code",
   "execution_count": 36,
   "metadata": {},
   "outputs": [
    {
     "data": {
      "text/html": [
       "<div>\n",
       "<style scoped>\n",
       "    .dataframe tbody tr th:only-of-type {\n",
       "        vertical-align: middle;\n",
       "    }\n",
       "\n",
       "    .dataframe tbody tr th {\n",
       "        vertical-align: top;\n",
       "    }\n",
       "\n",
       "    .dataframe thead th {\n",
       "        text-align: right;\n",
       "    }\n",
       "</style>\n",
       "<table border=\"1\" class=\"dataframe\">\n",
       "  <thead>\n",
       "    <tr style=\"text-align: right;\">\n",
       "      <th></th>\n",
       "      <th>Brand</th>\n",
       "      <th>Model</th>\n",
       "      <th>Storage</th>\n",
       "      <th>RAM</th>\n",
       "      <th>screen_size</th>\n",
       "      <th>camera</th>\n",
       "      <th>battery</th>\n",
       "      <th>price</th>\n",
       "    </tr>\n",
       "  </thead>\n",
       "  <tbody>\n",
       "    <tr>\n",
       "      <th>0</th>\n",
       "      <td>Apple</td>\n",
       "      <td>iPhone 13 Pro</td>\n",
       "      <td>128</td>\n",
       "      <td>6</td>\n",
       "      <td>6.1</td>\n",
       "      <td>12+12+12</td>\n",
       "      <td>3095</td>\n",
       "      <td>83916.0</td>\n",
       "    </tr>\n",
       "    <tr>\n",
       "      <th>1</th>\n",
       "      <td>Samsung</td>\n",
       "      <td>Galaxy S21 Ultra</td>\n",
       "      <td>256</td>\n",
       "      <td>12</td>\n",
       "      <td>6.8</td>\n",
       "      <td>108+10+10+12</td>\n",
       "      <td>5000</td>\n",
       "      <td>100716.0</td>\n",
       "    </tr>\n",
       "    <tr>\n",
       "      <th>2</th>\n",
       "      <td>OnePlus</td>\n",
       "      <td>9 Pro</td>\n",
       "      <td>128</td>\n",
       "      <td>8</td>\n",
       "      <td>6.7</td>\n",
       "      <td>48+50+8+2</td>\n",
       "      <td>4500</td>\n",
       "      <td>75516.0</td>\n",
       "    </tr>\n",
       "    <tr>\n",
       "      <th>3</th>\n",
       "      <td>Xiaomi</td>\n",
       "      <td>Redmi Note 10 Pro</td>\n",
       "      <td>128</td>\n",
       "      <td>6</td>\n",
       "      <td>6.67</td>\n",
       "      <td>64+8+5+2</td>\n",
       "      <td>5020</td>\n",
       "      <td>23436.0</td>\n",
       "    </tr>\n",
       "    <tr>\n",
       "      <th>4</th>\n",
       "      <td>Google</td>\n",
       "      <td>Pixel 6</td>\n",
       "      <td>128</td>\n",
       "      <td>8</td>\n",
       "      <td>6.4</td>\n",
       "      <td>50+12.2</td>\n",
       "      <td>4614</td>\n",
       "      <td>67116.0</td>\n",
       "    </tr>\n",
       "    <tr>\n",
       "      <th>5</th>\n",
       "      <td>Apple</td>\n",
       "      <td>iPhone 13</td>\n",
       "      <td>128</td>\n",
       "      <td>4</td>\n",
       "      <td>6.1</td>\n",
       "      <td>12+12</td>\n",
       "      <td>2815</td>\n",
       "      <td>67116.0</td>\n",
       "    </tr>\n",
       "    <tr>\n",
       "      <th>6</th>\n",
       "      <td>Samsung</td>\n",
       "      <td>Galaxy Z Flip3</td>\n",
       "      <td>256</td>\n",
       "      <td>8</td>\n",
       "      <td>6.7</td>\n",
       "      <td>12+12</td>\n",
       "      <td>3300</td>\n",
       "      <td>83916.0</td>\n",
       "    </tr>\n",
       "    <tr>\n",
       "      <th>7</th>\n",
       "      <td>Xiaomi</td>\n",
       "      <td>Poco X3 Pro</td>\n",
       "      <td>128</td>\n",
       "      <td>6</td>\n",
       "      <td>6.67</td>\n",
       "      <td>48+8+2+2</td>\n",
       "      <td>5160</td>\n",
       "      <td>20916.0</td>\n",
       "    </tr>\n",
       "    <tr>\n",
       "      <th>8</th>\n",
       "      <td>Oppo</td>\n",
       "      <td>Reno6 Pro+ 5G</td>\n",
       "      <td>128</td>\n",
       "      <td>8</td>\n",
       "      <td>6.55</td>\n",
       "      <td>50+13+16+2</td>\n",
       "      <td>4500</td>\n",
       "      <td>58716.0</td>\n",
       "    </tr>\n",
       "    <tr>\n",
       "      <th>9</th>\n",
       "      <td>Vivo</td>\n",
       "      <td>X70 Pro+</td>\n",
       "      <td>256</td>\n",
       "      <td>12</td>\n",
       "      <td>6.78</td>\n",
       "      <td>50+48+12+8</td>\n",
       "      <td>4500</td>\n",
       "      <td>100716.0</td>\n",
       "    </tr>\n",
       "  </tbody>\n",
       "</table>\n",
       "</div>"
      ],
      "text/plain": [
       "     Brand              Model Storage RAM screen_size        camera  battery  \\\n",
       "0    Apple      iPhone 13 Pro     128   6         6.1      12+12+12     3095   \n",
       "1  Samsung   Galaxy S21 Ultra     256  12         6.8  108+10+10+12     5000   \n",
       "2  OnePlus              9 Pro     128   8         6.7     48+50+8+2     4500   \n",
       "3   Xiaomi  Redmi Note 10 Pro     128   6        6.67      64+8+5+2     5020   \n",
       "4   Google            Pixel 6     128   8         6.4       50+12.2     4614   \n",
       "5    Apple          iPhone 13     128   4         6.1         12+12     2815   \n",
       "6  Samsung     Galaxy Z Flip3     256   8         6.7         12+12     3300   \n",
       "7   Xiaomi        Poco X3 Pro     128   6        6.67      48+8+2+2     5160   \n",
       "8     Oppo      Reno6 Pro+ 5G     128   8        6.55    50+13+16+2     4500   \n",
       "9     Vivo           X70 Pro+     256  12        6.78    50+48+12+8     4500   \n",
       "\n",
       "      price  \n",
       "0   83916.0  \n",
       "1  100716.0  \n",
       "2   75516.0  \n",
       "3   23436.0  \n",
       "4   67116.0  \n",
       "5   67116.0  \n",
       "6   83916.0  \n",
       "7   20916.0  \n",
       "8   58716.0  \n",
       "9  100716.0  "
      ]
     },
     "execution_count": 36,
     "metadata": {},
     "output_type": "execute_result"
    }
   ],
   "source": [
    "df.head(10)"
   ]
  },
  {
   "cell_type": "code",
   "execution_count": 37,
   "metadata": {},
   "outputs": [],
   "source": [
    "# from category_encoders import TargetEncoder\n",
    "# target_encoder = TargetEncoder()\n",
    "# df['Model'] = target_encoder.fit_transform(df['Model'], df['price']).round(2)\n"
   ]
  },
  {
   "cell_type": "code",
   "execution_count": 38,
   "metadata": {},
   "outputs": [
    {
     "data": {
      "text/html": [
       "<div>\n",
       "<style scoped>\n",
       "    .dataframe tbody tr th:only-of-type {\n",
       "        vertical-align: middle;\n",
       "    }\n",
       "\n",
       "    .dataframe tbody tr th {\n",
       "        vertical-align: top;\n",
       "    }\n",
       "\n",
       "    .dataframe thead th {\n",
       "        text-align: right;\n",
       "    }\n",
       "</style>\n",
       "<table border=\"1\" class=\"dataframe\">\n",
       "  <thead>\n",
       "    <tr style=\"text-align: right;\">\n",
       "      <th></th>\n",
       "      <th>Brand</th>\n",
       "      <th>Model</th>\n",
       "      <th>Storage</th>\n",
       "      <th>RAM</th>\n",
       "      <th>screen_size</th>\n",
       "      <th>camera</th>\n",
       "      <th>battery</th>\n",
       "      <th>price</th>\n",
       "    </tr>\n",
       "  </thead>\n",
       "  <tbody>\n",
       "    <tr>\n",
       "      <th>0</th>\n",
       "      <td>Apple</td>\n",
       "      <td>iPhone 13 Pro</td>\n",
       "      <td>128</td>\n",
       "      <td>6</td>\n",
       "      <td>6.1</td>\n",
       "      <td>12+12+12</td>\n",
       "      <td>3095</td>\n",
       "      <td>83916.0</td>\n",
       "    </tr>\n",
       "    <tr>\n",
       "      <th>1</th>\n",
       "      <td>Samsung</td>\n",
       "      <td>Galaxy S21 Ultra</td>\n",
       "      <td>256</td>\n",
       "      <td>12</td>\n",
       "      <td>6.8</td>\n",
       "      <td>108+10+10+12</td>\n",
       "      <td>5000</td>\n",
       "      <td>100716.0</td>\n",
       "    </tr>\n",
       "  </tbody>\n",
       "</table>\n",
       "</div>"
      ],
      "text/plain": [
       "     Brand             Model Storage RAM screen_size        camera  battery  \\\n",
       "0    Apple     iPhone 13 Pro     128   6         6.1      12+12+12     3095   \n",
       "1  Samsung  Galaxy S21 Ultra     256  12         6.8  108+10+10+12     5000   \n",
       "\n",
       "      price  \n",
       "0   83916.0  \n",
       "1  100716.0  "
      ]
     },
     "execution_count": 38,
     "metadata": {},
     "output_type": "execute_result"
    }
   ],
   "source": [
    "df.head(2)"
   ]
  },
  {
   "cell_type": "markdown",
   "metadata": {},
   "source": [
    "# target encoding was not good bcoz i was getting some 40754.09 this type of value"
   ]
  },
  {
   "cell_type": "code",
   "execution_count": 39,
   "metadata": {},
   "outputs": [],
   "source": [
    "from sklearn.preprocessing import LabelEncoder,StandardScaler"
   ]
  },
  {
   "cell_type": "code",
   "execution_count": 40,
   "metadata": {},
   "outputs": [],
   "source": [
    "le = LabelEncoder()\n",
    "stc = StandardScaler()"
   ]
  },
  {
   "cell_type": "code",
   "execution_count": 41,
   "metadata": {},
   "outputs": [
    {
     "name": "stdout",
     "output_type": "stream",
     "text": [
      "['Brand', 'Model', 'Storage', 'RAM', 'screen_size', 'camera']\n",
      "['battery', 'price']\n"
     ]
    }
   ],
   "source": [
    "cat_cols = []\n",
    "num_cols = []\n",
    "for col in df.columns:\n",
    "    if df[col].dtype == 'object':\n",
    "        cat_cols.append(col)\n",
    "    else:\n",
    "        num_cols.append(col)\n",
    "\n",
    "print(cat_cols)\n",
    "print(num_cols)"
   ]
  },
  {
   "cell_type": "code",
   "execution_count": 42,
   "metadata": {},
   "outputs": [],
   "source": [
    "num_cols.remove('price')"
   ]
  },
  {
   "cell_type": "code",
   "execution_count": 43,
   "metadata": {},
   "outputs": [
    {
     "data": {
      "text/plain": [
       "['battery']"
      ]
     },
     "execution_count": 43,
     "metadata": {},
     "output_type": "execute_result"
    }
   ],
   "source": [
    "num_cols"
   ]
  },
  {
   "cell_type": "code",
   "execution_count": 44,
   "metadata": {},
   "outputs": [
    {
     "name": "stderr",
     "output_type": "stream",
     "text": [
      "/Applications/anaconda3/envs/95m/lib/python3.12/site-packages/sklearn/preprocessing/_label.py:114: DataConversionWarning: A column-vector y was passed when a 1d array was expected. Please change the shape of y to (n_samples, ), for example using ravel().\n",
      "  y = column_or_1d(y, warn=True)\n",
      "/Applications/anaconda3/envs/95m/lib/python3.12/site-packages/sklearn/preprocessing/_label.py:114: DataConversionWarning: A column-vector y was passed when a 1d array was expected. Please change the shape of y to (n_samples, ), for example using ravel().\n",
      "  y = column_or_1d(y, warn=True)\n",
      "/Applications/anaconda3/envs/95m/lib/python3.12/site-packages/sklearn/preprocessing/_label.py:114: DataConversionWarning: A column-vector y was passed when a 1d array was expected. Please change the shape of y to (n_samples, ), for example using ravel().\n",
      "  y = column_or_1d(y, warn=True)\n",
      "/Applications/anaconda3/envs/95m/lib/python3.12/site-packages/sklearn/preprocessing/_label.py:114: DataConversionWarning: A column-vector y was passed when a 1d array was expected. Please change the shape of y to (n_samples, ), for example using ravel().\n",
      "  y = column_or_1d(y, warn=True)\n",
      "/Applications/anaconda3/envs/95m/lib/python3.12/site-packages/sklearn/preprocessing/_label.py:114: DataConversionWarning: A column-vector y was passed when a 1d array was expected. Please change the shape of y to (n_samples, ), for example using ravel().\n",
      "  y = column_or_1d(y, warn=True)\n",
      "/Applications/anaconda3/envs/95m/lib/python3.12/site-packages/sklearn/preprocessing/_label.py:114: DataConversionWarning: A column-vector y was passed when a 1d array was expected. Please change the shape of y to (n_samples, ), for example using ravel().\n",
      "  y = column_or_1d(y, warn=True)\n"
     ]
    },
    {
     "data": {
      "text/html": [
       "<div>\n",
       "<style scoped>\n",
       "    .dataframe tbody tr th:only-of-type {\n",
       "        vertical-align: middle;\n",
       "    }\n",
       "\n",
       "    .dataframe tbody tr th {\n",
       "        vertical-align: top;\n",
       "    }\n",
       "\n",
       "    .dataframe thead th {\n",
       "        text-align: right;\n",
       "    }\n",
       "</style>\n",
       "<table border=\"1\" class=\"dataframe\">\n",
       "  <thead>\n",
       "    <tr style=\"text-align: right;\">\n",
       "      <th></th>\n",
       "      <th>Brand</th>\n",
       "      <th>Model</th>\n",
       "      <th>Storage</th>\n",
       "      <th>RAM</th>\n",
       "      <th>screen_size</th>\n",
       "      <th>camera</th>\n",
       "      <th>battery</th>\n",
       "      <th>price</th>\n",
       "    </tr>\n",
       "  </thead>\n",
       "  <tbody>\n",
       "    <tr>\n",
       "      <th>0</th>\n",
       "      <td>0</td>\n",
       "      <td>232</td>\n",
       "      <td>0</td>\n",
       "      <td>6</td>\n",
       "      <td>8</td>\n",
       "      <td>12</td>\n",
       "      <td>3095</td>\n",
       "      <td>83916.0</td>\n",
       "    </tr>\n",
       "    <tr>\n",
       "      <th>1</th>\n",
       "      <td>12</td>\n",
       "      <td>100</td>\n",
       "      <td>1</td>\n",
       "      <td>0</td>\n",
       "      <td>35</td>\n",
       "      <td>0</td>\n",
       "      <td>5000</td>\n",
       "      <td>100716.0</td>\n",
       "    </tr>\n",
       "  </tbody>\n",
       "</table>\n",
       "</div>"
      ],
      "text/plain": [
       "   Brand  Model  Storage  RAM  screen_size  camera  battery     price\n",
       "0      0    232        0    6            8      12     3095   83916.0\n",
       "1     12    100        1    0           35       0     5000  100716.0"
      ]
     },
     "execution_count": 44,
     "metadata": {},
     "output_type": "execute_result"
    }
   ],
   "source": [
    "for col in df[cat_cols]:\n",
    "    df[col] = le.fit_transform(df[[col]])\n",
    "df.head(2)"
   ]
  },
  {
   "cell_type": "code",
   "execution_count": 45,
   "metadata": {},
   "outputs": [],
   "source": [
    "df[num_cols] = stc.fit_transform(df[num_cols])"
   ]
  },
  {
   "cell_type": "code",
   "execution_count": 46,
   "metadata": {},
   "outputs": [
    {
     "data": {
      "text/html": [
       "<div>\n",
       "<style scoped>\n",
       "    .dataframe tbody tr th:only-of-type {\n",
       "        vertical-align: middle;\n",
       "    }\n",
       "\n",
       "    .dataframe tbody tr th {\n",
       "        vertical-align: top;\n",
       "    }\n",
       "\n",
       "    .dataframe thead th {\n",
       "        text-align: right;\n",
       "    }\n",
       "</style>\n",
       "<table border=\"1\" class=\"dataframe\">\n",
       "  <thead>\n",
       "    <tr style=\"text-align: right;\">\n",
       "      <th></th>\n",
       "      <th>Brand</th>\n",
       "      <th>Model</th>\n",
       "      <th>Storage</th>\n",
       "      <th>RAM</th>\n",
       "      <th>screen_size</th>\n",
       "      <th>camera</th>\n",
       "      <th>battery</th>\n",
       "      <th>price</th>\n",
       "    </tr>\n",
       "  </thead>\n",
       "  <tbody>\n",
       "    <tr>\n",
       "      <th>0</th>\n",
       "      <td>0</td>\n",
       "      <td>232</td>\n",
       "      <td>0</td>\n",
       "      <td>6</td>\n",
       "      <td>8</td>\n",
       "      <td>12</td>\n",
       "      <td>-1.986246</td>\n",
       "      <td>83916.0</td>\n",
       "    </tr>\n",
       "    <tr>\n",
       "      <th>1</th>\n",
       "      <td>12</td>\n",
       "      <td>100</td>\n",
       "      <td>1</td>\n",
       "      <td>0</td>\n",
       "      <td>35</td>\n",
       "      <td>0</td>\n",
       "      <td>0.406327</td>\n",
       "      <td>100716.0</td>\n",
       "    </tr>\n",
       "  </tbody>\n",
       "</table>\n",
       "</div>"
      ],
      "text/plain": [
       "   Brand  Model  Storage  RAM  screen_size  camera   battery     price\n",
       "0      0    232        0    6            8      12 -1.986246   83916.0\n",
       "1     12    100        1    0           35       0  0.406327  100716.0"
      ]
     },
     "execution_count": 46,
     "metadata": {},
     "output_type": "execute_result"
    }
   ],
   "source": [
    "df.head(2)"
   ]
  },
  {
   "cell_type": "markdown",
   "metadata": {},
   "source": [
    "# data split"
   ]
  },
  {
   "cell_type": "code",
   "execution_count": 47,
   "metadata": {},
   "outputs": [],
   "source": [
    "from sklearn.model_selection import train_test_split"
   ]
  },
  {
   "cell_type": "code",
   "execution_count": 48,
   "metadata": {},
   "outputs": [],
   "source": [
    "X=df.drop('price',axis=1)"
   ]
  },
  {
   "cell_type": "code",
   "execution_count": 49,
   "metadata": {},
   "outputs": [],
   "source": [
    "y=df['price']"
   ]
  },
  {
   "cell_type": "code",
   "execution_count": 50,
   "metadata": {},
   "outputs": [],
   "source": [
    "X_train,X_test,y_train,y_test = train_test_split(X,y,test_size=0.2,random_state=21)"
   ]
  },
  {
   "cell_type": "markdown",
   "metadata": {},
   "source": [
    "# Model Building"
   ]
  },
  {
   "cell_type": "code",
   "execution_count": 51,
   "metadata": {},
   "outputs": [],
   "source": [
    "from sklearn.linear_model import LinearRegression\n",
    "from sklearn.ensemble import RandomForestRegressor\n",
    "from sklearn.tree import DecisionTreeRegressor"
   ]
  },
  {
   "cell_type": "code",
   "execution_count": 52,
   "metadata": {},
   "outputs": [],
   "source": [
    "models = {\n",
    "    \"lr\":LinearRegression(),\n",
    "    \"rfr\":RandomForestRegressor(),\n",
    "    \"dtr\":DecisionTreeRegressor()\n",
    "}"
   ]
  },
  {
   "cell_type": "code",
   "execution_count": 53,
   "metadata": {},
   "outputs": [],
   "source": [
    "grid_param = {\n",
    "    \"lr\":{\n",
    "        \"fit_intercept\":[False,True]\n",
    "    },\n",
    "    \"rfr\":{\n",
    "        \"n_estimators\":[15,17,19],\n",
    "        \"criterion\": [\"squared_error\", \"absolute_error\", \"friedman_mse\", \"poisson\"],\n",
    "        \"bootstrap\" : [True,False],\n",
    "        \"oob_score\" : [True,False]\n",
    "\n",
    "    },\n",
    "    \"dtr\":{\n",
    "        \"criterion\": [\"squared_error\", \"absolute_error\", \"friedman_mse\", \"poisson\"],\n",
    "        \"splitter\":[\"best\",\"random\"]\n",
    "    }\n",
    "}"
   ]
  },
  {
   "cell_type": "code",
   "execution_count": 54,
   "metadata": {},
   "outputs": [],
   "source": [
    "from sklearn.model_selection import GridSearchCV"
   ]
  },
  {
   "cell_type": "code",
   "execution_count": 58,
   "metadata": {},
   "outputs": [
    {
     "name": "stdout",
     "output_type": "stream",
     "text": [
      "Best parameters:  {'fit_intercept': True}\n",
      "best score:  0.4257551928113267\n",
      "best estimator:  LinearRegression()\n"
     ]
    },
    {
     "name": "stderr",
     "output_type": "stream",
     "text": [
      "/Applications/anaconda3/envs/95m/lib/python3.12/site-packages/sklearn/ensemble/_forest.py:615: UserWarning: Some inputs do not have OOB scores. This probably means too few trees were used to compute any reliable OOB estimates.\n",
      "  warn(\n",
      "/Applications/anaconda3/envs/95m/lib/python3.12/site-packages/sklearn/ensemble/_forest.py:615: UserWarning: Some inputs do not have OOB scores. This probably means too few trees were used to compute any reliable OOB estimates.\n",
      "  warn(\n",
      "/Applications/anaconda3/envs/95m/lib/python3.12/site-packages/sklearn/ensemble/_forest.py:615: UserWarning: Some inputs do not have OOB scores. This probably means too few trees were used to compute any reliable OOB estimates.\n",
      "  warn(\n",
      "/Applications/anaconda3/envs/95m/lib/python3.12/site-packages/sklearn/ensemble/_forest.py:615: UserWarning: Some inputs do not have OOB scores. This probably means too few trees were used to compute any reliable OOB estimates.\n",
      "  warn(\n",
      "/Applications/anaconda3/envs/95m/lib/python3.12/site-packages/sklearn/ensemble/_forest.py:615: UserWarning: Some inputs do not have OOB scores. This probably means too few trees were used to compute any reliable OOB estimates.\n",
      "  warn(\n",
      "/Applications/anaconda3/envs/95m/lib/python3.12/site-packages/sklearn/ensemble/_forest.py:615: UserWarning: Some inputs do not have OOB scores. This probably means too few trees were used to compute any reliable OOB estimates.\n",
      "  warn(\n",
      "/Applications/anaconda3/envs/95m/lib/python3.12/site-packages/sklearn/ensemble/_forest.py:615: UserWarning: Some inputs do not have OOB scores. This probably means too few trees were used to compute any reliable OOB estimates.\n",
      "  warn(\n",
      "/Applications/anaconda3/envs/95m/lib/python3.12/site-packages/sklearn/ensemble/_forest.py:615: UserWarning: Some inputs do not have OOB scores. This probably means too few trees were used to compute any reliable OOB estimates.\n",
      "  warn(\n"
     ]
    },
    {
     "name": "stdout",
     "output_type": "stream",
     "text": [
      "Best parameters:  {'bootstrap': True, 'criterion': 'absolute_error', 'n_estimators': 17, 'oob_score': False}\n",
      "best score:  0.8460637419923771\n",
      "best estimator:  RandomForestRegressor(criterion='absolute_error', n_estimators=17)\n",
      "Best parameters:  {'criterion': 'absolute_error', 'splitter': 'best'}\n",
      "best score:  0.719461577466457\n",
      "best estimator:  DecisionTreeRegressor(criterion='absolute_error')\n",
      "Best Model Type: rfr\n",
      "Best Model Score: 0.8460637419923771\n",
      "Best Model: RandomForestRegressor(criterion='absolute_error', n_estimators=17)\n"
     ]
    },
    {
     "name": "stderr",
     "output_type": "stream",
     "text": [
      "/Applications/anaconda3/envs/95m/lib/python3.12/site-packages/sklearn/model_selection/_validation.py:540: FitFailedWarning: \n",
      "60 fits failed out of a total of 240.\n",
      "The score on these train-test partitions for these parameters will be set to nan.\n",
      "If these failures are not expected, you can try to debug them by setting error_score='raise'.\n",
      "\n",
      "Below are more details about the failures:\n",
      "--------------------------------------------------------------------------------\n",
      "60 fits failed with the following error:\n",
      "Traceback (most recent call last):\n",
      "  File \"/Applications/anaconda3/envs/95m/lib/python3.12/site-packages/sklearn/model_selection/_validation.py\", line 888, in _fit_and_score\n",
      "    estimator.fit(X_train, y_train, **fit_params)\n",
      "  File \"/Applications/anaconda3/envs/95m/lib/python3.12/site-packages/sklearn/base.py\", line 1473, in wrapper\n",
      "    return fit_method(estimator, *args, **kwargs)\n",
      "           ^^^^^^^^^^^^^^^^^^^^^^^^^^^^^^^^^^^^^^\n",
      "  File \"/Applications/anaconda3/envs/95m/lib/python3.12/site-packages/sklearn/ensemble/_forest.py\", line 450, in fit\n",
      "    raise ValueError(\"Out of bag estimation only available if bootstrap=True\")\n",
      "ValueError: Out of bag estimation only available if bootstrap=True\n",
      "\n",
      "  warnings.warn(some_fits_failed_message, FitFailedWarning)\n",
      "/Applications/anaconda3/envs/95m/lib/python3.12/site-packages/sklearn/model_selection/_search.py:1103: UserWarning: One or more of the test scores are non-finite: [0.83300089 0.81959479 0.80927954 0.82419531 0.82782971 0.81971781\n",
      " 0.83785488 0.80966517 0.81302019 0.84606374 0.83084971 0.83810123\n",
      " 0.83261105 0.80206869 0.83293064 0.8018513  0.83194192 0.8295918\n",
      " 0.80521226 0.78594531 0.78851366 0.77202077 0.7807576  0.76328147\n",
      "        nan 0.66695463        nan 0.70534682        nan 0.69030094\n",
      "        nan 0.7412296         nan 0.74783194        nan 0.7378995\n",
      "        nan 0.64667013        nan 0.66827188        nan 0.68910733\n",
      "        nan 0.70302164        nan 0.705999          nan 0.71093949]\n",
      "  warnings.warn(\n"
     ]
    }
   ],
   "source": [
    "best_score = -float(\"inf\")\n",
    "best_model = None\n",
    "best_model_name = None\n",
    "\n",
    "\n",
    "for model_name,model in models.items():\n",
    "    models_gdr = GridSearchCV(model,param_grid=grid_param[model_name],cv=5)\n",
    "    models_gdr.fit(X_train,y_train)\n",
    "    print(\"Best parameters: \", models_gdr.best_params_)\n",
    "    print(\"best score: \", models_gdr.best_score_)\n",
    "    print(\"best estimator: \", models_gdr.best_estimator_)\n",
    "\n",
    "    if models_gdr.best_score_>best_score:\n",
    "        best_score = models_gdr.best_score_\n",
    "        best_model = models_gdr.best_estimator_\n",
    "        best_model_name = model_name\n",
    "\n",
    "\n",
    "print(\"Best Model Type:\", best_model_name)\n",
    "print(\"Best Model Score:\", best_score)\n",
    "print(\"Best Model:\", best_model)"
   ]
  },
  {
   "cell_type": "code",
   "execution_count": 60,
   "metadata": {},
   "outputs": [
    {
     "name": "stderr",
     "output_type": "stream",
     "text": [
      "/Applications/anaconda3/envs/95m/lib/python3.12/site-packages/sklearn/base.py:493: UserWarning: X does not have valid feature names, but RandomForestRegressor was fitted with feature names\n",
      "  warnings.warn(\n"
     ]
    },
    {
     "data": {
      "text/plain": [
       "array([76751.29411765])"
      ]
     },
     "execution_count": 60,
     "metadata": {},
     "output_type": "execute_result"
    }
   ],
   "source": [
    "best_model.predict([[0,232,0,6,8,12,-1.986246]])"
   ]
  },
  {
   "cell_type": "code",
   "execution_count": null,
   "metadata": {},
   "outputs": [],
   "source": []
  }
 ],
 "metadata": {
  "kernelspec": {
   "display_name": "95m",
   "language": "python",
   "name": "python3"
  },
  "language_info": {
   "codemirror_mode": {
    "name": "ipython",
    "version": 3
   },
   "file_extension": ".py",
   "mimetype": "text/x-python",
   "name": "python",
   "nbconvert_exporter": "python",
   "pygments_lexer": "ipython3",
   "version": "3.12.5"
  }
 },
 "nbformat": 4,
 "nbformat_minor": 2
}
