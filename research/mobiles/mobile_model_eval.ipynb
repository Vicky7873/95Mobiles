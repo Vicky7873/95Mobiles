{
 "cells": [
  {
   "cell_type": "code",
   "execution_count": 1,
   "metadata": {},
   "outputs": [],
   "source": [
    "import os"
   ]
  },
  {
   "cell_type": "code",
   "execution_count": 2,
   "metadata": {},
   "outputs": [],
   "source": [
    "os.chdir('../../')"
   ]
  },
  {
   "cell_type": "code",
   "execution_count": 3,
   "metadata": {},
   "outputs": [
    {
     "data": {
      "text/plain": [
       "'/Users/bhikipallai/Desktop/Projects/95Mobiles'"
      ]
     },
     "execution_count": 3,
     "metadata": {},
     "output_type": "execute_result"
    }
   ],
   "source": [
    "%pwd"
   ]
  },
  {
   "cell_type": "code",
   "execution_count": 4,
   "metadata": {},
   "outputs": [],
   "source": [
    "from dataclasses import dataclass\n",
    "from pathlib import Path\n",
    "\n",
    "@dataclass(frozen=True)\n",
    "class mobile_model_eval_config:\n",
    "    root_dir: Path\n",
    "    X_train: Path\n",
    "    X_test: Path\n",
    "    y_train:Path\n",
    "    y_test: Path\n",
    "    model_for_train: Path\n",
    "    save_score: Path"
   ]
  },
  {
   "cell_type": "code",
   "execution_count": 5,
   "metadata": {},
   "outputs": [
    {
     "name": "stdout",
     "output_type": "stream",
     "text": [
      "[2024-10-06 19:02:07,634: INFO]: Logging file start\n"
     ]
    }
   ],
   "source": [
    "from src.mobiles.constants import *\n",
    "from src.mobiles.utils.common import read_yaml,create_directory"
   ]
  },
  {
   "cell_type": "code",
   "execution_count": 6,
   "metadata": {},
   "outputs": [],
   "source": [
    "class ConfigurationManger:\n",
    "    def __init__(self,config_filepath = CONFIG_FILE_PATH,params_filepath = PARAMS_FILE_PATH) :\n",
    "        self.config = read_yaml(config_filepath)\n",
    "        self.params = read_yaml(params_filepath)\n",
    "        create_directory([self.config.data_root])\n",
    "\n",
    "    def get_model_eval(self) -> mobile_model_eval_config:\n",
    "        config = self.config.model_eval\n",
    "        create_directory([config.root_dir])\n",
    "\n",
    "        model_eval = mobile_model_eval_config(\n",
    "            root_dir=config.root_dir,\n",
    "            X_train = config.X_train,\n",
    "            X_test = config.X_test,\n",
    "            y_train=config.y_train,\n",
    "            y_test=config.y_test,\n",
    "            save_score=config.save_score,\n",
    "            model_for_train=config.model_for_train\n",
    "        )\n",
    "\n",
    "        return model_eval"
   ]
  },
  {
   "cell_type": "code",
   "execution_count": 7,
   "metadata": {},
   "outputs": [],
   "source": [
    "from sklearn.metrics import r2_score\n",
    "import pandas as pd\n",
    "import joblib\n",
    "import json\n",
    "import dagshub\n",
    "import mlflow"
   ]
  },
  {
   "cell_type": "code",
   "execution_count": 8,
   "metadata": {},
   "outputs": [],
   "source": [
    "class MobilemodelEval:\n",
    "    def __init__(self,config: mobile_model_eval_config):\n",
    "        self.config = config\n",
    "\n",
    "    def model_eval(self):\n",
    "        X_train = pd.read_csv(self.config.X_train)\n",
    "        X_test = pd.read_csv(self.config.X_test)\n",
    "        y_train = pd.read_csv(self.config.y_train)\n",
    "        y_test = pd.read_csv(self.config.y_test)\n",
    "\n",
    "\n",
    "        model = joblib.load(self.config.model_for_train)\n",
    "\n",
    "        dagshub.init(repo_owner='Vicky7873', repo_name='95Mobiles', mlflow=True)\n",
    "        mlflow.set_registry_uri(\"https://dagshub.com/Vicky7873/95Mobiles.mlflow\")\n",
    "        mlflow.set_experiment(\"Mobile Model Eval\")\n",
    "\n",
    "        with mlflow.start_run():\n",
    "            print(\"train acc: \",model.score(X_train,y_train))\n",
    "            train_score = model.score(X_train,y_train)\n",
    "            y_pred = model.predict(X_test)\n",
    "            test_acc = r2_score(y_test,y_pred)\n",
    "            print(\"test acc: \", test_acc )\n",
    "\n",
    "            score = {\n",
    "                \"train score: \": train_score,\n",
    "                \"test score: \": test_acc\n",
    "            }\n",
    "            mlflow.log_metric(\"Training_acc\",train_score)\n",
    "            mlflow.log_metric(\"Testing_acc\",test_acc)\n",
    "\n",
    "            with open(self.config.save_score,\"w\") as file:\n",
    "                json.dump(score,file,indent=4)"
   ]
  },
  {
   "cell_type": "code",
   "execution_count": 9,
   "metadata": {},
   "outputs": [
    {
     "name": "stdout",
     "output_type": "stream",
     "text": [
      "[2024-10-06 19:02:09,023: INFO]: yaml: config/mobiles_config.yaml loaded successfully\n",
      "[2024-10-06 19:02:09,025: INFO]: yaml: params/mobiles_params.yaml loaded successfully\n",
      "[2024-10-06 19:02:09,026: INFO]: created directory at: data\n",
      "[2024-10-06 19:02:09,027: INFO]: created directory at: data/mobile/model_eval\n",
      "[2024-10-06 19:02:09,509: INFO]: HTTP Request: GET https://dagshub.com/api/v1/user \"HTTP/1.1 200 OK\"\n"
     ]
    },
    {
     "data": {
      "text/html": [
       "<pre style=\"white-space:pre;overflow-x:auto;line-height:normal;font-family:Menlo,'DejaVu Sans Mono',consolas,'Courier New',monospace\">Accessing as Vicky7873\n",
       "</pre>\n"
      ],
      "text/plain": [
       "Accessing as Vicky7873\n"
      ]
     },
     "metadata": {},
     "output_type": "display_data"
    },
    {
     "name": "stdout",
     "output_type": "stream",
     "text": [
      "[2024-10-06 19:02:09,512: INFO]: Accessing as Vicky7873\n",
      "[2024-10-06 19:02:09,899: INFO]: HTTP Request: GET https://dagshub.com/api/v1/repos/Vicky7873/95Mobiles \"HTTP/1.1 200 OK\"\n"
     ]
    },
    {
     "data": {
      "text/html": [
       "<pre style=\"white-space:pre;overflow-x:auto;line-height:normal;font-family:Menlo,'DejaVu Sans Mono',consolas,'Courier New',monospace\">Initialized MLflow to track repo <span style=\"color: #008000; text-decoration-color: #008000\">\"Vicky7873/95Mobiles\"</span>\n",
       "</pre>\n"
      ],
      "text/plain": [
       "Initialized MLflow to track repo \u001b[32m\"Vicky7873/95Mobiles\"\u001b[0m\n"
      ]
     },
     "metadata": {},
     "output_type": "display_data"
    },
    {
     "name": "stdout",
     "output_type": "stream",
     "text": [
      "[2024-10-06 19:02:09,901: INFO]: Initialized MLflow to track repo \"Vicky7873/95Mobiles\"\n"
     ]
    },
    {
     "data": {
      "text/html": [
       "<pre style=\"white-space:pre;overflow-x:auto;line-height:normal;font-family:Menlo,'DejaVu Sans Mono',consolas,'Courier New',monospace\">Repository Vicky7873/95Mobiles initialized!\n",
       "</pre>\n"
      ],
      "text/plain": [
       "Repository Vicky7873/95Mobiles initialized!\n"
      ]
     },
     "metadata": {},
     "output_type": "display_data"
    },
    {
     "name": "stdout",
     "output_type": "stream",
     "text": [
      "[2024-10-06 19:02:09,902: INFO]: Repository Vicky7873/95Mobiles initialized!\n",
      "train acc:  0.9744964102234905\n",
      "test acc:  0.897761294657707\n"
     ]
    },
    {
     "name": "stderr",
     "output_type": "stream",
     "text": [
      "2024/10/06 19:02:11 INFO mlflow.tracking._tracking_service.client: 🏃 View run indecisive-skink-755 at: https://dagshub.com/Vicky7873/95Mobiles.mlflow/#/experiments/8/runs/79019ffe248b430fb8928f8b57167f8b.\n",
      "2024/10/06 19:02:11 INFO mlflow.tracking._tracking_service.client: 🧪 View experiment at: https://dagshub.com/Vicky7873/95Mobiles.mlflow/#/experiments/8.\n"
     ]
    }
   ],
   "source": [
    "try:\n",
    "    config = ConfigurationManger()\n",
    "    eval_con = config.get_model_eval()\n",
    "    model_eval = MobilemodelEval(eval_con)\n",
    "    model_eval.model_eval()\n",
    "\n",
    "except Exception as e:\n",
    "    raise e"
   ]
  },
  {
   "cell_type": "code",
   "execution_count": null,
   "metadata": {},
   "outputs": [],
   "source": []
  }
 ],
 "metadata": {
  "kernelspec": {
   "display_name": "95m",
   "language": "python",
   "name": "python3"
  },
  "language_info": {
   "codemirror_mode": {
    "name": "ipython",
    "version": 3
   },
   "file_extension": ".py",
   "mimetype": "text/x-python",
   "name": "python",
   "nbconvert_exporter": "python",
   "pygments_lexer": "ipython3",
   "version": "3.12.5"
  }
 },
 "nbformat": 4,
 "nbformat_minor": 2
}
