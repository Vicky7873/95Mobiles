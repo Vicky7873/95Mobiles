{
 "cells": [
  {
   "cell_type": "code",
   "execution_count": 1,
   "metadata": {},
   "outputs": [],
   "source": [
    "import os"
   ]
  },
  {
   "cell_type": "code",
   "execution_count": 2,
   "metadata": {},
   "outputs": [],
   "source": [
    "os.chdir(\"../../\")"
   ]
  },
  {
   "cell_type": "code",
   "execution_count": 3,
   "metadata": {},
   "outputs": [
    {
     "data": {
      "text/plain": [
       "'/Users/bhikipallai/Desktop/Projects/95Mobiles'"
      ]
     },
     "execution_count": 3,
     "metadata": {},
     "output_type": "execute_result"
    }
   ],
   "source": [
    "%pwd"
   ]
  },
  {
   "cell_type": "code",
   "execution_count": 4,
   "metadata": {},
   "outputs": [],
   "source": [
    "from dataclasses import dataclass\n",
    "from pathlib import Path\n",
    "\n",
    "@dataclass(frozen=True)\n",
    "class MobileDataIngestionConfig:\n",
    "    root_dir: Path\n",
    "    download_url: str\n",
    "    mobile_raw_data: Path"
   ]
  },
  {
   "cell_type": "code",
   "execution_count": 5,
   "metadata": {},
   "outputs": [
    {
     "name": "stdout",
     "output_type": "stream",
     "text": [
      "[2024-10-06 16:54:57,731: INFO]: Logging file start\n"
     ]
    }
   ],
   "source": [
    "from src.mobiles.utils.common import read_yaml,create_directory\n",
    "from src.mobiles.constants import *"
   ]
  },
  {
   "cell_type": "code",
   "execution_count": 6,
   "metadata": {},
   "outputs": [],
   "source": [
    "class ConfigurationManger:\n",
    "    def __init__(self,config_filepath = CONFIG_FILE_PATH,params_filepath = PARAMS_FILE_PATH) :\n",
    "        self.config = read_yaml(config_filepath)\n",
    "        create_directory([self.config.data_root])\n",
    "\n",
    "    def get_mobile_data_ingestion(self)->MobileDataIngestionConfig:\n",
    "        config = self.config.data_ingestion\n",
    "        create_directory([config.root_dir])\n",
    "\n",
    "        model_dataingestion = MobileDataIngestionConfig(\n",
    "            root_dir=config.root_dir,\n",
    "            download_url=config.download_url,\n",
    "            mobile_raw_data=config.mobile_raw_data\n",
    "        )\n",
    "\n",
    "        return model_dataingestion"
   ]
  },
  {
   "cell_type": "code",
   "execution_count": 7,
   "metadata": {},
   "outputs": [],
   "source": [
    "import requests"
   ]
  },
  {
   "cell_type": "code",
   "execution_count": 8,
   "metadata": {},
   "outputs": [],
   "source": [
    "class MobileDataIngestion:\n",
    "    def __init__(self,config:MobileDataIngestionConfig ) :\n",
    "        self.config = config\n",
    "    \n",
    "    def download_data(self):\n",
    "        response = requests.get(self.config.download_url)\n",
    "        with open (self.config.mobile_raw_data,'wb') as file:\n",
    "            file.write(response.content)"
   ]
  },
  {
   "cell_type": "code",
   "execution_count": 9,
   "metadata": {},
   "outputs": [
    {
     "name": "stdout",
     "output_type": "stream",
     "text": [
      "[2024-10-06 16:54:57,812: INFO]: yaml: config/mobiles_config.yaml loaded successfully\n",
      "[2024-10-06 16:54:57,814: INFO]: created directory at: data\n",
      "[2024-10-06 16:54:57,815: INFO]: created directory at: data/mobile/data_ingestion\n"
     ]
    }
   ],
   "source": [
    "try:\n",
    "    config = ConfigurationManger()\n",
    "    mb_config = config.get_mobile_data_ingestion()\n",
    "    mb_di = MobileDataIngestion(config=mb_config)\n",
    "    mb_di.download_data()\n",
    "except Exception as e:\n",
    "    raise e"
   ]
  },
  {
   "cell_type": "code",
   "execution_count": null,
   "metadata": {},
   "outputs": [],
   "source": []
  }
 ],
 "metadata": {
  "kernelspec": {
   "display_name": "95m",
   "language": "python",
   "name": "python3"
  },
  "language_info": {
   "codemirror_mode": {
    "name": "ipython",
    "version": 3
   },
   "file_extension": ".py",
   "mimetype": "text/x-python",
   "name": "python",
   "nbconvert_exporter": "python",
   "pygments_lexer": "ipython3",
   "version": "3.12.5"
  }
 },
 "nbformat": 4,
 "nbformat_minor": 2
}
