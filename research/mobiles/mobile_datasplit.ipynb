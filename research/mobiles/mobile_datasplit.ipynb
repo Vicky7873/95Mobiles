{
 "cells": [
  {
   "cell_type": "code",
   "execution_count": 1,
   "metadata": {},
   "outputs": [],
   "source": [
    "import os"
   ]
  },
  {
   "cell_type": "code",
   "execution_count": 2,
   "metadata": {},
   "outputs": [],
   "source": [
    "os.chdir('../../')"
   ]
  },
  {
   "cell_type": "code",
   "execution_count": 3,
   "metadata": {},
   "outputs": [
    {
     "data": {
      "text/plain": [
       "'/Users/bhikipallai/Desktop/Projects/95Mobiles'"
      ]
     },
     "execution_count": 3,
     "metadata": {},
     "output_type": "execute_result"
    }
   ],
   "source": [
    "%pwd"
   ]
  },
  {
   "cell_type": "code",
   "execution_count": 4,
   "metadata": {},
   "outputs": [],
   "source": [
    "from dataclasses import dataclass\n",
    "from pathlib import Path\n",
    "\n",
    "@dataclass(frozen=True)\n",
    "class mobile_datasplitconfig:\n",
    "    root_dir: Path\n",
    "    X_train: Path\n",
    "    X_test: Path\n",
    "    y_train:Path\n",
    "    y_test: Path\n",
    "    final_data: Path\n",
    "    test_size: float\n",
    "    random_state: int"
   ]
  },
  {
   "cell_type": "code",
   "execution_count": 5,
   "metadata": {},
   "outputs": [
    {
     "name": "stdout",
     "output_type": "stream",
     "text": [
      "[2024-10-06 18:06:17,346: INFO]: Logging file start\n"
     ]
    }
   ],
   "source": [
    "from src.mobiles.constants import *\n",
    "from src.mobiles.utils.common import read_yaml,create_directory"
   ]
  },
  {
   "cell_type": "code",
   "execution_count": 12,
   "metadata": {},
   "outputs": [],
   "source": [
    "class ConfigurationManger:\n",
    "    def __init__(self,config_filepath = CONFIG_FILE_PATH,params_filepath = PARAMS_FILE_PATH) :\n",
    "        self.config = read_yaml(config_filepath)\n",
    "        self.params = read_yaml(params_filepath)\n",
    "        create_directory([self.config.data_root])\n",
    "\n",
    "    def get_data_split(self) -> mobile_datasplitconfig:\n",
    "        config = self.config.data_split\n",
    "        params = self.params.split\n",
    "\n",
    "        create_directory([config.root_dir])\n",
    "\n",
    "        model_datasplit = mobile_datasplitconfig(\n",
    "            root_dir=config.root_dir,\n",
    "            X_train=config.X_train,\n",
    "            X_test=config.X_test,\n",
    "            y_train=config.y_train,\n",
    "            y_test=config.y_test,\n",
    "            test_size=params.test_size,\n",
    "            random_state=params.random_state,\n",
    "            final_data=config.final_data\n",
    "        )\n",
    "        return model_datasplit"
   ]
  },
  {
   "cell_type": "code",
   "execution_count": 13,
   "metadata": {},
   "outputs": [],
   "source": [
    "from sklearn.model_selection import train_test_split\n",
    "import pandas as pd"
   ]
  },
  {
   "cell_type": "code",
   "execution_count": 16,
   "metadata": {},
   "outputs": [],
   "source": [
    "class mobile_datasplit:\n",
    "    def __init__(self,config:mobile_datasplitconfig):\n",
    "        self.config = config\n",
    "    \n",
    "    def load_data(self):\n",
    "        self.df = pd.read_csv(self.config.final_data)\n",
    "        return self.df\n",
    "    \n",
    "    def split_data(self):\n",
    "        df = self.df\n",
    "        X =df.drop('price',axis=1)\n",
    "        y=df['price']\n",
    "        self.X_train,self.X_test,self.y_train,self.y_test = train_test_split(X,y,test_size=self.config.test_size,random_state=self.config.random_state)\n",
    "        return self.X_train,self.X_test,self.y_train,self.y_test\n",
    "    \n",
    "    def save_data(self):\n",
    "        X_train = self.X_train\n",
    "        X_test = self.X_test\n",
    "        y_train = self.y_train\n",
    "        y_test = self.y_test\n",
    "\n",
    "        X_train.to_csv(self.config.X_train,index=False)\n",
    "        X_test.to_csv(self.config.X_test,index = False)\n",
    "        y_train.to_csv(self.config.y_train,index=False)\n",
    "        y_test.to_csv(self.config.y_test,index=False)\n",
    "        print(X_train.head(2))\n",
    "        print(X_test.head(2))\n"
   ]
  },
  {
   "cell_type": "code",
   "execution_count": 17,
   "metadata": {},
   "outputs": [
    {
     "name": "stdout",
     "output_type": "stream",
     "text": [
      "[2024-10-06 18:14:33,493: INFO]: yaml: config/mobiles_config.yaml loaded successfully\n",
      "[2024-10-06 18:14:33,495: INFO]: yaml: params/mobiles_params.yaml loaded successfully\n",
      "[2024-10-06 18:14:33,496: INFO]: created directory at: data\n",
      "[2024-10-06 18:14:33,498: INFO]: created directory at: data/mobile/data_split\n",
      "     Brand  Model   Storage       RAM  screen_size  camera   battery\n",
      "198      7    139 -0.910044 -0.756626           20      43  1.662271\n",
      "243     14    215  0.076342  0.066761           27      20  0.406327\n",
      "     Brand  Model   Storage       RAM  screen_size  camera   battery\n",
      "192     12     68 -0.910044 -0.756626           20      67  0.406327\n",
      "319     15    169  0.076342 -0.756626           20      71  0.406327\n"
     ]
    }
   ],
   "source": [
    "try:\n",
    "    config = ConfigurationManger()\n",
    "    split = config.get_data_split()\n",
    "    ds = mobile_datasplit(config=split)\n",
    "    ds.load_data()\n",
    "    ds.split_data()\n",
    "    ds.save_data()\n",
    "except Exception as e:\n",
    "    raise e"
   ]
  },
  {
   "cell_type": "code",
   "execution_count": null,
   "metadata": {},
   "outputs": [],
   "source": []
  }
 ],
 "metadata": {
  "kernelspec": {
   "display_name": "95m",
   "language": "python",
   "name": "python3"
  },
  "language_info": {
   "codemirror_mode": {
    "name": "ipython",
    "version": 3
   },
   "file_extension": ".py",
   "mimetype": "text/x-python",
   "name": "python",
   "nbconvert_exporter": "python",
   "pygments_lexer": "ipython3",
   "version": "3.12.5"
  }
 },
 "nbformat": 4,
 "nbformat_minor": 2
}
