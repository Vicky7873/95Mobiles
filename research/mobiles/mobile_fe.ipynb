{
 "cells": [
  {
   "cell_type": "code",
   "execution_count": 1,
   "metadata": {},
   "outputs": [],
   "source": [
    "import os"
   ]
  },
  {
   "cell_type": "code",
   "execution_count": 2,
   "metadata": {},
   "outputs": [],
   "source": [
    "os.chdir(\"../../\")"
   ]
  },
  {
   "cell_type": "code",
   "execution_count": 3,
   "metadata": {},
   "outputs": [
    {
     "data": {
      "text/plain": [
       "'/Users/bhikipallai/Desktop/Projects/95Mobiles'"
      ]
     },
     "execution_count": 3,
     "metadata": {},
     "output_type": "execute_result"
    }
   ],
   "source": [
    "%pwd"
   ]
  },
  {
   "cell_type": "code",
   "execution_count": 4,
   "metadata": {},
   "outputs": [],
   "source": [
    "from dataclasses import dataclass\n",
    "from pathlib import Path\n",
    "\n",
    "@dataclass(frozen=True)\n",
    "class Mobile_fe_Config:\n",
    "    root_dir: Path\n",
    "    mobile_cleaned_data: Path\n",
    "    final_data: Path"
   ]
  },
  {
   "cell_type": "code",
   "execution_count": 5,
   "metadata": {},
   "outputs": [
    {
     "name": "stdout",
     "output_type": "stream",
     "text": [
      "[2024-10-06 17:49:17,487: INFO]: Logging file start\n"
     ]
    }
   ],
   "source": [
    "from src.mobiles.constants import *\n",
    "from src.mobiles.utils.common import read_yaml,create_directory"
   ]
  },
  {
   "cell_type": "code",
   "execution_count": 6,
   "metadata": {},
   "outputs": [],
   "source": [
    "class ConfigurationManger:\n",
    "    def __init__(self,config_filepath = CONFIG_FILE_PATH,params_filepath = PARAMS_FILE_PATH) :\n",
    "        self.config = read_yaml(config_filepath)\n",
    "        create_directory([self.config.data_root])\n",
    "\n",
    "    def get_mobile_fe(self)->Mobile_fe_Config:\n",
    "        config = self.config.feature_eng\n",
    "        create_directory([config.root_dir])\n",
    "\n",
    "        model_fe = Mobile_fe_Config(\n",
    "            root_dir=config.root_dir,\n",
    "            mobile_cleaned_data=config.mobile_cleaned_data,\n",
    "            final_data = config.final_data\n",
    "        )\n",
    "\n",
    "        return model_fe"
   ]
  },
  {
   "cell_type": "code",
   "execution_count": 7,
   "metadata": {},
   "outputs": [],
   "source": [
    "from sklearn.preprocessing import LabelEncoder,StandardScaler\n",
    "import pandas as pd"
   ]
  },
  {
   "cell_type": "code",
   "execution_count": 8,
   "metadata": {},
   "outputs": [],
   "source": [
    "class fe:\n",
    "    def __init__(self,config: Mobile_fe_Config) :\n",
    "        self.config = config\n",
    "\n",
    "    def load_data(self):\n",
    "        self.df = pd.read_csv(self.config.mobile_cleaned_data)\n",
    "        return self.df\n",
    "    \n",
    "    def transform_data(self):\n",
    "        le = LabelEncoder()\n",
    "        stc = StandardScaler()\n",
    "        df = self.df\n",
    "        cat_cols = []\n",
    "        num_cols = []\n",
    "        for col in df.columns:\n",
    "            if df[col].dtype == 'object':\n",
    "                cat_cols.append(col)\n",
    "            else:\n",
    "                num_cols.append(col)\n",
    "\n",
    "        print(cat_cols)\n",
    "        print(num_cols)\n",
    "\n",
    "        num_cols.remove('price')\n",
    "\n",
    "        for col in df[cat_cols]:\n",
    "            df[col] = le.fit_transform(df[[col]])\n",
    "        df[num_cols] = stc.fit_transform(df[num_cols])\n",
    "\n",
    "        df.drop('Unnamed: 0',axis=1,inplace=True)\n",
    "        df.to_csv(self.config.final_data,index=False)\n",
    "        print(df.head(2))"
   ]
  },
  {
   "cell_type": "code",
   "execution_count": 9,
   "metadata": {},
   "outputs": [
    {
     "name": "stdout",
     "output_type": "stream",
     "text": [
      "[2024-10-06 17:49:18,245: INFO]: yaml: config/mobiles_config.yaml loaded successfully\n",
      "[2024-10-06 17:49:18,246: INFO]: created directory at: data\n",
      "[2024-10-06 17:49:18,246: INFO]: created directory at: data/mobile/feature_eng\n",
      "['Brand', 'Model', 'screen_size', 'camera']\n",
      "['Unnamed: 0', 'Storage', 'RAM', 'battery', 'price']\n",
      "   Brand  Model   Storage       RAM  screen_size  camera   battery     price\n",
      "0      0    232  0.076342  0.066761            8      12 -1.986246   83916.0\n",
      "1     12    100  2.049114  2.536923           35       0  0.406327  100716.0\n"
     ]
    },
    {
     "name": "stderr",
     "output_type": "stream",
     "text": [
      "/Applications/anaconda3/envs/95m/lib/python3.12/site-packages/sklearn/preprocessing/_label.py:114: DataConversionWarning: A column-vector y was passed when a 1d array was expected. Please change the shape of y to (n_samples, ), for example using ravel().\n",
      "  y = column_or_1d(y, warn=True)\n",
      "/Applications/anaconda3/envs/95m/lib/python3.12/site-packages/sklearn/preprocessing/_label.py:114: DataConversionWarning: A column-vector y was passed when a 1d array was expected. Please change the shape of y to (n_samples, ), for example using ravel().\n",
      "  y = column_or_1d(y, warn=True)\n",
      "/Applications/anaconda3/envs/95m/lib/python3.12/site-packages/sklearn/preprocessing/_label.py:114: DataConversionWarning: A column-vector y was passed when a 1d array was expected. Please change the shape of y to (n_samples, ), for example using ravel().\n",
      "  y = column_or_1d(y, warn=True)\n",
      "/Applications/anaconda3/envs/95m/lib/python3.12/site-packages/sklearn/preprocessing/_label.py:114: DataConversionWarning: A column-vector y was passed when a 1d array was expected. Please change the shape of y to (n_samples, ), for example using ravel().\n",
      "  y = column_or_1d(y, warn=True)\n"
     ]
    }
   ],
   "source": [
    "try:\n",
    "    config = ConfigurationManger()\n",
    "    fe_config = config.get_mobile_fe()\n",
    "    fe_do = fe(config=fe_config)\n",
    "    fe_do.load_data()\n",
    "    fe_do.transform_data()\n",
    "except Exception as e:\n",
    "    raise e"
   ]
  },
  {
   "cell_type": "code",
   "execution_count": null,
   "metadata": {},
   "outputs": [],
   "source": []
  }
 ],
 "metadata": {
  "kernelspec": {
   "display_name": "95m",
   "language": "python",
   "name": "python3"
  },
  "language_info": {
   "codemirror_mode": {
    "name": "ipython",
    "version": 3
   },
   "file_extension": ".py",
   "mimetype": "text/x-python",
   "name": "python",
   "nbconvert_exporter": "python",
   "pygments_lexer": "ipython3",
   "version": "3.12.5"
  }
 },
 "nbformat": 4,
 "nbformat_minor": 2
}
