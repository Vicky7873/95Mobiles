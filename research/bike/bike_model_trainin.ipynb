{
 "cells": [
  {
   "cell_type": "code",
   "execution_count": 1,
   "metadata": {},
   "outputs": [],
   "source": [
    "import os"
   ]
  },
  {
   "cell_type": "code",
   "execution_count": 2,
   "metadata": {},
   "outputs": [
    {
     "data": {
      "text/plain": [
       "'/Users/bhikipallai/Desktop/Projects/95Mobiles/research/bike'"
      ]
     },
     "execution_count": 2,
     "metadata": {},
     "output_type": "execute_result"
    }
   ],
   "source": [
    "%pwd"
   ]
  },
  {
   "cell_type": "code",
   "execution_count": 3,
   "metadata": {},
   "outputs": [],
   "source": [
    "os.chdir(\"../../\")"
   ]
  },
  {
   "cell_type": "code",
   "execution_count": 4,
   "metadata": {},
   "outputs": [
    {
     "data": {
      "text/plain": [
       "'/Users/bhikipallai/Desktop/Projects/95Mobiles'"
      ]
     },
     "execution_count": 4,
     "metadata": {},
     "output_type": "execute_result"
    }
   ],
   "source": [
    "%pwd"
   ]
  },
  {
   "cell_type": "code",
   "execution_count": 5,
   "metadata": {},
   "outputs": [],
   "source": [
    "from dataclasses import dataclass\n",
    "from pathlib import Path\n",
    "\n",
    "@dataclass(frozen=True)\n",
    "class BikeModelTrainingConfig:\n",
    "    root_dir: Path\n",
    "    X_train: Path\n",
    "    y_train: Path\n",
    "    save_model: Path\n",
    "    save_model_for_train: Path\n",
    "    n_estimator: int\n",
    "    criterion: str"
   ]
  },
  {
   "cell_type": "code",
   "execution_count": 6,
   "metadata": {},
   "outputs": [
    {
     "name": "stdout",
     "output_type": "stream",
     "text": [
      "[2024-09-29 21:29:33,371: INFO]: Logging file start\n"
     ]
    }
   ],
   "source": [
    "from src.bike.utils.common import read_yaml,create_directory\n",
    "from src.bike.constants import *"
   ]
  },
  {
   "cell_type": "code",
   "execution_count": 7,
   "metadata": {},
   "outputs": [],
   "source": [
    "class ConfigurationManger:\n",
    "    def __init__(self,config_filepath = CONFIG_FILE_PATH,params_filepath = PARAMS_FILE_PATH):\n",
    "        self.config = read_yaml(config_filepath)\n",
    "        self.params = read_yaml(params_filepath)\n",
    "\n",
    "        create_directory([self.config.data_root])\n",
    "\n",
    "    def get_model_training(self) -> BikeModelTrainingConfig:\n",
    "        config = self.config.model_training\n",
    "        params = self.params.model\n",
    "\n",
    "        create_directory([config.root_dir])\n",
    "\n",
    "        model_train = BikeModelTrainingConfig(\n",
    "            root_dir=config.root_dir,\n",
    "            X_train = config.X_train,\n",
    "            y_train= config.y_train,\n",
    "            save_model = config.save_model,\n",
    "            save_model_for_train = config.save_model_for_train,\n",
    "            n_estimator = params.n_estimators,\n",
    "            criterion = params.criterion\n",
    "        )\n",
    "\n",
    "        return model_train"
   ]
  },
  {
   "cell_type": "code",
   "execution_count": 8,
   "metadata": {},
   "outputs": [],
   "source": [
    "from sklearn.ensemble import RandomForestRegressor\n",
    "import pandas as pd\n",
    "import joblib"
   ]
  },
  {
   "cell_type": "code",
   "execution_count": 11,
   "metadata": {},
   "outputs": [],
   "source": [
    "class ModelTrain:\n",
    "    def __init__(self,config: BikeModelTrainingConfig):\n",
    "        self.config = config\n",
    "    \n",
    "    def mode_train(self):\n",
    "        rfr = RandomForestRegressor(n_estimators=self.config.n_estimator,criterion=self.config.criterion)\n",
    "        X_train = pd.read_csv(self.config.X_train)\n",
    "        \n",
    "        print(\"this is for X_train:\\n\",X_train.head(2))\n",
    "        y_train = pd.read_csv(self.config.y_train)\n",
    "        print(\"this is for X_train:\\n\",y_train.head(2))\n",
    "        model = rfr.fit(X_train,y_train)\n",
    "\n",
    "        return model\n",
    "    \n",
    "    def save_model(self):\n",
    "        model = self.model_train()\n",
    "        model_path = self.config.save_model\n",
    "        joblib.dump(model,model_path)\n"
   ]
  },
  {
   "cell_type": "code",
   "execution_count": 12,
   "metadata": {},
   "outputs": [
    {
     "name": "stdout",
     "output_type": "stream",
     "text": [
      "[2024-09-29 22:36:44,705: INFO]: yaml: config/bike_config.yaml loaded successfully\n",
      "[2024-09-29 22:36:44,709: INFO]: yaml: params/bike_params.yaml loaded successfully\n",
      "[2024-09-29 22:36:44,712: INFO]: created directory at: data/bike\n",
      "[2024-09-29 22:36:44,715: INFO]: created directory at: data/bike/model_training\n",
      "this is for X_train:\n",
      "    Unnamed: 0  bike_name  city  kms_driven  owner   age    power\n",
      "0           0        151     3   -0.645916      0   6.0 -0.84441\n",
      "1           1         56    10    0.434766      0  15.0 -0.47246\n",
      "this is for X_train:\n",
      "      price\n",
      "0  32000.0\n",
      "1  14227.0\n"
     ]
    },
    {
     "name": "stderr",
     "output_type": "stream",
     "text": [
      "/Applications/anaconda3/envs/95m/lib/python3.12/site-packages/sklearn/base.py:1473: DataConversionWarning: A column-vector y was passed when a 1d array was expected. Please change the shape of y to (n_samples,), for example using ravel().\n",
      "  return fit_method(estimator, *args, **kwargs)\n"
     ]
    },
    {
     "ename": "AttributeError",
     "evalue": "'ModelTrain' object has no attribute 'model_train'",
     "output_type": "error",
     "traceback": [
      "\u001b[0;31m---------------------------------------------------------------------------\u001b[0m",
      "\u001b[0;31mAttributeError\u001b[0m                            Traceback (most recent call last)",
      "Cell \u001b[0;32mIn[12], line 8\u001b[0m\n\u001b[1;32m      6\u001b[0m     mt\u001b[38;5;241m.\u001b[39msave_model()\n\u001b[1;32m      7\u001b[0m \u001b[38;5;28;01mexcept\u001b[39;00m \u001b[38;5;167;01mException\u001b[39;00m \u001b[38;5;28;01mas\u001b[39;00m e:\n\u001b[0;32m----> 8\u001b[0m     \u001b[38;5;28;01mraise\u001b[39;00m e\n",
      "Cell \u001b[0;32mIn[12], line 6\u001b[0m\n\u001b[1;32m      4\u001b[0m     mt \u001b[38;5;241m=\u001b[39m ModelTrain(config\u001b[38;5;241m=\u001b[39mmodel_config)\n\u001b[1;32m      5\u001b[0m     mt\u001b[38;5;241m.\u001b[39mmode_train()\n\u001b[0;32m----> 6\u001b[0m     \u001b[43mmt\u001b[49m\u001b[38;5;241;43m.\u001b[39;49m\u001b[43msave_model\u001b[49m\u001b[43m(\u001b[49m\u001b[43m)\u001b[49m\n\u001b[1;32m      7\u001b[0m \u001b[38;5;28;01mexcept\u001b[39;00m \u001b[38;5;167;01mException\u001b[39;00m \u001b[38;5;28;01mas\u001b[39;00m e:\n\u001b[1;32m      8\u001b[0m     \u001b[38;5;28;01mraise\u001b[39;00m e\n",
      "Cell \u001b[0;32mIn[11], line 16\u001b[0m, in \u001b[0;36mModelTrain.save_model\u001b[0;34m(self)\u001b[0m\n\u001b[1;32m     15\u001b[0m \u001b[38;5;28;01mdef\u001b[39;00m \u001b[38;5;21msave_model\u001b[39m(\u001b[38;5;28mself\u001b[39m):\n\u001b[0;32m---> 16\u001b[0m     model \u001b[38;5;241m=\u001b[39m \u001b[38;5;28;43mself\u001b[39;49m\u001b[38;5;241;43m.\u001b[39;49m\u001b[43mmodel_train\u001b[49m()\n\u001b[1;32m     17\u001b[0m     model_path \u001b[38;5;241m=\u001b[39m \u001b[38;5;28mself\u001b[39m\u001b[38;5;241m.\u001b[39mconfig\u001b[38;5;241m.\u001b[39msave_model\n\u001b[1;32m     18\u001b[0m     joblib\u001b[38;5;241m.\u001b[39mdump(model,model_path)\n",
      "\u001b[0;31mAttributeError\u001b[0m: 'ModelTrain' object has no attribute 'model_train'"
     ]
    }
   ],
   "source": [
    "try:\n",
    "    config = ConfigurationManger()\n",
    "    model_config = config.get_model_training()\n",
    "    mt = ModelTrain(config=model_config)\n",
    "    mt.mode_train()\n",
    "    mt.save_model()\n",
    "except Exception as e:\n",
    "    raise e"
   ]
  },
  {
   "cell_type": "code",
   "execution_count": null,
   "metadata": {},
   "outputs": [],
   "source": []
  }
 ],
 "metadata": {
  "kernelspec": {
   "display_name": "95m",
   "language": "python",
   "name": "python3"
  },
  "language_info": {
   "codemirror_mode": {
    "name": "ipython",
    "version": 3
   },
   "file_extension": ".py",
   "mimetype": "text/x-python",
   "name": "python",
   "nbconvert_exporter": "python",
   "pygments_lexer": "ipython3",
   "version": "3.12.5"
  }
 },
 "nbformat": 4,
 "nbformat_minor": 2
}
