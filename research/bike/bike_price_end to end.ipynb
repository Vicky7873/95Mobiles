{
 "cells": [
  {
   "cell_type": "code",
   "execution_count": 72,
   "id": "308036ec-7254-4e7d-9a34-3ea944c59638",
   "metadata": {},
   "outputs": [],
   "source": [
    "import numpy as np\n",
    "import pandas as pd\n",
    "import seaborn as sns\n",
    "import matplotlib.pyplot as plt"
   ]
  },
  {
   "cell_type": "code",
   "execution_count": 73,
   "id": "eb281b95-09b3-4e4c-ae32-6c7d854de2fb",
   "metadata": {},
   "outputs": [],
   "source": [
    "df = pd.read_csv(\"/Users/bhikipallai/Desktop/Projects/95Mobiles/data/bike/used_bikes.csv\")"
   ]
  },
  {
   "cell_type": "code",
   "execution_count": 74,
   "id": "4c02dad9-299a-48c3-acba-695a0346d33e",
   "metadata": {},
   "outputs": [
    {
     "data": {
      "text/html": [
       "<div>\n",
       "<style scoped>\n",
       "    .dataframe tbody tr th:only-of-type {\n",
       "        vertical-align: middle;\n",
       "    }\n",
       "\n",
       "    .dataframe tbody tr th {\n",
       "        vertical-align: top;\n",
       "    }\n",
       "\n",
       "    .dataframe thead th {\n",
       "        text-align: right;\n",
       "    }\n",
       "</style>\n",
       "<table border=\"1\" class=\"dataframe\">\n",
       "  <thead>\n",
       "    <tr style=\"text-align: right;\">\n",
       "      <th></th>\n",
       "      <th>bike_name</th>\n",
       "      <th>price</th>\n",
       "      <th>city</th>\n",
       "      <th>kms_driven</th>\n",
       "      <th>owner</th>\n",
       "      <th>age</th>\n",
       "      <th>power</th>\n",
       "      <th>brand</th>\n",
       "    </tr>\n",
       "  </thead>\n",
       "  <tbody>\n",
       "    <tr>\n",
       "      <th>0</th>\n",
       "      <td>TVS Star City Plus Dual Tone 110cc</td>\n",
       "      <td>35000.0</td>\n",
       "      <td>Ahmedabad</td>\n",
       "      <td>17654.0</td>\n",
       "      <td>First Owner</td>\n",
       "      <td>3.0</td>\n",
       "      <td>110.0</td>\n",
       "      <td>TVS</td>\n",
       "    </tr>\n",
       "    <tr>\n",
       "      <th>1</th>\n",
       "      <td>Royal Enfield Classic 350cc</td>\n",
       "      <td>119900.0</td>\n",
       "      <td>Delhi</td>\n",
       "      <td>11000.0</td>\n",
       "      <td>First Owner</td>\n",
       "      <td>4.0</td>\n",
       "      <td>350.0</td>\n",
       "      <td>Royal Enfield</td>\n",
       "    </tr>\n",
       "    <tr>\n",
       "      <th>2</th>\n",
       "      <td>Triumph Daytona 675R</td>\n",
       "      <td>600000.0</td>\n",
       "      <td>Delhi</td>\n",
       "      <td>110.0</td>\n",
       "      <td>First Owner</td>\n",
       "      <td>8.0</td>\n",
       "      <td>675.0</td>\n",
       "      <td>Triumph</td>\n",
       "    </tr>\n",
       "    <tr>\n",
       "      <th>3</th>\n",
       "      <td>TVS Apache RTR 180cc</td>\n",
       "      <td>65000.0</td>\n",
       "      <td>Bangalore</td>\n",
       "      <td>16329.0</td>\n",
       "      <td>First Owner</td>\n",
       "      <td>4.0</td>\n",
       "      <td>180.0</td>\n",
       "      <td>TVS</td>\n",
       "    </tr>\n",
       "    <tr>\n",
       "      <th>4</th>\n",
       "      <td>Yamaha FZ S V 2.0 150cc-Ltd. Edition</td>\n",
       "      <td>80000.0</td>\n",
       "      <td>Bangalore</td>\n",
       "      <td>10000.0</td>\n",
       "      <td>First Owner</td>\n",
       "      <td>3.0</td>\n",
       "      <td>150.0</td>\n",
       "      <td>Yamaha</td>\n",
       "    </tr>\n",
       "  </tbody>\n",
       "</table>\n",
       "</div>"
      ],
      "text/plain": [
       "                              bike_name     price       city  kms_driven  \\\n",
       "0    TVS Star City Plus Dual Tone 110cc   35000.0  Ahmedabad     17654.0   \n",
       "1           Royal Enfield Classic 350cc  119900.0      Delhi     11000.0   \n",
       "2                  Triumph Daytona 675R  600000.0      Delhi       110.0   \n",
       "3                  TVS Apache RTR 180cc   65000.0  Bangalore     16329.0   \n",
       "4  Yamaha FZ S V 2.0 150cc-Ltd. Edition   80000.0  Bangalore     10000.0   \n",
       "\n",
       "         owner  age  power          brand  \n",
       "0  First Owner  3.0  110.0            TVS  \n",
       "1  First Owner  4.0  350.0  Royal Enfield  \n",
       "2  First Owner  8.0  675.0        Triumph  \n",
       "3  First Owner  4.0  180.0            TVS  \n",
       "4  First Owner  3.0  150.0         Yamaha  "
      ]
     },
     "execution_count": 74,
     "metadata": {},
     "output_type": "execute_result"
    }
   ],
   "source": [
    "df.head()"
   ]
  },
  {
   "cell_type": "code",
   "execution_count": 75,
   "id": "f1473025-2364-4710-91f0-24cf32f5ba69",
   "metadata": {},
   "outputs": [
    {
     "name": "stdout",
     "output_type": "stream",
     "text": [
      "<class 'pandas.core.frame.DataFrame'>\n",
      "RangeIndex: 32648 entries, 0 to 32647\n",
      "Data columns (total 8 columns):\n",
      " #   Column      Non-Null Count  Dtype  \n",
      "---  ------      --------------  -----  \n",
      " 0   bike_name   32648 non-null  object \n",
      " 1   price       32648 non-null  float64\n",
      " 2   city        32648 non-null  object \n",
      " 3   kms_driven  32648 non-null  float64\n",
      " 4   owner       32648 non-null  object \n",
      " 5   age         32648 non-null  float64\n",
      " 6   power       32648 non-null  float64\n",
      " 7   brand       32648 non-null  object \n",
      "dtypes: float64(4), object(4)\n",
      "memory usage: 2.0+ MB\n"
     ]
    }
   ],
   "source": [
    "# check the info\n",
    "df.info()"
   ]
  },
  {
   "cell_type": "code",
   "execution_count": 76,
   "id": "1908cc1d-d68a-4c78-a9eb-fe434c242265",
   "metadata": {},
   "outputs": [
    {
     "data": {
      "text/plain": [
       "(32648, 8)"
      ]
     },
     "execution_count": 76,
     "metadata": {},
     "output_type": "execute_result"
    }
   ],
   "source": [
    "# check the size\n",
    "df.shape"
   ]
  },
  {
   "cell_type": "code",
   "execution_count": 77,
   "id": "0c5c1625-d6dc-4929-814c-89dd22a8eea5",
   "metadata": {},
   "outputs": [
    {
     "data": {
      "text/html": [
       "<div>\n",
       "<style scoped>\n",
       "    .dataframe tbody tr th:only-of-type {\n",
       "        vertical-align: middle;\n",
       "    }\n",
       "\n",
       "    .dataframe tbody tr th {\n",
       "        vertical-align: top;\n",
       "    }\n",
       "\n",
       "    .dataframe thead th {\n",
       "        text-align: right;\n",
       "    }\n",
       "</style>\n",
       "<table border=\"1\" class=\"dataframe\">\n",
       "  <thead>\n",
       "    <tr style=\"text-align: right;\">\n",
       "      <th></th>\n",
       "      <th>price</th>\n",
       "      <th>kms_driven</th>\n",
       "      <th>age</th>\n",
       "      <th>power</th>\n",
       "    </tr>\n",
       "  </thead>\n",
       "  <tbody>\n",
       "    <tr>\n",
       "      <th>count</th>\n",
       "      <td>3.264800e+04</td>\n",
       "      <td>32648.000000</td>\n",
       "      <td>32648.000000</td>\n",
       "      <td>32648.000000</td>\n",
       "    </tr>\n",
       "    <tr>\n",
       "      <th>mean</th>\n",
       "      <td>6.829542e+04</td>\n",
       "      <td>26344.625184</td>\n",
       "      <td>8.048211</td>\n",
       "      <td>213.511302</td>\n",
       "    </tr>\n",
       "    <tr>\n",
       "      <th>std</th>\n",
       "      <td>9.071860e+04</td>\n",
       "      <td>22208.527695</td>\n",
       "      <td>4.031700</td>\n",
       "      <td>134.428868</td>\n",
       "    </tr>\n",
       "    <tr>\n",
       "      <th>min</th>\n",
       "      <td>4.400000e+03</td>\n",
       "      <td>1.000000</td>\n",
       "      <td>1.000000</td>\n",
       "      <td>100.000000</td>\n",
       "    </tr>\n",
       "    <tr>\n",
       "      <th>25%</th>\n",
       "      <td>2.500000e+04</td>\n",
       "      <td>12000.000000</td>\n",
       "      <td>5.000000</td>\n",
       "      <td>150.000000</td>\n",
       "    </tr>\n",
       "    <tr>\n",
       "      <th>50%</th>\n",
       "      <td>4.300000e+04</td>\n",
       "      <td>20373.000000</td>\n",
       "      <td>7.000000</td>\n",
       "      <td>150.000000</td>\n",
       "    </tr>\n",
       "    <tr>\n",
       "      <th>75%</th>\n",
       "      <td>8.000000e+04</td>\n",
       "      <td>35000.000000</td>\n",
       "      <td>10.000000</td>\n",
       "      <td>220.000000</td>\n",
       "    </tr>\n",
       "    <tr>\n",
       "      <th>max</th>\n",
       "      <td>1.900000e+06</td>\n",
       "      <td>750000.000000</td>\n",
       "      <td>63.000000</td>\n",
       "      <td>1800.000000</td>\n",
       "    </tr>\n",
       "  </tbody>\n",
       "</table>\n",
       "</div>"
      ],
      "text/plain": [
       "              price     kms_driven           age         power\n",
       "count  3.264800e+04   32648.000000  32648.000000  32648.000000\n",
       "mean   6.829542e+04   26344.625184      8.048211    213.511302\n",
       "std    9.071860e+04   22208.527695      4.031700    134.428868\n",
       "min    4.400000e+03       1.000000      1.000000    100.000000\n",
       "25%    2.500000e+04   12000.000000      5.000000    150.000000\n",
       "50%    4.300000e+04   20373.000000      7.000000    150.000000\n",
       "75%    8.000000e+04   35000.000000     10.000000    220.000000\n",
       "max    1.900000e+06  750000.000000     63.000000   1800.000000"
      ]
     },
     "execution_count": 77,
     "metadata": {},
     "output_type": "execute_result"
    }
   ],
   "source": [
    "# check the numeric value relatioship\n",
    "df.describe()"
   ]
  },
  {
   "cell_type": "code",
   "execution_count": 78,
   "id": "edfc4c09-860c-40d7-bbac-a6d6e917169e",
   "metadata": {},
   "outputs": [
    {
     "data": {
      "text/plain": [
       "bike_name     0\n",
       "price         0\n",
       "city          0\n",
       "kms_driven    0\n",
       "owner         0\n",
       "age           0\n",
       "power         0\n",
       "brand         0\n",
       "dtype: int64"
      ]
     },
     "execution_count": 78,
     "metadata": {},
     "output_type": "execute_result"
    }
   ],
   "source": [
    "# check the null values\n",
    "df.isnull().sum()"
   ]
  },
  {
   "cell_type": "code",
   "execution_count": 79,
   "id": "4448640d-76d1-4437-a4a8-dc732b314bf3",
   "metadata": {},
   "outputs": [
    {
     "data": {
      "text/plain": [
       "bike_name     0\n",
       "price         0\n",
       "city          0\n",
       "kms_driven    0\n",
       "owner         0\n",
       "age           0\n",
       "power         0\n",
       "brand         0\n",
       "dtype: int64"
      ]
     },
     "execution_count": 79,
     "metadata": {},
     "output_type": "execute_result"
    }
   ],
   "source": [
    "# check the NAN values\n",
    "df.isna().sum()"
   ]
  },
  {
   "cell_type": "code",
   "execution_count": 80,
   "id": "57e18eb3-6b09-4629-8ca3-3b95991726f4",
   "metadata": {},
   "outputs": [
    {
     "data": {
      "text/plain": [
       "25324"
      ]
     },
     "execution_count": 80,
     "metadata": {},
     "output_type": "execute_result"
    }
   ],
   "source": [
    "# check the duplicate values\n",
    "df.duplicated().sum()"
   ]
  },
  {
   "cell_type": "markdown",
   "id": "429f39a9-f80f-4471-9d18-cea15c1380ed",
   "metadata": {},
   "source": [
    "### we can ignore this bcoz the data could be same"
   ]
  },
  {
   "cell_type": "code",
   "execution_count": 82,
   "id": "f40f1771-bb52-46ae-b1e7-92612ddd5632",
   "metadata": {},
   "outputs": [
    {
     "data": {
      "text/plain": [
       "Index(['bike_name', 'price', 'city', 'kms_driven', 'owner', 'age', 'power',\n",
       "       'brand'],\n",
       "      dtype='object')"
      ]
     },
     "execution_count": 82,
     "metadata": {},
     "output_type": "execute_result"
    }
   ],
   "source": [
    "# check the columns\n",
    "df.columns"
   ]
  },
  {
   "cell_type": "code",
   "execution_count": 83,
   "id": "21bd7e4b-6b92-4756-b812-ce5d573d5ad7",
   "metadata": {},
   "outputs": [
    {
     "data": {
      "text/plain": [
       "brand\n",
       "Bajaj              11213\n",
       "Hero                6368\n",
       "Royal Enfield       4178\n",
       "Yamaha              3916\n",
       "Honda               2108\n",
       "Suzuki              1464\n",
       "TVS                 1247\n",
       "KTM                 1077\n",
       "Harley-Davidson      737\n",
       "Kawasaki              79\n",
       "Hyosung               64\n",
       "Benelli               56\n",
       "Mahindra              55\n",
       "Triumph               26\n",
       "Ducati                22\n",
       "BMW                   16\n",
       "Jawa                  10\n",
       "MV                     4\n",
       "Indian                 3\n",
       "Ideal                  2\n",
       "Rajdoot                1\n",
       "LML                    1\n",
       "Yezdi                  1\n",
       "Name: count, dtype: int64"
      ]
     },
     "execution_count": 83,
     "metadata": {},
     "output_type": "execute_result"
    }
   ],
   "source": [
    "# check The Brands\n",
    "df['brand'].value_counts()"
   ]
  },
  {
   "cell_type": "code",
   "execution_count": 84,
   "id": "22049bc4-1fbb-493a-aaf6-3eac69559d3a",
   "metadata": {},
   "outputs": [
    {
     "data": {
      "text/plain": [
       "23"
      ]
     },
     "execution_count": 84,
     "metadata": {},
     "output_type": "execute_result"
    }
   ],
   "source": [
    "df['brand'].nunique()"
   ]
  },
  {
   "cell_type": "code",
   "execution_count": 85,
   "id": "d48b81ab-a36a-482e-ac2a-33522a59e1a0",
   "metadata": {},
   "outputs": [
    {
     "data": {
      "text/plain": [
       "443"
      ]
     },
     "execution_count": 85,
     "metadata": {},
     "output_type": "execute_result"
    }
   ],
   "source": [
    "df['city'].nunique()"
   ]
  },
  {
   "cell_type": "code",
   "execution_count": 86,
   "id": "f979abc8-331b-4393-83b0-cf0ed4d1e78e",
   "metadata": {},
   "outputs": [
    {
     "data": {
      "text/plain": [
       "city\n",
       "Delhi            7318\n",
       "Bangalore        2723\n",
       "Mumbai           2591\n",
       "Hyderabad        2160\n",
       "Pune             1724\n",
       "                 ... \n",
       "Surendranagar       1\n",
       "Khandela            1\n",
       "Mohammadabad        1\n",
       "Shimla              1\n",
       "Sidhi               1\n",
       "Name: count, Length: 443, dtype: int64"
      ]
     },
     "execution_count": 86,
     "metadata": {},
     "output_type": "execute_result"
    }
   ],
   "source": [
    "df['city'].value_counts()"
   ]
  },
  {
   "cell_type": "code",
   "execution_count": 87,
   "id": "796f88f0-c0b1-4e27-8597-70db0d1cead0",
   "metadata": {},
   "outputs": [],
   "source": [
    "# check the no.of city\n",
    "df['city'].value_counts().to_csv('city.csv')"
   ]
  },
  {
   "cell_type": "code",
   "execution_count": 88,
   "id": "c70cf57b-5e21-4b54-bc39-7d6d4734af73",
   "metadata": {},
   "outputs": [
    {
     "data": {
      "text/plain": [
       "owner\n",
       "First Owner             29964\n",
       "Second Owner             2564\n",
       "Third Owner               108\n",
       "Fourth Owner Or More       12\n",
       "Name: count, dtype: int64"
      ]
     },
     "execution_count": 88,
     "metadata": {},
     "output_type": "execute_result"
    }
   ],
   "source": [
    "# check the how many types of owner\n",
    "df['owner'].value_counts()"
   ]
  },
  {
   "cell_type": "code",
   "execution_count": 89,
   "id": "239fe1ab-bc62-4526-98ab-afb03b015c42",
   "metadata": {},
   "outputs": [
    {
     "data": {
      "text/plain": [
       "4"
      ]
     },
     "execution_count": 89,
     "metadata": {},
     "output_type": "execute_result"
    }
   ],
   "source": [
    "df['owner'].nunique()"
   ]
  },
  {
   "cell_type": "code",
   "execution_count": 90,
   "id": "2c7d5c7f-f223-4b1f-8552-2bf01ff3d7ca",
   "metadata": {},
   "outputs": [
    {
     "data": {
      "text/plain": [
       "35"
      ]
     },
     "execution_count": 90,
     "metadata": {},
     "output_type": "execute_result"
    }
   ],
   "source": [
    "# check the no of ages of bikes\n",
    "df['age'].nunique()"
   ]
  },
  {
   "cell_type": "code",
   "execution_count": 91,
   "id": "64a26ff1-3382-483e-8a8f-cb47061fc422",
   "metadata": {},
   "outputs": [
    {
     "data": {
      "text/plain": [
       "53"
      ]
     },
     "execution_count": 91,
     "metadata": {},
     "output_type": "execute_result"
    }
   ],
   "source": [
    "# check the different powers\n",
    "df['power'].nunique()"
   ]
  },
  {
   "cell_type": "code",
   "execution_count": 92,
   "id": "a0c44c65-3e61-4263-9496-c1a7041e2e3c",
   "metadata": {},
   "outputs": [
    {
     "data": {
      "text/plain": [
       "power\n",
       "150.0     8836\n",
       "100.0     5047\n",
       "220.0     4833\n",
       "350.0     3706\n",
       "125.0     2492\n",
       "200.0     1357\n",
       "160.0      969\n",
       "180.0      829\n",
       "390.0      829\n",
       "250.0      826\n",
       "400.0      729\n",
       "750.0      701\n",
       "110.0      432\n",
       "500.0      369\n",
       "135.0      137\n",
       "223.0       99\n",
       "650.0       82\n",
       "410.0       68\n",
       "300.0       61\n",
       "310.0       44\n",
       "883.0       30\n",
       "535.0       23\n",
       "1000.0      20\n",
       "1200.0      14\n",
       "800.0       13\n",
       "600.0       11\n",
       "295.0       10\n",
       "320.0        9\n",
       "1300.0       9\n",
       "900.0        8\n",
       "302.0        7\n",
       "765.0        5\n",
       "797.0        5\n",
       "675.0        4\n",
       "959.0        4\n",
       "865.0        3\n",
       "149.0        3\n",
       "1130.0       3\n",
       "502.0        2\n",
       "899.0        2\n",
       "850.0        2\n",
       "1050.0       2\n",
       "1262.0       2\n",
       "796.0        2\n",
       "1090.0       1\n",
       "1198.0       1\n",
       "175.0        1\n",
       "1700.0       1\n",
       "1100.0       1\n",
       "1800.0       1\n",
       "1299.0       1\n",
       "821.0        1\n",
       "107.0        1\n",
       "Name: count, dtype: int64"
      ]
     },
     "execution_count": 92,
     "metadata": {},
     "output_type": "execute_result"
    }
   ],
   "source": [
    "df['power'].value_counts()"
   ]
  },
  {
   "cell_type": "code",
   "execution_count": 93,
   "id": "4dc64845-f335-450c-9239-44620f8dbb39",
   "metadata": {},
   "outputs": [],
   "source": [
    "# change the power data type\n",
    "df['power']=df['power'].astype(int)"
   ]
  },
  {
   "cell_type": "code",
   "execution_count": 94,
   "id": "9cfe4976-5e57-4734-a69b-38bb6732fc71",
   "metadata": {},
   "outputs": [
    {
     "data": {
      "text/plain": [
       "bike_name      object\n",
       "price         float64\n",
       "city           object\n",
       "kms_driven    float64\n",
       "owner          object\n",
       "age           float64\n",
       "power           int64\n",
       "brand          object\n",
       "dtype: object"
      ]
     },
     "execution_count": 94,
     "metadata": {},
     "output_type": "execute_result"
    }
   ],
   "source": [
    "df.dtypes"
   ]
  },
  {
   "cell_type": "markdown",
   "id": "2ff22ea4-d2cb-4abb-bf4e-0e888d009414",
   "metadata": {},
   "source": [
    "# EDA"
   ]
  },
  {
   "cell_type": "code",
   "execution_count": 96,
   "id": "b8c3ffe5-5cdd-4911-b739-93bf2a378b37",
   "metadata": {},
   "outputs": [
    {
     "data": {
      "text/plain": [
       "bike_name\n",
       "Bajaj Pulsar 150cc                    2776\n",
       "Bajaj Avenger Street 220              2531\n",
       "Bajaj Avenger 220cc                   2060\n",
       "Royal Enfield Classic 350cc           1673\n",
       "Hero Passion Pro 100cc                1432\n",
       "Hero Passion 100cc                    1238\n",
       "Royal Enfield Thunderbird 350cc        919\n",
       "Yamaha YZF-R15 2.0 150cc               769\n",
       "Royal Enfield Bullet Electra 350cc     756\n",
       "Bajaj Pulsar NS200                     708\n",
       "Name: count, dtype: int64"
      ]
     },
     "execution_count": 96,
     "metadata": {},
     "output_type": "execute_result"
    }
   ],
   "source": [
    "#check the top ten bikes sales by customer\n",
    "df['bike_name'].value_counts().head(10)"
   ]
  },
  {
   "cell_type": "code",
   "execution_count": 97,
   "id": "a419ccae-eab2-432f-b29b-dcde32986040",
   "metadata": {},
   "outputs": [
    {
     "data": {
      "text/plain": [
       "brand\n",
       "Bajaj              11213\n",
       "Hero                6368\n",
       "Royal Enfield       4178\n",
       "Yamaha              3916\n",
       "Honda               2108\n",
       "Suzuki              1464\n",
       "TVS                 1247\n",
       "KTM                 1077\n",
       "Harley-Davidson      737\n",
       "Kawasaki              79\n",
       "Name: count, dtype: int64"
      ]
     },
     "execution_count": 97,
     "metadata": {},
     "output_type": "execute_result"
    }
   ],
   "source": [
    "# check the top 10 brands which resale\n",
    "df['brand'].value_counts().head(10)"
   ]
  },
  {
   "cell_type": "code",
   "execution_count": 98,
   "id": "125c66d5-f3f4-474e-9699-3d80155dbc16",
   "metadata": {},
   "outputs": [
    {
     "data": {
      "text/html": [
       "<div>\n",
       "<style scoped>\n",
       "    .dataframe tbody tr th:only-of-type {\n",
       "        vertical-align: middle;\n",
       "    }\n",
       "\n",
       "    .dataframe tbody tr th {\n",
       "        vertical-align: top;\n",
       "    }\n",
       "\n",
       "    .dataframe thead th {\n",
       "        text-align: right;\n",
       "    }\n",
       "</style>\n",
       "<table border=\"1\" class=\"dataframe\">\n",
       "  <thead>\n",
       "    <tr style=\"text-align: right;\">\n",
       "      <th></th>\n",
       "      <th>bike_name</th>\n",
       "      <th>price</th>\n",
       "      <th>city</th>\n",
       "      <th>kms_driven</th>\n",
       "      <th>owner</th>\n",
       "      <th>age</th>\n",
       "      <th>power</th>\n",
       "      <th>brand</th>\n",
       "    </tr>\n",
       "  </thead>\n",
       "  <tbody>\n",
       "    <tr>\n",
       "      <th>367</th>\n",
       "      <td>Indian Chief Classic 1800cc</td>\n",
       "      <td>1900000.0</td>\n",
       "      <td>Chennai</td>\n",
       "      <td>1700.0</td>\n",
       "      <td>First Owner</td>\n",
       "      <td>6.0</td>\n",
       "      <td>1800</td>\n",
       "      <td>Indian</td>\n",
       "    </tr>\n",
       "    <tr>\n",
       "      <th>4864</th>\n",
       "      <td>BMW S 1000 RR Pro</td>\n",
       "      <td>1800000.0</td>\n",
       "      <td>Delhi</td>\n",
       "      <td>2600.0</td>\n",
       "      <td>First Owner</td>\n",
       "      <td>4.0</td>\n",
       "      <td>1000</td>\n",
       "      <td>BMW</td>\n",
       "    </tr>\n",
       "    <tr>\n",
       "      <th>7671</th>\n",
       "      <td>Yamaha YZF-R1 1000cc</td>\n",
       "      <td>1550000.0</td>\n",
       "      <td>Delhi</td>\n",
       "      <td>9800.0</td>\n",
       "      <td>Second Owner</td>\n",
       "      <td>6.0</td>\n",
       "      <td>1000</td>\n",
       "      <td>Yamaha</td>\n",
       "    </tr>\n",
       "    <tr>\n",
       "      <th>3016</th>\n",
       "      <td>BMW S 1000 XR Pro</td>\n",
       "      <td>1500000.0</td>\n",
       "      <td>Delhi</td>\n",
       "      <td>18000.0</td>\n",
       "      <td>First Owner</td>\n",
       "      <td>4.0</td>\n",
       "      <td>1000</td>\n",
       "      <td>BMW</td>\n",
       "    </tr>\n",
       "    <tr>\n",
       "      <th>1321</th>\n",
       "      <td>Ducati XDiavel 1262CC S</td>\n",
       "      <td>1500000.0</td>\n",
       "      <td>Alibag</td>\n",
       "      <td>7000.0</td>\n",
       "      <td>First Owner</td>\n",
       "      <td>4.0</td>\n",
       "      <td>1262</td>\n",
       "      <td>Ducati</td>\n",
       "    </tr>\n",
       "    <tr>\n",
       "      <th>1353</th>\n",
       "      <td>Ducati XDiavel 1262CC S</td>\n",
       "      <td>1500000.0</td>\n",
       "      <td>Alibag</td>\n",
       "      <td>7000.0</td>\n",
       "      <td>First Owner</td>\n",
       "      <td>4.0</td>\n",
       "      <td>1262</td>\n",
       "      <td>Ducati</td>\n",
       "    </tr>\n",
       "    <tr>\n",
       "      <th>7404</th>\n",
       "      <td>MV Agusta F3 800cc</td>\n",
       "      <td>1500000.0</td>\n",
       "      <td>Hubli</td>\n",
       "      <td>2000.0</td>\n",
       "      <td>First Owner</td>\n",
       "      <td>3.0</td>\n",
       "      <td>800</td>\n",
       "      <td>MV</td>\n",
       "    </tr>\n",
       "    <tr>\n",
       "      <th>6872</th>\n",
       "      <td>MV Agusta F3 800cc</td>\n",
       "      <td>1500000.0</td>\n",
       "      <td>Hubli</td>\n",
       "      <td>2000.0</td>\n",
       "      <td>First Owner</td>\n",
       "      <td>3.0</td>\n",
       "      <td>800</td>\n",
       "      <td>MV</td>\n",
       "    </tr>\n",
       "    <tr>\n",
       "      <th>6501</th>\n",
       "      <td>Ducati Multistrada 1200 Enduro</td>\n",
       "      <td>1490000.0</td>\n",
       "      <td>Delhi</td>\n",
       "      <td>12500.0</td>\n",
       "      <td>First Owner</td>\n",
       "      <td>5.0</td>\n",
       "      <td>1200</td>\n",
       "      <td>Ducati</td>\n",
       "    </tr>\n",
       "    <tr>\n",
       "      <th>8591</th>\n",
       "      <td>Yamaha YZF-R1 1000cc</td>\n",
       "      <td>1450000.0</td>\n",
       "      <td>Mumbai</td>\n",
       "      <td>340.0</td>\n",
       "      <td>First Owner</td>\n",
       "      <td>3.0</td>\n",
       "      <td>1000</td>\n",
       "      <td>Yamaha</td>\n",
       "    </tr>\n",
       "  </tbody>\n",
       "</table>\n",
       "</div>"
      ],
      "text/plain": [
       "                           bike_name      price     city  kms_driven  \\\n",
       "367      Indian Chief Classic 1800cc  1900000.0  Chennai      1700.0   \n",
       "4864               BMW S 1000 RR Pro  1800000.0    Delhi      2600.0   \n",
       "7671            Yamaha YZF-R1 1000cc  1550000.0    Delhi      9800.0   \n",
       "3016               BMW S 1000 XR Pro  1500000.0    Delhi     18000.0   \n",
       "1321         Ducati XDiavel 1262CC S  1500000.0   Alibag      7000.0   \n",
       "1353         Ducati XDiavel 1262CC S  1500000.0   Alibag      7000.0   \n",
       "7404              MV Agusta F3 800cc  1500000.0    Hubli      2000.0   \n",
       "6872              MV Agusta F3 800cc  1500000.0    Hubli      2000.0   \n",
       "6501  Ducati Multistrada 1200 Enduro  1490000.0    Delhi     12500.0   \n",
       "8591            Yamaha YZF-R1 1000cc  1450000.0   Mumbai       340.0   \n",
       "\n",
       "             owner  age  power   brand  \n",
       "367    First Owner  6.0   1800  Indian  \n",
       "4864   First Owner  4.0   1000     BMW  \n",
       "7671  Second Owner  6.0   1000  Yamaha  \n",
       "3016   First Owner  4.0   1000     BMW  \n",
       "1321   First Owner  4.0   1262  Ducati  \n",
       "1353   First Owner  4.0   1262  Ducati  \n",
       "7404   First Owner  3.0    800      MV  \n",
       "6872   First Owner  3.0    800      MV  \n",
       "6501   First Owner  5.0   1200  Ducati  \n",
       "8591   First Owner  3.0   1000  Yamaha  "
      ]
     },
     "execution_count": 98,
     "metadata": {},
     "output_type": "execute_result"
    }
   ],
   "source": [
    "# check the top 10 bike price\n",
    "df.sort_values(ascending=False,by='price').head(10)"
   ]
  },
  {
   "cell_type": "code",
   "execution_count": 99,
   "id": "ee4a5a18-0613-4400-957e-007bc87e0781",
   "metadata": {},
   "outputs": [
    {
     "data": {
      "text/html": [
       "<div>\n",
       "<style scoped>\n",
       "    .dataframe tbody tr th:only-of-type {\n",
       "        vertical-align: middle;\n",
       "    }\n",
       "\n",
       "    .dataframe tbody tr th {\n",
       "        vertical-align: top;\n",
       "    }\n",
       "\n",
       "    .dataframe thead th {\n",
       "        text-align: right;\n",
       "    }\n",
       "</style>\n",
       "<table border=\"1\" class=\"dataframe\">\n",
       "  <thead>\n",
       "    <tr style=\"text-align: right;\">\n",
       "      <th></th>\n",
       "      <th>bike_name</th>\n",
       "      <th>price</th>\n",
       "      <th>city</th>\n",
       "      <th>kms_driven</th>\n",
       "      <th>owner</th>\n",
       "      <th>age</th>\n",
       "      <th>power</th>\n",
       "      <th>brand</th>\n",
       "    </tr>\n",
       "  </thead>\n",
       "  <tbody>\n",
       "    <tr>\n",
       "      <th>367</th>\n",
       "      <td>Indian Chief Classic 1800cc</td>\n",
       "      <td>1900000.0</td>\n",
       "      <td>Chennai</td>\n",
       "      <td>1700.0</td>\n",
       "      <td>First Owner</td>\n",
       "      <td>6.0</td>\n",
       "      <td>1800</td>\n",
       "      <td>Indian</td>\n",
       "    </tr>\n",
       "    <tr>\n",
       "      <th>1362</th>\n",
       "      <td>Triumph Thunderbird Storm 1700cc</td>\n",
       "      <td>700000.0</td>\n",
       "      <td>Guwahati</td>\n",
       "      <td>176.0</td>\n",
       "      <td>First Owner</td>\n",
       "      <td>5.0</td>\n",
       "      <td>1700</td>\n",
       "      <td>Triumph</td>\n",
       "    </tr>\n",
       "    <tr>\n",
       "      <th>7481</th>\n",
       "      <td>Suzuki Hayabusa 1300cc</td>\n",
       "      <td>1149000.0</td>\n",
       "      <td>Delhi</td>\n",
       "      <td>9875.0</td>\n",
       "      <td>First Owner</td>\n",
       "      <td>6.0</td>\n",
       "      <td>1300</td>\n",
       "      <td>Suzuki</td>\n",
       "    </tr>\n",
       "    <tr>\n",
       "      <th>617</th>\n",
       "      <td>Suzuki Hayabusa 1300cc</td>\n",
       "      <td>1260000.0</td>\n",
       "      <td>Jaipur</td>\n",
       "      <td>17000.0</td>\n",
       "      <td>First Owner</td>\n",
       "      <td>4.0</td>\n",
       "      <td>1300</td>\n",
       "      <td>Suzuki</td>\n",
       "    </tr>\n",
       "    <tr>\n",
       "      <th>167</th>\n",
       "      <td>Suzuki Hayabusa 1300cc</td>\n",
       "      <td>950000.0</td>\n",
       "      <td>Chennai</td>\n",
       "      <td>312.0</td>\n",
       "      <td>First Owner</td>\n",
       "      <td>3.0</td>\n",
       "      <td>1300</td>\n",
       "      <td>Suzuki</td>\n",
       "    </tr>\n",
       "  </tbody>\n",
       "</table>\n",
       "</div>"
      ],
      "text/plain": [
       "                             bike_name      price      city  kms_driven  \\\n",
       "367        Indian Chief Classic 1800cc  1900000.0   Chennai      1700.0   \n",
       "1362  Triumph Thunderbird Storm 1700cc   700000.0  Guwahati       176.0   \n",
       "7481            Suzuki Hayabusa 1300cc  1149000.0     Delhi      9875.0   \n",
       "617             Suzuki Hayabusa 1300cc  1260000.0    Jaipur     17000.0   \n",
       "167             Suzuki Hayabusa 1300cc   950000.0   Chennai       312.0   \n",
       "\n",
       "            owner  age  power    brand  \n",
       "367   First Owner  6.0   1800   Indian  \n",
       "1362  First Owner  5.0   1700  Triumph  \n",
       "7481  First Owner  6.0   1300   Suzuki  \n",
       "617   First Owner  4.0   1300   Suzuki  \n",
       "167   First Owner  3.0   1300   Suzuki  "
      ]
     },
     "execution_count": 99,
     "metadata": {},
     "output_type": "execute_result"
    }
   ],
   "source": [
    "# check the price of top 5 engine powers\n",
    "df.sort_values(by='power',ascending=False).head()"
   ]
  },
  {
   "cell_type": "code",
   "execution_count": 100,
   "id": "b38a05c8-7242-4779-a92d-5fef10ccbc93",
   "metadata": {},
   "outputs": [
    {
     "data": {
      "text/html": [
       "<div>\n",
       "<style scoped>\n",
       "    .dataframe tbody tr th:only-of-type {\n",
       "        vertical-align: middle;\n",
       "    }\n",
       "\n",
       "    .dataframe tbody tr th {\n",
       "        vertical-align: top;\n",
       "    }\n",
       "\n",
       "    .dataframe thead th {\n",
       "        text-align: right;\n",
       "    }\n",
       "</style>\n",
       "<table border=\"1\" class=\"dataframe\">\n",
       "  <thead>\n",
       "    <tr style=\"text-align: right;\">\n",
       "      <th></th>\n",
       "      <th>bike_name</th>\n",
       "      <th>price</th>\n",
       "      <th>city</th>\n",
       "      <th>kms_driven</th>\n",
       "      <th>owner</th>\n",
       "      <th>age</th>\n",
       "      <th>power</th>\n",
       "      <th>brand</th>\n",
       "    </tr>\n",
       "  </thead>\n",
       "  <tbody>\n",
       "    <tr>\n",
       "      <th>7633</th>\n",
       "      <td>Hero Splendor Pro 100cc</td>\n",
       "      <td>18000.0</td>\n",
       "      <td>Delhi</td>\n",
       "      <td>750000.0</td>\n",
       "      <td>First Owner</td>\n",
       "      <td>10.0</td>\n",
       "      <td>100</td>\n",
       "      <td>Hero</td>\n",
       "    </tr>\n",
       "    <tr>\n",
       "      <th>5144</th>\n",
       "      <td>Bajaj Discover 125cc</td>\n",
       "      <td>10500.0</td>\n",
       "      <td>Delhi</td>\n",
       "      <td>717794.0</td>\n",
       "      <td>First Owner</td>\n",
       "      <td>15.0</td>\n",
       "      <td>125</td>\n",
       "      <td>Bajaj</td>\n",
       "    </tr>\n",
       "    <tr>\n",
       "      <th>9160</th>\n",
       "      <td>Honda CB Shine 125cc</td>\n",
       "      <td>20000.0</td>\n",
       "      <td>Chennai</td>\n",
       "      <td>654984.0</td>\n",
       "      <td>First Owner</td>\n",
       "      <td>10.0</td>\n",
       "      <td>125</td>\n",
       "      <td>Honda</td>\n",
       "    </tr>\n",
       "  </tbody>\n",
       "</table>\n",
       "</div>"
      ],
      "text/plain": [
       "                    bike_name    price     city  kms_driven        owner  \\\n",
       "7633  Hero Splendor Pro 100cc  18000.0    Delhi    750000.0  First Owner   \n",
       "5144     Bajaj Discover 125cc  10500.0    Delhi    717794.0  First Owner   \n",
       "9160     Honda CB Shine 125cc  20000.0  Chennai    654984.0  First Owner   \n",
       "\n",
       "       age  power  brand  \n",
       "7633  10.0    100   Hero  \n",
       "5144  15.0    125  Bajaj  \n",
       "9160  10.0    125  Honda  "
      ]
     },
     "execution_count": 100,
     "metadata": {},
     "output_type": "execute_result"
    }
   ],
   "source": [
    "# check the top 3 highest kms_driven\n",
    "df.sort_values(by='kms_driven',ascending=False).head(3)"
   ]
  },
  {
   "cell_type": "code",
   "execution_count": 101,
   "id": "6c4529cc-7c61-4d62-9139-efbb2d36d928",
   "metadata": {},
   "outputs": [
    {
     "data": {
      "image/png": "[encoded data removed]",
      "text/plain": [
       "<Figure size 1500x500 with 3 Axes>"
      ]
     },
     "metadata": {},
     "output_type": "display_data"
    }
   ],
   "source": [
    "# check the outlier\n",
    "fig,ax=plt.subplots(nrows=1,ncols=3,figsize=(15,5))\n",
    "sns.boxplot(df['price'],ax=ax[0]).set\n",
    "ax[0].set_xlabel('price')\n",
    "sns.boxplot(df['power'],ax=ax[1])\n",
    "ax[1].set_xlabel('power')\n",
    "sns.boxplot(df['kms_driven'],ax=ax[2])\n",
    "ax[2].set_xlabel('kms_driven')\n",
    "plt.show()"
   ]
  },
  {
   "cell_type": "code",
   "execution_count": 102,
   "id": "e222325c-c4f9-4e9b-a3ab-b6114309d52a",
   "metadata": {},
   "outputs": [],
   "source": [
    "cat_cols = []\n",
    "for i in df.columns:\n",
    "    if df[i].dtypes == 'object':\n",
    "        cat_cols.append(i)"
   ]
  },
  {
   "cell_type": "code",
   "execution_count": 103,
   "id": "0fd1256f-e374-44e2-b60c-19a48ae1d918",
   "metadata": {},
   "outputs": [
    {
     "data": {
      "text/plain": [
       "['bike_name', 'city', 'owner', 'brand']"
      ]
     },
     "execution_count": 103,
     "metadata": {},
     "output_type": "execute_result"
    }
   ],
   "source": [
    "cat_cols"
   ]
  },
  {
   "cell_type": "code",
   "execution_count": 104,
   "id": "6aa2b55c-9dee-4b6c-ac40-bc8fded7f542",
   "metadata": {},
   "outputs": [],
   "source": [
    "num_cols = []\n",
    "for i in df.columns:\n",
    "    if df[i].dtypes == 'float64' or df[i].dtypes == 'int64':\n",
    "        num_cols.append(i)"
   ]
  },
  {
   "cell_type": "code",
   "execution_count": 105,
   "id": "0c7cbaa6-e8c5-4fca-b899-feca9f8db15b",
   "metadata": {},
   "outputs": [
    {
     "data": {
      "text/plain": [
       "['price', 'kms_driven', 'age', 'power']"
      ]
     },
     "execution_count": 105,
     "metadata": {},
     "output_type": "execute_result"
    }
   ],
   "source": [
    "num_cols"
   ]
  },
  {
   "cell_type": "code",
   "execution_count": 106,
   "id": "71ae7f0a-6b66-43dc-bd6a-195669a8bf29",
   "metadata": {},
   "outputs": [],
   "source": [
    "num_cols.remove('price')"
   ]
  },
  {
   "cell_type": "code",
   "execution_count": 107,
   "id": "bad8892f-b56f-4284-bf6d-1af49099d261",
   "metadata": {},
   "outputs": [
    {
     "data": {
      "text/plain": [
       "['kms_driven', 'age', 'power']"
      ]
     },
     "execution_count": 107,
     "metadata": {},
     "output_type": "execute_result"
    }
   ],
   "source": [
    "num_cols"
   ]
  },
  {
   "cell_type": "markdown",
   "id": "19d89ea8-1798-4490-873c-6be046a7fe06",
   "metadata": {},
   "source": [
    "# Feature Engennering"
   ]
  },
  {
   "cell_type": "code",
   "execution_count": 109,
   "id": "fcda9214-7fcb-4ae3-8ac1-8d0d2ac19244",
   "metadata": {},
   "outputs": [],
   "source": [
    "# for category feture we will go for one hot encoder\n",
    "# for num cols we will go for standardscaler"
   ]
  },
  {
   "cell_type": "code",
   "execution_count": 110,
   "id": "61a752d9-f1ed-408a-8e1d-9c4dd8de7f39",
   "metadata": {},
   "outputs": [],
   "source": [
    "from sklearn.preprocessing import OneHotEncoder\n",
    "ohe = OneHotEncoder(sparse=False)"
   ]
  },
  {
   "cell_type": "code",
   "execution_count": 111,
   "id": "832cbd31-320c-4638-8256-1129f0345e60",
   "metadata": {},
   "outputs": [
    {
     "data": {
      "text/html": [
       "<div>\n",
       "<style scoped>\n",
       "    .dataframe tbody tr th:only-of-type {\n",
       "        vertical-align: middle;\n",
       "    }\n",
       "\n",
       "    .dataframe tbody tr th {\n",
       "        vertical-align: top;\n",
       "    }\n",
       "\n",
       "    .dataframe thead th {\n",
       "        text-align: right;\n",
       "    }\n",
       "</style>\n",
       "<table border=\"1\" class=\"dataframe\">\n",
       "  <thead>\n",
       "    <tr style=\"text-align: right;\">\n",
       "      <th></th>\n",
       "      <th>bike_name</th>\n",
       "      <th>price</th>\n",
       "      <th>city</th>\n",
       "      <th>kms_driven</th>\n",
       "      <th>owner</th>\n",
       "      <th>age</th>\n",
       "      <th>power</th>\n",
       "      <th>brand</th>\n",
       "    </tr>\n",
       "  </thead>\n",
       "  <tbody>\n",
       "    <tr>\n",
       "      <th>0</th>\n",
       "      <td>TVS Star City Plus Dual Tone 110cc</td>\n",
       "      <td>35000.0</td>\n",
       "      <td>Ahmedabad</td>\n",
       "      <td>17654.0</td>\n",
       "      <td>First Owner</td>\n",
       "      <td>3.0</td>\n",
       "      <td>110</td>\n",
       "      <td>TVS</td>\n",
       "    </tr>\n",
       "    <tr>\n",
       "      <th>1</th>\n",
       "      <td>Royal Enfield Classic 350cc</td>\n",
       "      <td>119900.0</td>\n",
       "      <td>Delhi</td>\n",
       "      <td>11000.0</td>\n",
       "      <td>First Owner</td>\n",
       "      <td>4.0</td>\n",
       "      <td>350</td>\n",
       "      <td>Royal Enfield</td>\n",
       "    </tr>\n",
       "  </tbody>\n",
       "</table>\n",
       "</div>"
      ],
      "text/plain": [
       "                            bike_name     price       city  kms_driven  \\\n",
       "0  TVS Star City Plus Dual Tone 110cc   35000.0  Ahmedabad     17654.0   \n",
       "1         Royal Enfield Classic 350cc  119900.0      Delhi     11000.0   \n",
       "\n",
       "         owner  age  power          brand  \n",
       "0  First Owner  3.0    110            TVS  \n",
       "1  First Owner  4.0    350  Royal Enfield  "
      ]
     },
     "execution_count": 111,
     "metadata": {},
     "output_type": "execute_result"
    }
   ],
   "source": [
    "df.head(2)"
   ]
  },
  {
   "cell_type": "markdown",
   "id": "707dff78-1bc6-4303-b802-32dfcc677f80",
   "metadata": {},
   "source": [
    "### For a fast and scalable approach, you can also try Hash Encoding to keep the feature space manageable."
   ]
  },
  {
   "cell_type": "code",
   "execution_count": 113,
   "id": "b46c8d15-b3a5-49bc-b352-42c2fa66e093",
   "metadata": {},
   "outputs": [
    {
     "data": {
      "text/plain": [
       "city\n",
       "Delhi                  7318\n",
       "Bangalore              2723\n",
       "Mumbai                 2591\n",
       "Hyderabad              2160\n",
       "Pune                   1724\n",
       "Chennai                1619\n",
       "Lucknow                1294\n",
       "Jaipur                 1007\n",
       "Ghaziabad               938\n",
       "Ahmedabad               905\n",
       "Noida                   776\n",
       "Bhopal                  651\n",
       "Gautam Buddha Nagar     649\n",
       "Kanchipuram             640\n",
       "Jodhpur                 635\n",
       "Karnal                  625\n",
       "Rupnagar                621\n",
       "Allahabad               621\n",
       "Gurgaon                 617\n",
       "Godhara                 611\n",
       "Faridabad               609\n",
       "Kadapa                  608\n",
       "Perumbavoor             608\n",
       "Ludhiana                100\n",
       "Kolkata                  97\n",
       "Thane                    94\n",
       "Jhansi                   87\n",
       "Vadodara                 75\n",
       "Surat                    57\n",
       "Jalandhar                52\n",
       "Chandigarh               46\n",
       "Rajkot                   36\n",
       "Indore                   33\n",
       "Dehradun                 30\n",
       "Patna                    29\n",
       "Navi Mumbai              27\n",
       "Nagpur                   27\n",
       "Coimbatore               25\n",
       "Tiruvallur               23\n",
       "Guwahati                 23\n",
       "Bhubaneshwar             22\n",
       "Howrah                   21\n",
       "Kanpur                   19\n",
       "Aurangabad               18\n",
       "Cuttack                  17\n",
       "Visakhapatnam            16\n",
       "Alibag                   15\n",
       "Alipore                  14\n",
       "Kalyan                   13\n",
       "Nashik                   13\n",
       "Ranchi                   13\n",
       "Udaipur                  12\n",
       "Rohtak                   12\n",
       "Agra                     12\n",
       "Kota                     12\n",
       "Gorakhpur                12\n",
       "24 Pargana               11\n",
       "Ernakulam                11\n",
       "Gandhinagar              11\n",
       "Meerut                   11\n",
       "Name: count, dtype: int64"
      ]
     },
     "execution_count": 113,
     "metadata": {},
     "output_type": "execute_result"
    }
   ],
   "source": [
    "# top 10 city\n",
    "df['city'].value_counts().head(60)"
   ]
  },
  {
   "cell_type": "code",
   "execution_count": 114,
   "id": "9946d1b4-0068-4521-a3d5-d7fb92ada53f",
   "metadata": {},
   "outputs": [],
   "source": [
    "\n",
    "# for index, nos in enumerate(df['city']):\n",
    "#     if df['city'].value_counts()[nos] <= 900:\n",
    "#         df.at[index, 'city'] = 'others'"
   ]
  },
  {
   "cell_type": "code",
   "execution_count": 115,
   "id": "ed361f66-2a42-441c-8a57-67ce30d19797",
   "metadata": {},
   "outputs": [
    {
     "data": {
      "text/plain": [
       "city\n",
       "Delhi            7318\n",
       "Bangalore        2723\n",
       "Mumbai           2591\n",
       "Hyderabad        2160\n",
       "Pune             1724\n",
       "                 ... \n",
       "Surendranagar       1\n",
       "Khandela            1\n",
       "Mohammadabad        1\n",
       "Shimla              1\n",
       "Sidhi               1\n",
       "Name: count, Length: 443, dtype: int64"
      ]
     },
     "execution_count": 115,
     "metadata": {},
     "output_type": "execute_result"
    }
   ],
   "source": [
    "df['city'].value_counts()"
   ]
  },
  {
   "cell_type": "code",
   "execution_count": 116,
   "id": "b5169cf1-94db-48cc-8472-0c8752266f01",
   "metadata": {},
   "outputs": [],
   "source": [
    "for city,count in df['city'].value_counts().items():\n",
    "    if count <= 900:\n",
    "        df['city']=df['city'].replace(city,'others')"
   ]
  },
  {
   "cell_type": "code",
   "execution_count": 117,
   "id": "4265290a-f82d-4569-807c-17ee7ac197c5",
   "metadata": {},
   "outputs": [
    {
     "data": {
      "text/plain": [
       "471"
      ]
     },
     "execution_count": 117,
     "metadata": {},
     "output_type": "execute_result"
    }
   ],
   "source": [
    "df['bike_name'].nunique()"
   ]
  },
  {
   "cell_type": "markdown",
   "id": "692cd0cd-ee85-4bd2-a42a-9e4c3d0060cd",
   "metadata": {},
   "source": [
    "### In my opinion i should keep remain all the bike names, and in html i will make then available as per brand name"
   ]
  },
  {
   "cell_type": "markdown",
   "id": "3cae224f-e191-4096-9db5-b4275e26d5f8",
   "metadata": {},
   "source": [
    "### fitting label encoder for this"
   ]
  },
  {
   "cell_type": "code",
   "execution_count": 120,
   "id": "5b17f77b-5bb4-4104-a20b-916d691d1f78",
   "metadata": {},
   "outputs": [],
   "source": [
    "from sklearn.preprocessing import LabelEncoder\n",
    "le = LabelEncoder()"
   ]
  },
  {
   "cell_type": "code",
   "execution_count": 121,
   "id": "17ae27d7-f701-45f7-9cd0-79fec805f50a",
   "metadata": {},
   "outputs": [],
   "source": [
    "df['bike_name'] = le.fit_transform(df['bike_name'])"
   ]
  },
  {
   "cell_type": "code",
   "execution_count": 122,
   "id": "253cd88d-e542-45bb-9a3f-66ecf1ccaa7e",
   "metadata": {},
   "outputs": [
    {
     "data": {
      "text/html": [
       "<div>\n",
       "<style scoped>\n",
       "    .dataframe tbody tr th:only-of-type {\n",
       "        vertical-align: middle;\n",
       "    }\n",
       "\n",
       "    .dataframe tbody tr th {\n",
       "        vertical-align: top;\n",
       "    }\n",
       "\n",
       "    .dataframe thead th {\n",
       "        text-align: right;\n",
       "    }\n",
       "</style>\n",
       "<table border=\"1\" class=\"dataframe\">\n",
       "  <thead>\n",
       "    <tr style=\"text-align: right;\">\n",
       "      <th></th>\n",
       "      <th>bike_name</th>\n",
       "      <th>price</th>\n",
       "      <th>city</th>\n",
       "      <th>kms_driven</th>\n",
       "      <th>owner</th>\n",
       "      <th>age</th>\n",
       "      <th>power</th>\n",
       "      <th>brand</th>\n",
       "    </tr>\n",
       "  </thead>\n",
       "  <tbody>\n",
       "    <tr>\n",
       "      <th>0</th>\n",
       "      <td>401</td>\n",
       "      <td>35000.0</td>\n",
       "      <td>Ahmedabad</td>\n",
       "      <td>17654.0</td>\n",
       "      <td>First Owner</td>\n",
       "      <td>3.0</td>\n",
       "      <td>110</td>\n",
       "      <td>TVS</td>\n",
       "    </tr>\n",
       "    <tr>\n",
       "      <th>1</th>\n",
       "      <td>295</td>\n",
       "      <td>119900.0</td>\n",
       "      <td>Delhi</td>\n",
       "      <td>11000.0</td>\n",
       "      <td>First Owner</td>\n",
       "      <td>4.0</td>\n",
       "      <td>350</td>\n",
       "      <td>Royal Enfield</td>\n",
       "    </tr>\n",
       "    <tr>\n",
       "      <th>2</th>\n",
       "      <td>411</td>\n",
       "      <td>600000.0</td>\n",
       "      <td>Delhi</td>\n",
       "      <td>110.0</td>\n",
       "      <td>First Owner</td>\n",
       "      <td>8.0</td>\n",
       "      <td>675</td>\n",
       "      <td>Triumph</td>\n",
       "    </tr>\n",
       "    <tr>\n",
       "      <th>3</th>\n",
       "      <td>375</td>\n",
       "      <td>65000.0</td>\n",
       "      <td>Bangalore</td>\n",
       "      <td>16329.0</td>\n",
       "      <td>First Owner</td>\n",
       "      <td>4.0</td>\n",
       "      <td>180</td>\n",
       "      <td>TVS</td>\n",
       "    </tr>\n",
       "    <tr>\n",
       "      <th>4</th>\n",
       "      <td>426</td>\n",
       "      <td>80000.0</td>\n",
       "      <td>Bangalore</td>\n",
       "      <td>10000.0</td>\n",
       "      <td>First Owner</td>\n",
       "      <td>3.0</td>\n",
       "      <td>150</td>\n",
       "      <td>Yamaha</td>\n",
       "    </tr>\n",
       "    <tr>\n",
       "      <th>5</th>\n",
       "      <td>437</td>\n",
       "      <td>53499.0</td>\n",
       "      <td>Delhi</td>\n",
       "      <td>25000.0</td>\n",
       "      <td>First Owner</td>\n",
       "      <td>6.0</td>\n",
       "      <td>150</td>\n",
       "      <td>Yamaha</td>\n",
       "    </tr>\n",
       "    <tr>\n",
       "      <th>6</th>\n",
       "      <td>189</td>\n",
       "      <td>85000.0</td>\n",
       "      <td>Delhi</td>\n",
       "      <td>8200.0</td>\n",
       "      <td>First Owner</td>\n",
       "      <td>3.0</td>\n",
       "      <td>160</td>\n",
       "      <td>Honda</td>\n",
       "    </tr>\n",
       "    <tr>\n",
       "      <th>7</th>\n",
       "      <td>168</td>\n",
       "      <td>45000.0</td>\n",
       "      <td>Delhi</td>\n",
       "      <td>12645.0</td>\n",
       "      <td>First Owner</td>\n",
       "      <td>3.0</td>\n",
       "      <td>100</td>\n",
       "      <td>Hero</td>\n",
       "    </tr>\n",
       "    <tr>\n",
       "      <th>8</th>\n",
       "      <td>326</td>\n",
       "      <td>145000.0</td>\n",
       "      <td>Bangalore</td>\n",
       "      <td>9190.0</td>\n",
       "      <td>First Owner</td>\n",
       "      <td>3.0</td>\n",
       "      <td>350</td>\n",
       "      <td>Royal Enfield</td>\n",
       "    </tr>\n",
       "    <tr>\n",
       "      <th>9</th>\n",
       "      <td>304</td>\n",
       "      <td>88000.0</td>\n",
       "      <td>Delhi</td>\n",
       "      <td>19000.0</td>\n",
       "      <td>Second Owner</td>\n",
       "      <td>7.0</td>\n",
       "      <td>500</td>\n",
       "      <td>Royal Enfield</td>\n",
       "    </tr>\n",
       "  </tbody>\n",
       "</table>\n",
       "</div>"
      ],
      "text/plain": [
       "   bike_name     price       city  kms_driven         owner  age  power  \\\n",
       "0        401   35000.0  Ahmedabad     17654.0   First Owner  3.0    110   \n",
       "1        295  119900.0      Delhi     11000.0   First Owner  4.0    350   \n",
       "2        411  600000.0      Delhi       110.0   First Owner  8.0    675   \n",
       "3        375   65000.0  Bangalore     16329.0   First Owner  4.0    180   \n",
       "4        426   80000.0  Bangalore     10000.0   First Owner  3.0    150   \n",
       "5        437   53499.0      Delhi     25000.0   First Owner  6.0    150   \n",
       "6        189   85000.0      Delhi      8200.0   First Owner  3.0    160   \n",
       "7        168   45000.0      Delhi     12645.0   First Owner  3.0    100   \n",
       "8        326  145000.0  Bangalore      9190.0   First Owner  3.0    350   \n",
       "9        304   88000.0      Delhi     19000.0  Second Owner  7.0    500   \n",
       "\n",
       "           brand  \n",
       "0            TVS  \n",
       "1  Royal Enfield  \n",
       "2        Triumph  \n",
       "3            TVS  \n",
       "4         Yamaha  \n",
       "5         Yamaha  \n",
       "6          Honda  \n",
       "7           Hero  \n",
       "8  Royal Enfield  \n",
       "9  Royal Enfield  "
      ]
     },
     "execution_count": 122,
     "metadata": {},
     "output_type": "execute_result"
    }
   ],
   "source": [
    "df.head(10)"
   ]
  },
  {
   "cell_type": "code",
   "execution_count": 123,
   "id": "c226e61c-d27e-4d43-a619-8eb0565af9ab",
   "metadata": {},
   "outputs": [
    {
     "data": {
      "text/plain": [
       "['bike_name', 'city', 'owner', 'brand']"
      ]
     },
     "execution_count": 123,
     "metadata": {},
     "output_type": "execute_result"
    }
   ],
   "source": [
    "cat_cols"
   ]
  },
  {
   "cell_type": "code",
   "execution_count": 124,
   "id": "b52e67bb-dab7-4829-8da9-6705a3e5101c",
   "metadata": {},
   "outputs": [],
   "source": [
    "for cols in cat_cols:\n",
    "    df[cols] = le.fit_transform(df[cols])"
   ]
  },
  {
   "cell_type": "code",
   "execution_count": 125,
   "id": "156ddbe9-c178-4665-b60a-68867d2d4691",
   "metadata": {},
   "outputs": [
    {
     "data": {
      "text/html": [
       "<div>\n",
       "<style scoped>\n",
       "    .dataframe tbody tr th:only-of-type {\n",
       "        vertical-align: middle;\n",
       "    }\n",
       "\n",
       "    .dataframe tbody tr th {\n",
       "        vertical-align: top;\n",
       "    }\n",
       "\n",
       "    .dataframe thead th {\n",
       "        text-align: right;\n",
       "    }\n",
       "</style>\n",
       "<table border=\"1\" class=\"dataframe\">\n",
       "  <thead>\n",
       "    <tr style=\"text-align: right;\">\n",
       "      <th></th>\n",
       "      <th>bike_name</th>\n",
       "      <th>price</th>\n",
       "      <th>city</th>\n",
       "      <th>kms_driven</th>\n",
       "      <th>owner</th>\n",
       "      <th>age</th>\n",
       "      <th>power</th>\n",
       "      <th>brand</th>\n",
       "    </tr>\n",
       "  </thead>\n",
       "  <tbody>\n",
       "    <tr>\n",
       "      <th>0</th>\n",
       "      <td>401</td>\n",
       "      <td>35000.0</td>\n",
       "      <td>0</td>\n",
       "      <td>17654.0</td>\n",
       "      <td>0</td>\n",
       "      <td>3.0</td>\n",
       "      <td>110</td>\n",
       "      <td>19</td>\n",
       "    </tr>\n",
       "    <tr>\n",
       "      <th>1</th>\n",
       "      <td>295</td>\n",
       "      <td>119900.0</td>\n",
       "      <td>3</td>\n",
       "      <td>11000.0</td>\n",
       "      <td>0</td>\n",
       "      <td>4.0</td>\n",
       "      <td>350</td>\n",
       "      <td>17</td>\n",
       "    </tr>\n",
       "  </tbody>\n",
       "</table>\n",
       "</div>"
      ],
      "text/plain": [
       "   bike_name     price  city  kms_driven  owner  age  power  brand\n",
       "0        401   35000.0     0     17654.0      0  3.0    110     19\n",
       "1        295  119900.0     3     11000.0      0  4.0    350     17"
      ]
     },
     "execution_count": 125,
     "metadata": {},
     "output_type": "execute_result"
    }
   ],
   "source": [
    "df.head(2)"
   ]
  },
  {
   "cell_type": "code",
   "execution_count": 126,
   "id": "ee0d1de9-266c-42a1-bcb1-c3bf49ba66c6",
   "metadata": {},
   "outputs": [],
   "source": [
    "num_cols.remove('age')"
   ]
  },
  {
   "cell_type": "code",
   "execution_count": 127,
   "id": "0202566d-9032-4e0c-b51a-183bf8696422",
   "metadata": {},
   "outputs": [
    {
     "data": {
      "text/plain": [
       "['kms_driven', 'power']"
      ]
     },
     "execution_count": 127,
     "metadata": {},
     "output_type": "execute_result"
    }
   ],
   "source": [
    "num_cols"
   ]
  },
  {
   "cell_type": "code",
   "execution_count": 128,
   "id": "456faf79-2222-4288-9bb6-1564cd56c2a0",
   "metadata": {},
   "outputs": [],
   "source": [
    "from sklearn.preprocessing import StandardScaler\n",
    "stc = StandardScaler()"
   ]
  },
  {
   "cell_type": "code",
   "execution_count": 129,
   "id": "9e543bd6-8142-4914-a2e0-faf309984df1",
   "metadata": {},
   "outputs": [],
   "source": [
    "for cols in num_cols:\n",
    "    df[cols] = stc.fit_transform(df[[cols]])"
   ]
  },
  {
   "cell_type": "code",
   "execution_count": 130,
   "id": "b5bebb5a-06bf-4b78-8207-5cd789d78e41",
   "metadata": {},
   "outputs": [
    {
     "data": {
      "text/html": [
       "<div>\n",
       "<style scoped>\n",
       "    .dataframe tbody tr th:only-of-type {\n",
       "        vertical-align: middle;\n",
       "    }\n",
       "\n",
       "    .dataframe tbody tr th {\n",
       "        vertical-align: top;\n",
       "    }\n",
       "\n",
       "    .dataframe thead th {\n",
       "        text-align: right;\n",
       "    }\n",
       "</style>\n",
       "<table border=\"1\" class=\"dataframe\">\n",
       "  <thead>\n",
       "    <tr style=\"text-align: right;\">\n",
       "      <th></th>\n",
       "      <th>bike_name</th>\n",
       "      <th>price</th>\n",
       "      <th>city</th>\n",
       "      <th>kms_driven</th>\n",
       "      <th>owner</th>\n",
       "      <th>age</th>\n",
       "      <th>power</th>\n",
       "      <th>brand</th>\n",
       "    </tr>\n",
       "  </thead>\n",
       "  <tbody>\n",
       "    <tr>\n",
       "      <th>0</th>\n",
       "      <td>401</td>\n",
       "      <td>35000.0</td>\n",
       "      <td>0</td>\n",
       "      <td>-0.391325</td>\n",
       "      <td>0</td>\n",
       "      <td>3.0</td>\n",
       "      <td>-0.770020</td>\n",
       "      <td>19</td>\n",
       "    </tr>\n",
       "    <tr>\n",
       "      <th>1</th>\n",
       "      <td>295</td>\n",
       "      <td>119900.0</td>\n",
       "      <td>3</td>\n",
       "      <td>-0.690945</td>\n",
       "      <td>0</td>\n",
       "      <td>4.0</td>\n",
       "      <td>1.015338</td>\n",
       "      <td>17</td>\n",
       "    </tr>\n",
       "  </tbody>\n",
       "</table>\n",
       "</div>"
      ],
      "text/plain": [
       "   bike_name     price  city  kms_driven  owner  age     power  brand\n",
       "0        401   35000.0     0   -0.391325      0  3.0 -0.770020     19\n",
       "1        295  119900.0     3   -0.690945      0  4.0  1.015338     17"
      ]
     },
     "execution_count": 130,
     "metadata": {},
     "output_type": "execute_result"
    }
   ],
   "source": [
    "df.head(2)"
   ]
  },
  {
   "cell_type": "markdown",
   "id": "bfdabb06-f867-4ae1-b768-2cf06331d0c7",
   "metadata": {},
   "source": [
    "# Splliting the dataset"
   ]
  },
  {
   "cell_type": "code",
   "execution_count": 132,
   "id": "43502adc-4cd2-49c6-90a9-10ecc8b87793",
   "metadata": {},
   "outputs": [],
   "source": [
    "from sklearn.model_selection import train_test_split"
   ]
  },
  {
   "cell_type": "code",
   "execution_count": 133,
   "id": "e5dd72a5-7910-4577-af7f-b5df8f9d8b7c",
   "metadata": {},
   "outputs": [],
   "source": [
    "X = df.drop(columns='price')\n",
    "y = df['price']"
   ]
  },
  {
   "cell_type": "code",
   "execution_count": 134,
   "id": "fae50218-a33d-4e60-b56c-ea3d1708e3bc",
   "metadata": {},
   "outputs": [
    {
     "data": {
      "text/plain": [
       "((32648, 7), (32648,))"
      ]
     },
     "execution_count": 134,
     "metadata": {},
     "output_type": "execute_result"
    }
   ],
   "source": [
    "X.shape,y.shape"
   ]
  },
  {
   "cell_type": "code",
   "execution_count": 135,
   "id": "616fa1c4-bc87-439b-a688-476c9c692106",
   "metadata": {},
   "outputs": [],
   "source": [
    "X_train,X_test,y_train,y_test = train_test_split(X,y,test_size=0.2,random_state=42)"
   ]
  },
  {
   "cell_type": "code",
   "execution_count": 136,
   "id": "3f445d77-1727-48cf-9157-5c9048bb208c",
   "metadata": {},
   "outputs": [
    {
     "data": {
      "text/plain": [
       "((26118, 7), (6530, 7), (26118,), (6530,))"
      ]
     },
     "execution_count": 136,
     "metadata": {},
     "output_type": "execute_result"
    }
   ],
   "source": [
    "X_train.shape,X_test.shape,y_train.shape,y_test.shape"
   ]
  },
  {
   "cell_type": "markdown",
   "id": "b4a758fa-eb89-4cf0-bac4-111b46fc5466",
   "metadata": {},
   "source": [
    "# Model Building"
   ]
  },
  {
   "cell_type": "code",
   "execution_count": 138,
   "id": "ff276486-009a-4e2b-b3a3-3392a47db7be",
   "metadata": {},
   "outputs": [],
   "source": [
    "from sklearn.linear_model import LinearRegression\n",
    "from sklearn.ensemble import RandomForestRegressor\n",
    "from sklearn.tree import DecisionTreeRegressor\n",
    "from sklearn.linear_model import Ridge,Lasso,ElasticNet"
   ]
  },
  {
   "cell_type": "code",
   "execution_count": 139,
   "id": "1d6e8632-8862-4b15-81b6-8cb1f981ccd4",
   "metadata": {},
   "outputs": [],
   "source": [
    "models = {\n",
    "    \"lr\":LinearRegression(),\n",
    "    \"rfr\":RandomForestRegressor(),\n",
    "    \"dtr\":DecisionTreeRegressor(),\n",
    "    \"ridge\":Ridge(),\n",
    "    \"lasso\":Lasso(),\n",
    "    \"enet\":ElasticNet()\n",
    "}"
   ]
  },
  {
   "cell_type": "code",
   "execution_count": 140,
   "id": "b8008690-e14f-4c2b-b378-fda0cda6bdd8",
   "metadata": {},
   "outputs": [],
   "source": [
    "grid_params = {\n",
    "    \"lr\" : {\n",
    "        \"fit_intercept\":[False,True]\n",
    "        # \"positive\":[False,True]\n",
    "    },\n",
    "\n",
    "    \"rfr\" : {\n",
    "        \"n_estimators\":[10,2,3],\n",
    "        \"criterion\": [\"squared_error\", \"absolute_error\", \"friedman_mse\", \"poisson\"],\n",
    "        \"bootstrap\" : [True,False],\n",
    "        \"oob_score\" : [True,False]\n",
    "    },\n",
    "\n",
    "    \"dtr\" : {\n",
    "        \"criterion\": [\"squared_error\", \"absolute_error\", \"friedman_mse\", \"poisson\"],\n",
    "        \"splitter\":[\"best\",\"random\"],\n",
    "    },\n",
    "\n",
    "    \"ridge\":{\n",
    "        \"alpha\":[1.0,0.5,1.5,2.0],\n",
    "        \"solver\":['auto', 'svd', 'cholesky', 'lsqr', 'sparse_cg', 'sag', 'saga']\n",
    "    },\n",
    "\n",
    "    \"lasso\" : {\n",
    "        \"alpha\":[1.0,0.5,1.5,2.0],\n",
    "    },\n",
    "\n",
    "    \"enet\" : {\n",
    "        \"alpha\":[1.0,0.5,1.5,2.0],\n",
    "        \"l1_ratio\" :[0.3,0.4,0.5],\n",
    "        \"selection\": [\"cyclic\",\"random\"]\n",
    "    }\n",
    "}"
   ]
  },
  {
   "cell_type": "code",
   "execution_count": 141,
   "id": "ee569bba-650a-49b2-9d92-031b6c984fc5",
   "metadata": {},
   "outputs": [],
   "source": [
    "from sklearn.model_selection import GridSearchCV"
   ]
  },
  {
   "cell_type": "code",
   "execution_count": 142,
   "id": "e022e7ae-27b8-41e8-bdbc-b53c598b77b6",
   "metadata": {},
   "outputs": [
    {
     "name": "stdout",
     "output_type": "stream",
     "text": [
      "Best parameters:  {'fit_intercept': True}\n",
      "best score:  0.8320113250467169\n",
      "best estimator:  LinearRegression()\n"
     ]
    },
    {
     "name": "stderr",
     "output_type": "stream",
     "text": [
      "/Applications/anaconda3/lib/python3.11/site-packages/sklearn/ensemble/_forest.py:583: UserWarning: Some inputs do not have OOB scores. This probably means too few trees were used to compute any reliable OOB estimates.\n",
      "  warn(\n",
      "/Applications/anaconda3/lib/python3.11/site-packages/sklearn/ensemble/_forest.py:583: UserWarning: Some inputs do not have OOB scores. This probably means too few trees were used to compute any reliable OOB estimates.\n",
      "  warn(\n",
      "/Applications/anaconda3/lib/python3.11/site-packages/sklearn/ensemble/_forest.py:583: UserWarning: Some inputs do not have OOB scores. This probably means too few trees were used to compute any reliable OOB estimates.\n",
      "  warn(\n",
      "/Applications/anaconda3/lib/python3.11/site-packages/sklearn/ensemble/_forest.py:583: UserWarning: Some inputs do not have OOB scores. This probably means too few trees were used to compute any reliable OOB estimates.\n",
      "  warn(\n",
      "/Applications/anaconda3/lib/python3.11/site-packages/sklearn/ensemble/_forest.py:583: UserWarning: Some inputs do not have OOB scores. This probably means too few trees were used to compute any reliable OOB estimates.\n",
      "  warn(\n",
      "/Applications/anaconda3/lib/python3.11/site-packages/sklearn/ensemble/_forest.py:583: UserWarning: Some inputs do not have OOB scores. This probably means too few trees were used to compute any reliable OOB estimates.\n",
      "  warn(\n",
      "/Applications/anaconda3/lib/python3.11/site-packages/sklearn/ensemble/_forest.py:583: UserWarning: Some inputs do not have OOB scores. This probably means too few trees were used to compute any reliable OOB estimates.\n",
      "  warn(\n",
      "/Applications/anaconda3/lib/python3.11/site-packages/sklearn/ensemble/_forest.py:583: UserWarning: Some inputs do not have OOB scores. This probably means too few trees were used to compute any reliable OOB estimates.\n",
      "  warn(\n",
      "/Applications/anaconda3/lib/python3.11/site-packages/sklearn/ensemble/_forest.py:583: UserWarning: Some inputs do not have OOB scores. This probably means too few trees were used to compute any reliable OOB estimates.\n",
      "  warn(\n",
      "/Applications/anaconda3/lib/python3.11/site-packages/sklearn/ensemble/_forest.py:583: UserWarning: Some inputs do not have OOB scores. This probably means too few trees were used to compute any reliable OOB estimates.\n",
      "  warn(\n",
      "/Applications/anaconda3/lib/python3.11/site-packages/sklearn/ensemble/_forest.py:583: UserWarning: Some inputs do not have OOB scores. This probably means too few trees were used to compute any reliable OOB estimates.\n",
      "  warn(\n",
      "/Applications/anaconda3/lib/python3.11/site-packages/sklearn/ensemble/_forest.py:583: UserWarning: Some inputs do not have OOB scores. This probably means too few trees were used to compute any reliable OOB estimates.\n",
      "  warn(\n",
      "/Applications/anaconda3/lib/python3.11/site-packages/sklearn/ensemble/_forest.py:583: UserWarning: Some inputs do not have OOB scores. This probably means too few trees were used to compute any reliable OOB estimates.\n",
      "  warn(\n",
      "/Applications/anaconda3/lib/python3.11/site-packages/sklearn/ensemble/_forest.py:583: UserWarning: Some inputs do not have OOB scores. This probably means too few trees were used to compute any reliable OOB estimates.\n",
      "  warn(\n",
      "/Applications/anaconda3/lib/python3.11/site-packages/sklearn/ensemble/_forest.py:583: UserWarning: Some inputs do not have OOB scores. This probably means too few trees were used to compute any reliable OOB estimates.\n",
      "  warn(\n",
      "/Applications/anaconda3/lib/python3.11/site-packages/sklearn/ensemble/_forest.py:583: UserWarning: Some inputs do not have OOB scores. This probably means too few trees were used to compute any reliable OOB estimates.\n",
      "  warn(\n",
      "/Applications/anaconda3/lib/python3.11/site-packages/sklearn/ensemble/_forest.py:583: UserWarning: Some inputs do not have OOB scores. This probably means too few trees were used to compute any reliable OOB estimates.\n",
      "  warn(\n",
      "/Applications/anaconda3/lib/python3.11/site-packages/sklearn/ensemble/_forest.py:583: UserWarning: Some inputs do not have OOB scores. This probably means too few trees were used to compute any reliable OOB estimates.\n",
      "  warn(\n",
      "/Applications/anaconda3/lib/python3.11/site-packages/sklearn/ensemble/_forest.py:583: UserWarning: Some inputs do not have OOB scores. This probably means too few trees were used to compute any reliable OOB estimates.\n",
      "  warn(\n",
      "/Applications/anaconda3/lib/python3.11/site-packages/sklearn/ensemble/_forest.py:583: UserWarning: Some inputs do not have OOB scores. This probably means too few trees were used to compute any reliable OOB estimates.\n",
      "  warn(\n",
      "/Applications/anaconda3/lib/python3.11/site-packages/sklearn/ensemble/_forest.py:583: UserWarning: Some inputs do not have OOB scores. This probably means too few trees were used to compute any reliable OOB estimates.\n",
      "  warn(\n",
      "/Applications/anaconda3/lib/python3.11/site-packages/sklearn/ensemble/_forest.py:583: UserWarning: Some inputs do not have OOB scores. This probably means too few trees were used to compute any reliable OOB estimates.\n",
      "  warn(\n",
      "/Applications/anaconda3/lib/python3.11/site-packages/sklearn/ensemble/_forest.py:583: UserWarning: Some inputs do not have OOB scores. This probably means too few trees were used to compute any reliable OOB estimates.\n",
      "  warn(\n",
      "/Applications/anaconda3/lib/python3.11/site-packages/sklearn/ensemble/_forest.py:583: UserWarning: Some inputs do not have OOB scores. This probably means too few trees were used to compute any reliable OOB estimates.\n",
      "  warn(\n",
      "/Applications/anaconda3/lib/python3.11/site-packages/sklearn/ensemble/_forest.py:583: UserWarning: Some inputs do not have OOB scores. This probably means too few trees were used to compute any reliable OOB estimates.\n",
      "  warn(\n",
      "/Applications/anaconda3/lib/python3.11/site-packages/sklearn/ensemble/_forest.py:583: UserWarning: Some inputs do not have OOB scores. This probably means too few trees were used to compute any reliable OOB estimates.\n",
      "  warn(\n",
      "/Applications/anaconda3/lib/python3.11/site-packages/sklearn/ensemble/_forest.py:583: UserWarning: Some inputs do not have OOB scores. This probably means too few trees were used to compute any reliable OOB estimates.\n",
      "  warn(\n",
      "/Applications/anaconda3/lib/python3.11/site-packages/sklearn/ensemble/_forest.py:583: UserWarning: Some inputs do not have OOB scores. This probably means too few trees were used to compute any reliable OOB estimates.\n",
      "  warn(\n",
      "/Applications/anaconda3/lib/python3.11/site-packages/sklearn/ensemble/_forest.py:583: UserWarning: Some inputs do not have OOB scores. This probably means too few trees were used to compute any reliable OOB estimates.\n",
      "  warn(\n",
      "/Applications/anaconda3/lib/python3.11/site-packages/sklearn/ensemble/_forest.py:583: UserWarning: Some inputs do not have OOB scores. This probably means too few trees were used to compute any reliable OOB estimates.\n",
      "  warn(\n",
      "/Applications/anaconda3/lib/python3.11/site-packages/sklearn/ensemble/_forest.py:583: UserWarning: Some inputs do not have OOB scores. This probably means too few trees were used to compute any reliable OOB estimates.\n",
      "  warn(\n",
      "/Applications/anaconda3/lib/python3.11/site-packages/sklearn/ensemble/_forest.py:583: UserWarning: Some inputs do not have OOB scores. This probably means too few trees were used to compute any reliable OOB estimates.\n",
      "  warn(\n",
      "/Applications/anaconda3/lib/python3.11/site-packages/sklearn/ensemble/_forest.py:583: UserWarning: Some inputs do not have OOB scores. This probably means too few trees were used to compute any reliable OOB estimates.\n",
      "  warn(\n",
      "/Applications/anaconda3/lib/python3.11/site-packages/sklearn/ensemble/_forest.py:583: UserWarning: Some inputs do not have OOB scores. This probably means too few trees were used to compute any reliable OOB estimates.\n",
      "  warn(\n",
      "/Applications/anaconda3/lib/python3.11/site-packages/sklearn/ensemble/_forest.py:583: UserWarning: Some inputs do not have OOB scores. This probably means too few trees were used to compute any reliable OOB estimates.\n",
      "  warn(\n",
      "/Applications/anaconda3/lib/python3.11/site-packages/sklearn/ensemble/_forest.py:583: UserWarning: Some inputs do not have OOB scores. This probably means too few trees were used to compute any reliable OOB estimates.\n",
      "  warn(\n",
      "/Applications/anaconda3/lib/python3.11/site-packages/sklearn/ensemble/_forest.py:583: UserWarning: Some inputs do not have OOB scores. This probably means too few trees were used to compute any reliable OOB estimates.\n",
      "  warn(\n",
      "/Applications/anaconda3/lib/python3.11/site-packages/sklearn/ensemble/_forest.py:583: UserWarning: Some inputs do not have OOB scores. This probably means too few trees were used to compute any reliable OOB estimates.\n",
      "  warn(\n",
      "/Applications/anaconda3/lib/python3.11/site-packages/sklearn/ensemble/_forest.py:583: UserWarning: Some inputs do not have OOB scores. This probably means too few trees were used to compute any reliable OOB estimates.\n",
      "  warn(\n",
      "/Applications/anaconda3/lib/python3.11/site-packages/sklearn/ensemble/_forest.py:583: UserWarning: Some inputs do not have OOB scores. This probably means too few trees were used to compute any reliable OOB estimates.\n",
      "  warn(\n",
      "/Applications/anaconda3/lib/python3.11/site-packages/sklearn/ensemble/_forest.py:583: UserWarning: Some inputs do not have OOB scores. This probably means too few trees were used to compute any reliable OOB estimates.\n",
      "  warn(\n",
      "/Applications/anaconda3/lib/python3.11/site-packages/sklearn/ensemble/_forest.py:583: UserWarning: Some inputs do not have OOB scores. This probably means too few trees were used to compute any reliable OOB estimates.\n",
      "  warn(\n",
      "/Applications/anaconda3/lib/python3.11/site-packages/sklearn/ensemble/_forest.py:583: UserWarning: Some inputs do not have OOB scores. This probably means too few trees were used to compute any reliable OOB estimates.\n",
      "  warn(\n",
      "/Applications/anaconda3/lib/python3.11/site-packages/sklearn/ensemble/_forest.py:583: UserWarning: Some inputs do not have OOB scores. This probably means too few trees were used to compute any reliable OOB estimates.\n",
      "  warn(\n",
      "/Applications/anaconda3/lib/python3.11/site-packages/sklearn/ensemble/_forest.py:583: UserWarning: Some inputs do not have OOB scores. This probably means too few trees were used to compute any reliable OOB estimates.\n",
      "  warn(\n",
      "/Applications/anaconda3/lib/python3.11/site-packages/sklearn/ensemble/_forest.py:583: UserWarning: Some inputs do not have OOB scores. This probably means too few trees were used to compute any reliable OOB estimates.\n",
      "  warn(\n",
      "/Applications/anaconda3/lib/python3.11/site-packages/sklearn/ensemble/_forest.py:583: UserWarning: Some inputs do not have OOB scores. This probably means too few trees were used to compute any reliable OOB estimates.\n",
      "  warn(\n",
      "/Applications/anaconda3/lib/python3.11/site-packages/sklearn/ensemble/_forest.py:583: UserWarning: Some inputs do not have OOB scores. This probably means too few trees were used to compute any reliable OOB estimates.\n",
      "  warn(\n",
      "/Applications/anaconda3/lib/python3.11/site-packages/sklearn/ensemble/_forest.py:583: UserWarning: Some inputs do not have OOB scores. This probably means too few trees were used to compute any reliable OOB estimates.\n",
      "  warn(\n",
      "/Applications/anaconda3/lib/python3.11/site-packages/sklearn/ensemble/_forest.py:583: UserWarning: Some inputs do not have OOB scores. This probably means too few trees were used to compute any reliable OOB estimates.\n",
      "  warn(\n",
      "/Applications/anaconda3/lib/python3.11/site-packages/sklearn/ensemble/_forest.py:583: UserWarning: Some inputs do not have OOB scores. This probably means too few trees were used to compute any reliable OOB estimates.\n",
      "  warn(\n",
      "/Applications/anaconda3/lib/python3.11/site-packages/sklearn/ensemble/_forest.py:583: UserWarning: Some inputs do not have OOB scores. This probably means too few trees were used to compute any reliable OOB estimates.\n",
      "  warn(\n",
      "/Applications/anaconda3/lib/python3.11/site-packages/sklearn/ensemble/_forest.py:583: UserWarning: Some inputs do not have OOB scores. This probably means too few trees were used to compute any reliable OOB estimates.\n",
      "  warn(\n",
      "/Applications/anaconda3/lib/python3.11/site-packages/sklearn/ensemble/_forest.py:583: UserWarning: Some inputs do not have OOB scores. This probably means too few trees were used to compute any reliable OOB estimates.\n",
      "  warn(\n",
      "/Applications/anaconda3/lib/python3.11/site-packages/sklearn/ensemble/_forest.py:583: UserWarning: Some inputs do not have OOB scores. This probably means too few trees were used to compute any reliable OOB estimates.\n",
      "  warn(\n",
      "/Applications/anaconda3/lib/python3.11/site-packages/sklearn/ensemble/_forest.py:583: UserWarning: Some inputs do not have OOB scores. This probably means too few trees were used to compute any reliable OOB estimates.\n",
      "  warn(\n",
      "/Applications/anaconda3/lib/python3.11/site-packages/sklearn/ensemble/_forest.py:583: UserWarning: Some inputs do not have OOB scores. This probably means too few trees were used to compute any reliable OOB estimates.\n",
      "  warn(\n",
      "/Applications/anaconda3/lib/python3.11/site-packages/sklearn/ensemble/_forest.py:583: UserWarning: Some inputs do not have OOB scores. This probably means too few trees were used to compute any reliable OOB estimates.\n",
      "  warn(\n",
      "/Applications/anaconda3/lib/python3.11/site-packages/sklearn/ensemble/_forest.py:583: UserWarning: Some inputs do not have OOB scores. This probably means too few trees were used to compute any reliable OOB estimates.\n",
      "  warn(\n",
      "/Applications/anaconda3/lib/python3.11/site-packages/sklearn/ensemble/_forest.py:583: UserWarning: Some inputs do not have OOB scores. This probably means too few trees were used to compute any reliable OOB estimates.\n",
      "  warn(\n",
      "/Applications/anaconda3/lib/python3.11/site-packages/sklearn/model_selection/_validation.py:378: FitFailedWarning: \n",
      "60 fits failed out of a total of 240.\n",
      "The score on these train-test partitions for these parameters will be set to nan.\n",
      "If these failures are not expected, you can try to debug them by setting error_score='raise'.\n",
      "\n",
      "Below are more details about the failures:\n",
      "--------------------------------------------------------------------------------\n",
      "60 fits failed with the following error:\n",
      "Traceback (most recent call last):\n",
      "  File \"/Applications/anaconda3/lib/python3.11/site-packages/sklearn/model_selection/_validation.py\", line 686, in _fit_and_score\n",
      "    estimator.fit(X_train, y_train, **fit_params)\n",
      "  File \"/Applications/anaconda3/lib/python3.11/site-packages/sklearn/ensemble/_forest.py\", line 434, in fit\n",
      "    raise ValueError(\"Out of bag estimation only available if bootstrap=True\")\n",
      "ValueError: Out of bag estimation only available if bootstrap=True\n",
      "\n",
      "  warnings.warn(some_fits_failed_message, FitFailedWarning)\n",
      "/Applications/anaconda3/lib/python3.11/site-packages/sklearn/model_selection/_search.py:952: UserWarning: One or more of the test scores are non-finite: [0.96507572 0.96418162 0.9548519  0.94836544 0.95762827 0.94615286\n",
      " 0.96332195 0.96349075 0.94689059 0.94437146 0.95064013 0.96155523\n",
      " 0.96249218 0.96380462 0.94039183 0.94846314 0.95486425 0.95923181\n",
      " 0.96466401 0.96375849 0.95092182 0.94533468 0.95466433 0.95689572\n",
      "        nan 0.9543353         nan 0.95387126        nan 0.95167518\n",
      "        nan 0.95517076        nan 0.95428401        nan 0.95422485\n",
      "        nan 0.95490197        nan 0.95353349        nan 0.95581255\n",
      "        nan 0.94866429        nan 0.94902791        nan 0.9479932 ]\n",
      "  warnings.warn(\n",
      "/Applications/anaconda3/lib/python3.11/site-packages/sklearn/ensemble/_forest.py:583: UserWarning: Some inputs do not have OOB scores. This probably means too few trees were used to compute any reliable OOB estimates.\n",
      "  warn(\n"
     ]
    },
    {
     "name": "stdout",
     "output_type": "stream",
     "text": [
      "Best parameters:  {'bootstrap': True, 'criterion': 'squared_error', 'n_estimators': 10, 'oob_score': True}\n",
      "best score:  0.9650757154533054\n",
      "best estimator:  RandomForestRegressor(n_estimators=10, oob_score=True)\n",
      "Best parameters:  {'criterion': 'friedman_mse', 'splitter': 'random'}\n",
      "best score:  0.9589122073013391\n",
      "best estimator:  DecisionTreeRegressor(criterion='friedman_mse', splitter='random')\n",
      "Best parameters:  {'alpha': 1.5, 'solver': 'sag'}\n",
      "best score:  0.8320124637497542\n",
      "best estimator:  Ridge(alpha=1.5, solver='sag')\n",
      "Best parameters:  {'alpha': 2.0}\n",
      "best score:  0.8320115864235069\n",
      "best estimator:  Lasso(alpha=2.0)\n",
      "Best parameters:  {'alpha': 0.5, 'l1_ratio': 0.5, 'selection': 'cyclic'}\n",
      "best score:  0.7917531327690165\n",
      "best estimator:  ElasticNet(alpha=0.5)\n"
     ]
    }
   ],
   "source": [
    "for model_name, model in models.items():\n",
    "    train = GridSearchCV(model,param_grid=grid_params[model_name],cv=5)\n",
    "    train.fit(X_train,y_train)\n",
    "    print(\"Best parameters: \", train.best_params_)\n",
    "    print(\"best score: \", train.best_score_)\n",
    "    print(\"best estimator: \", train.best_estimator_)"
   ]
  },
  {
   "cell_type": "markdown",
   "id": "44f17a55-753c-4740-a3b8-4d1a2cf78f34",
   "metadata": {},
   "source": [
    "# Insights\n",
    "### 1. there are 23 bikes brand are collected from 443 cities\n",
    "### 2. there are 4 unique values and 35 age groups are there\n",
    "### 3. "
   ]
  },
  {
   "cell_type": "code",
   "execution_count": null,
   "id": "06c917fb-8b37-400a-a2dc-907fe0e81ed0",
   "metadata": {},
   "outputs": [],
   "source": []
  }
 ],
 "metadata": {
  "kernelspec": {
   "display_name": "Python 3 (ipykernel)",
   "language": "python",
   "name": "python3"
  },
  "language_info": {
   "codemirror_mode": {
    "name": "ipython",
    "version": 3
   },
   "file_extension": ".py",
   "mimetype": "text/x-python",
   "name": "python",
   "nbconvert_exporter": "python",
   "pygments_lexer": "ipython3",
   "version": "3.11.7"
  }
 },
 "nbformat": 4,
 "nbformat_minor": 5
}
