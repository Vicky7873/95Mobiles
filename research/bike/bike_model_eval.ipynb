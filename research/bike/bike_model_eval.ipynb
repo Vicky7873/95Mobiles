{
 "cells": [
  {
   "cell_type": "code",
   "execution_count": 1,
   "metadata": {},
   "outputs": [],
   "source": [
    "import os"
   ]
  },
  {
   "cell_type": "code",
   "execution_count": 2,
   "metadata": {},
   "outputs": [],
   "source": [
    "os.chdir(\"../../\")"
   ]
  },
  {
   "cell_type": "code",
   "execution_count": 3,
   "metadata": {},
   "outputs": [
    {
     "data": {
      "text/plain": [
       "'/Users/bhikipallai/Desktop/Projects/95Mobiles'"
      ]
     },
     "execution_count": 3,
     "metadata": {},
     "output_type": "execute_result"
    }
   ],
   "source": [
    "%pwd"
   ]
  },
  {
   "cell_type": "code",
   "execution_count": 4,
   "metadata": {},
   "outputs": [],
   "source": [
    "from dataclasses import dataclass\n",
    "from pathlib import Path\n",
    "\n",
    "@dataclass(frozen=True)\n",
    "class BikeModelEvalConfig:\n",
    "    root_dir: Path\n",
    "    X_test: Path\n",
    "    y_test: Path\n",
    "    tunned_model: Path\n",
    "    mlflow_uri: str\n",
    "    X_train: Path\n",
    "    y_train: Path\n",
    "    score: Path\n",
    "    \n"
   ]
  },
  {
   "cell_type": "code",
   "execution_count": 5,
   "metadata": {},
   "outputs": [
    {
     "name": "stdout",
     "output_type": "stream",
     "text": [
      "[2024-10-02 20:56:44,342: INFO]: Logging file start\n"
     ]
    }
   ],
   "source": [
    "from src.bike.constants import *\n",
    "from src.bike.utils.common import read_yaml,create_directory"
   ]
  },
  {
   "cell_type": "code",
   "execution_count": 6,
   "metadata": {},
   "outputs": [],
   "source": [
    "class ConfigurationManger:\n",
    "    def __init__(self,config_filepath = CONFIG_FILE_PATH, param_filepath = PARAMS_FILE_PATH):\n",
    "        self.config = read_yaml(config_filepath)\n",
    "        self.params = read_yaml(param_filepath)\n",
    "\n",
    "        create_directory([self.config.data_root])\n",
    "\n",
    "    def get_model_eval(self)-> BikeModelEvalConfig:\n",
    "        config = self.config.model_eval\n",
    "\n",
    "        create_directory([config.root_dir])\n",
    "\n",
    "        model_eval = BikeModelEvalConfig(\n",
    "            root_dir=config.root_dir,\n",
    "            X_test=config.X_test,\n",
    "            y_test=config.y_test,\n",
    "            tunned_model=config.tunned_model,\n",
    "            mlflow_uri=\"https://dagshub.com/Vicky7873/95Mobiles.mlflow\",\n",
    "            X_train=config.X_train,\n",
    "            y_train=config.y_train,\n",
    "            score= config.score\n",
    "        )\n",
    "\n",
    "        return model_eval"
   ]
  },
  {
   "cell_type": "code",
   "execution_count": 7,
   "metadata": {},
   "outputs": [],
   "source": [
    "from sklearn.metrics import r2_score\n",
    "import pandas as pd\n",
    "import dagshub\n",
    "import mlflow"
   ]
  },
  {
   "cell_type": "code",
   "execution_count": 8,
   "metadata": {},
   "outputs": [],
   "source": [
    "import joblib\n",
    "import pickle\n",
    "import json"
   ]
  },
  {
   "cell_type": "code",
   "execution_count": 9,
   "metadata": {},
   "outputs": [],
   "source": [
    "class BikeModelEval:\n",
    "    def __init__(self,config:BikeModelEvalConfig):\n",
    "        self.config = config\n",
    "\n",
    "    def model_eval(self):\n",
    "        dagshub.init(repo_owner='Vicky7873', repo_name='95Mobiles', mlflow=True)\n",
    "        X_test = pd.read_csv(self.config.X_test)\n",
    "        y_test = pd.read_csv(self.config.y_test)\n",
    "        model = joblib.load(self.config.tunned_model)\n",
    "        X_train = pd.read_csv(self.config.X_train)\n",
    "        y_train = pd.read_csv(self.config.y_train)\n",
    "\n",
    "        mlflow.set_registry_uri(uri=self.config.mlflow_uri)\n",
    "        mlflow.set_experiment(\"Bike model evalution\")\n",
    "\n",
    "        with mlflow.start_run():\n",
    "            self.y_pred_train = model.predict(X_train)\n",
    "            self.y_pred = model.predict(X_test)\n",
    "\n",
    "            self.y_train_acc = r2_score(y_train,self.y_pred_train)\n",
    "            self.y_test_acc = r2_score(y_test,self.y_pred)\n",
    "            print(\"test acc: \",r2_score(y_test,self.y_pred))\n",
    "            print(\"train acc: \",r2_score(y_train,self.y_pred_train))\n",
    "            mlflow.log_metric(\"testing_Acc\", self.y_test_acc)\n",
    "            mlflow.log_metric(\"training_Acc\", self.y_train_acc)\n",
    "\n",
    "\n",
    "    def save_score(self):\n",
    "        scores = {\n",
    "            \"train acc \" : self.y_train_acc,\n",
    "            \"test_acc \": self.y_test_acc\n",
    "        }\n",
    "        with open (self.config.score,'w') as file:\n",
    "            json.dump(scores,file,indent=4)"
   ]
  },
  {
   "cell_type": "code",
   "execution_count": 10,
   "metadata": {},
   "outputs": [
    {
     "name": "stdout",
     "output_type": "stream",
     "text": [
      "[2024-10-02 20:56:46,006: INFO]: yaml: config/bike_config.yaml loaded successfully\n",
      "[2024-10-02 20:56:46,009: INFO]: yaml: params/bike_params.yaml loaded successfully\n",
      "[2024-10-02 20:56:46,009: INFO]: created directory at: data/bike\n",
      "[2024-10-02 20:56:46,010: INFO]: created directory at: data/bike/model_eval\n",
      "[2024-10-02 20:56:46,506: INFO]: HTTP Request: GET https://dagshub.com/api/v1/user \"HTTP/1.1 200 OK\"\n"
     ]
    },
    {
     "data": {
      "text/html": [
       "<pre style=\"white-space:pre;overflow-x:auto;line-height:normal;font-family:Menlo,'DejaVu Sans Mono',consolas,'Courier New',monospace\">Accessing as Vicky7873\n",
       "</pre>\n"
      ],
      "text/plain": [
       "Accessing as Vicky7873\n"
      ]
     },
     "metadata": {},
     "output_type": "display_data"
    },
    {
     "name": "stdout",
     "output_type": "stream",
     "text": [
      "[2024-10-02 20:56:46,512: INFO]: Accessing as Vicky7873\n",
      "[2024-10-02 20:56:47,016: INFO]: HTTP Request: GET https://dagshub.com/api/v1/repos/Vicky7873/95Mobiles \"HTTP/1.1 200 OK\"\n"
     ]
    },
    {
     "data": {
      "text/html": [
       "<pre style=\"white-space:pre;overflow-x:auto;line-height:normal;font-family:Menlo,'DejaVu Sans Mono',consolas,'Courier New',monospace\">Initialized MLflow to track repo <span style=\"color: #008000; text-decoration-color: #008000\">\"Vicky7873/95Mobiles\"</span>\n",
       "</pre>\n"
      ],
      "text/plain": [
       "Initialized MLflow to track repo \u001b[32m\"Vicky7873/95Mobiles\"\u001b[0m\n"
      ]
     },
     "metadata": {},
     "output_type": "display_data"
    },
    {
     "name": "stdout",
     "output_type": "stream",
     "text": [
      "[2024-10-02 20:56:47,019: INFO]: Initialized MLflow to track repo \"Vicky7873/95Mobiles\"\n"
     ]
    },
    {
     "data": {
      "text/html": [
       "<pre style=\"white-space:pre;overflow-x:auto;line-height:normal;font-family:Menlo,'DejaVu Sans Mono',consolas,'Courier New',monospace\">Repository Vicky7873/95Mobiles initialized!\n",
       "</pre>\n"
      ],
      "text/plain": [
       "Repository Vicky7873/95Mobiles initialized!\n"
      ]
     },
     "metadata": {},
     "output_type": "display_data"
    },
    {
     "name": "stdout",
     "output_type": "stream",
     "text": [
      "[2024-10-02 20:56:47,021: INFO]: Repository Vicky7873/95Mobiles initialized!\n",
      "test acc:  0.8249236193415848\n",
      "train acc:  0.8226296099542652\n"
     ]
    },
    {
     "name": "stderr",
     "output_type": "stream",
     "text": [
      "2024/10/02 20:56:49 INFO mlflow.tracking._tracking_service.client: 🏃 View run respected-snake-211 at: https://dagshub.com/Vicky7873/95Mobiles.mlflow/#/experiments/2/runs/d11f094ef277443bb24002ca5ed9f452.\n",
      "2024/10/02 20:56:49 INFO mlflow.tracking._tracking_service.client: 🧪 View experiment at: https://dagshub.com/Vicky7873/95Mobiles.mlflow/#/experiments/2.\n"
     ]
    }
   ],
   "source": [
    "try:\n",
    "    config = ConfigurationManger()\n",
    "    eval_config = config.get_model_eval()\n",
    "    bike_model_config =BikeModelEval(config=eval_config)\n",
    "    bike_model_config.model_eval()\n",
    "    bike_model_config.save_score()\n",
    "except Exception as e:\n",
    "    raise e"
   ]
  },
  {
   "cell_type": "code",
   "execution_count": null,
   "metadata": {},
   "outputs": [],
   "source": []
  }
 ],
 "metadata": {
  "kernelspec": {
   "display_name": "95m",
   "language": "python",
   "name": "python3"
  },
  "language_info": {
   "codemirror_mode": {
    "name": "ipython",
    "version": 3
   },
   "file_extension": ".py",
   "mimetype": "text/x-python",
   "name": "python",
   "nbconvert_exporter": "python",
   "pygments_lexer": "ipython3",
   "version": "3.12.5"
  }
 },
 "nbformat": 4,
 "nbformat_minor": 2
}
