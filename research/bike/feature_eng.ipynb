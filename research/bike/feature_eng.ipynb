{
 "cells": [
  {
   "cell_type": "code",
   "execution_count": 1,
   "metadata": {},
   "outputs": [],
   "source": [
    "import os"
   ]
  },
  {
   "cell_type": "code",
   "execution_count": 2,
   "metadata": {},
   "outputs": [
    {
     "data": {
      "text/plain": [
       "'/Users/bhikipallai/Desktop/Projects/95Mobiles/research/bike'"
      ]
     },
     "execution_count": 2,
     "metadata": {},
     "output_type": "execute_result"
    }
   ],
   "source": [
    "%pwd"
   ]
  },
  {
   "cell_type": "code",
   "execution_count": 3,
   "metadata": {},
   "outputs": [],
   "source": [
    "os.chdir(\"../../\")"
   ]
  },
  {
   "cell_type": "code",
   "execution_count": 4,
   "metadata": {},
   "outputs": [
    {
     "data": {
      "text/plain": [
       "'/Users/bhikipallai/Desktop/Projects/95Mobiles'"
      ]
     },
     "execution_count": 4,
     "metadata": {},
     "output_type": "execute_result"
    }
   ],
   "source": [
    "%pwd"
   ]
  },
  {
   "cell_type": "code",
   "execution_count": 5,
   "metadata": {},
   "outputs": [],
   "source": [
    "from dataclasses import dataclass\n",
    "from pathlib import Path\n",
    "\n",
    "@dataclass(frozen=True)\n",
    "class Bike_feature_engg:\n",
    "    root_dir: Path\n",
    "    bike_raw_data: Path\n",
    "    feature_eng_data: Path"
   ]
  },
  {
   "cell_type": "code",
   "execution_count": 6,
   "metadata": {},
   "outputs": [
    {
     "name": "stdout",
     "output_type": "stream",
     "text": [
      "[2024-10-02 19:03:16,259: INFO]: Logging file start\n"
     ]
    }
   ],
   "source": [
    "from src.bike.utils.common import read_yaml,create_directory\n",
    "from src.bike.constants import *"
   ]
  },
  {
   "cell_type": "code",
   "execution_count": 7,
   "metadata": {},
   "outputs": [],
   "source": [
    "class ConfigurationManger:\n",
    "    def __init__(self,config_filepath = CONFIG_FILE_PATH,param_filepath = PARAMS_FILE_PATH):\n",
    "        self.config = read_yaml(config_filepath)\n",
    "        self.params = read_yaml(param_filepath)\n",
    "\n",
    "        create_directory([self.config.data_root])\n",
    "\n",
    "    def get_feature_eng_config(self) -> Bike_feature_engg:\n",
    "        config = self.config.feature_engeenering\n",
    "\n",
    "        create_directory([config.root_dir])\n",
    "\n",
    "        feature_config = Bike_feature_engg(\n",
    "            root_dir= config.root_dir,\n",
    "            bike_raw_data=config.bike_raw_data,\n",
    "            feature_eng_data = config.feature_eng_data\n",
    "        )\n",
    "\n",
    "        return feature_config"
   ]
  },
  {
   "cell_type": "code",
   "execution_count": 8,
   "metadata": {},
   "outputs": [],
   "source": [
    "import pandas as pd\n",
    "import numpy as np"
   ]
  },
  {
   "cell_type": "code",
   "execution_count": 9,
   "metadata": {},
   "outputs": [],
   "source": [
    "from sklearn.preprocessing import LabelEncoder,StandardScaler"
   ]
  },
  {
   "cell_type": "code",
   "execution_count": 10,
   "metadata": {},
   "outputs": [],
   "source": [
    "class feature_eng:\n",
    "    cat_cols = []\n",
    "    num_cols = []\n",
    "    def __init__(self,config:Bike_feature_engg):\n",
    "        self.config = config\n",
    "\n",
    "    def load_data(self):\n",
    "        self.df = pd.read_csv(self.config.bike_raw_data)\n",
    "        return self.df\n",
    "    \n",
    "    def datatypechange(self):\n",
    "        self.df['power'] = self.df['power'].astype(int)\n",
    "        print(self.df['power'].dtypes)\n",
    "    \n",
    "    def make_list_as_per_object(self):\n",
    "        for cols in self.df.columns:\n",
    "            if self.df[cols].dtypes == 'float64' or self.df[cols].dtypes == 'int64':\n",
    "                feature_eng.num_cols.append(cols)\n",
    "            elif self.df[cols].dtypes == 'object':\n",
    "                feature_eng.cat_cols.append(cols)\n",
    "        print(feature_eng.cat_cols,feature_eng.num_cols)\n",
    "\n",
    "    def short_the_city_column(self):\n",
    "        for city,count in self.df['city'].value_counts().items():\n",
    "            if count <= 900:\n",
    "                self.df['city'] = self.df['city'].replace(city,\"others\")\n",
    "        print(self.df['city'].nunique())\n",
    "    \n",
    "    def encode_cat_cols(self):\n",
    "        le = LabelEncoder()\n",
    "        for cols in feature_eng.cat_cols:\n",
    "            self.df[cols] = le.fit_transform(self.df[cols])\n",
    "            print(self.df.head(2))\n",
    "    \n",
    "    def encode_num_cols(self):\n",
    "        stc = StandardScaler()\n",
    "        feature_eng.num_cols.remove('price')\n",
    "        feature_eng.num_cols.remove('age')\n",
    "        for cols in feature_eng.num_cols:\n",
    "            self.df[cols] = stc.fit_transform(self.df[[cols]])\n",
    "        print(self.df.head(2))\n",
    "\n",
    "    def save_the_transformed_data(self):\n",
    "        self.df.to_csv(self.config.feature_eng_data)"
   ]
  },
  {
   "cell_type": "code",
   "execution_count": 11,
   "metadata": {},
   "outputs": [
    {
     "name": "stdout",
     "output_type": "stream",
     "text": [
      "[2024-10-02 19:03:17,362: INFO]: yaml: config/bike_config.yaml loaded successfully\n",
      "[2024-10-02 19:03:17,364: INFO]: yaml: params/bike_params.yaml loaded successfully\n",
      "[2024-10-02 19:03:17,364: INFO]: created directory at: data/bike\n",
      "[2024-10-02 19:03:17,365: INFO]: created directory at: data/bike/feature_engeenering\n",
      "int64\n",
      "['bike_name', 'city', 'owner', 'brand'] ['price', 'kms_driven', 'age', 'power']\n",
      "11\n",
      "   bike_name     price       city  kms_driven        owner  age  power  \\\n",
      "0        401   35000.0  Ahmedabad     17654.0  First Owner  3.0    110   \n",
      "1        295  119900.0      Delhi     11000.0  First Owner  4.0    350   \n",
      "\n",
      "           brand  \n",
      "0            TVS  \n",
      "1  Royal Enfield  \n",
      "   bike_name     price  city  kms_driven        owner  age  power  \\\n",
      "0        401   35000.0     0     17654.0  First Owner  3.0    110   \n",
      "1        295  119900.0     3     11000.0  First Owner  4.0    350   \n",
      "\n",
      "           brand  \n",
      "0            TVS  \n",
      "1  Royal Enfield  \n",
      "   bike_name     price  city  kms_driven  owner  age  power          brand\n",
      "0        401   35000.0     0     17654.0      0  3.0    110            TVS\n",
      "1        295  119900.0     3     11000.0      0  4.0    350  Royal Enfield\n",
      "   bike_name     price  city  kms_driven  owner  age  power  brand\n",
      "0        401   35000.0     0     17654.0      0  3.0    110     19\n",
      "1        295  119900.0     3     11000.0      0  4.0    350     17\n",
      "   bike_name     price  city  kms_driven  owner  age     power  brand\n",
      "0        401   35000.0     0   -0.391325      0  3.0 -0.770020     19\n",
      "1        295  119900.0     3   -0.690945      0  4.0  1.015338     17\n"
     ]
    }
   ],
   "source": [
    "try:\n",
    "    config = ConfigurationManger()\n",
    "    fe_config = config.get_feature_eng_config()\n",
    "    fe = feature_eng(config=fe_config)\n",
    "    fe.load_data()\n",
    "    fe.datatypechange()\n",
    "    fe.make_list_as_per_object()\n",
    "    fe.short_the_city_column()\n",
    "    fe.encode_cat_cols()\n",
    "    fe.encode_num_cols()\n",
    "    fe.save_the_transformed_data()\n",
    "except Exception as e:\n",
    "    raise e"
   ]
  },
  {
   "cell_type": "code",
   "execution_count": null,
   "metadata": {},
   "outputs": [],
   "source": []
  }
 ],
 "metadata": {
  "kernelspec": {
   "display_name": "95m",
   "language": "python",
   "name": "python3"
  },
  "language_info": {
   "codemirror_mode": {
    "name": "ipython",
    "version": 3
   },
   "file_extension": ".py",
   "mimetype": "text/x-python",
   "name": "python",
   "nbconvert_exporter": "python",
   "pygments_lexer": "ipython3",
   "version": "3.12.5"
  }
 },
 "nbformat": 4,
 "nbformat_minor": 2
}
