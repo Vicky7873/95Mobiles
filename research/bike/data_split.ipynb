{
 "cells": [
  {
   "cell_type": "code",
   "execution_count": 1,
   "metadata": {},
   "outputs": [],
   "source": [
    "import os"
   ]
  },
  {
   "cell_type": "code",
   "execution_count": 2,
   "metadata": {},
   "outputs": [],
   "source": [
    "os.chdir(\"../../\")"
   ]
  },
  {
   "cell_type": "code",
   "execution_count": 3,
   "metadata": {},
   "outputs": [
    {
     "data": {
      "text/plain": [
       "'/Users/bhikipallai/Desktop/Projects/95Mobiles'"
      ]
     },
     "execution_count": 3,
     "metadata": {},
     "output_type": "execute_result"
    }
   ],
   "source": [
    "%pwd"
   ]
  },
  {
   "cell_type": "code",
   "execution_count": 4,
   "metadata": {},
   "outputs": [],
   "source": [
    "from dataclasses import dataclass\n",
    "from pathlib import Path\n",
    "\n",
    "@dataclass(frozen=True)\n",
    "class DatasplitConfig:\n",
    "    root_dir: Path\n",
    "    feature_eng_data: Path\n",
    "    X_train: Path\n",
    "    X_test: Path\n",
    "    y_train: Path\n",
    "    y_test: Path\n",
    "    test_size: float\n",
    "    random_state: int"
   ]
  },
  {
   "cell_type": "code",
   "execution_count": 5,
   "metadata": {},
   "outputs": [
    {
     "name": "stdout",
     "output_type": "stream",
     "text": [
      "[2024-09-29 22:21:26,891: INFO]: Logging file start\n"
     ]
    }
   ],
   "source": [
    "from src.bike.constants import *\n",
    "from src.bike.utils.common import read_yaml,create_directory"
   ]
  },
  {
   "cell_type": "code",
   "execution_count": 6,
   "metadata": {},
   "outputs": [],
   "source": [
    "class ConfigurationManger:\n",
    "    def __init__(self,config_filepath = CONFIG_FILE_PATH, param_filepath = PARAMS_FILE_PATH):\n",
    "        self.config = read_yaml(config_filepath)\n",
    "        self.params = read_yaml(param_filepath)\n",
    "\n",
    "        create_directory([self.config.data_root])\n",
    "\n",
    "    def get_data_split_config(self) -> DatasplitConfig:\n",
    "        config = self.config.splliting_data\n",
    "        params = self.params.split\n",
    "        create_directory([config.root_dir])\n",
    "\n",
    "        split_config = DatasplitConfig(\n",
    "            root_dir = config.root_dir,\n",
    "            feature_eng_data = config.feature_eng_data,\n",
    "            X_train = config.X_train,\n",
    "            X_test = config.X_test,\n",
    "            y_train = config.y_train,\n",
    "            y_test = config.y_test,\n",
    "            test_size = params.test_size,\n",
    "            random_state = params.random_state\n",
    "        )\n",
    "\n",
    "        return split_config"
   ]
  },
  {
   "cell_type": "code",
   "execution_count": 7,
   "metadata": {},
   "outputs": [],
   "source": [
    "from sklearn.model_selection import train_test_split\n",
    "import pandas as pd"
   ]
  },
  {
   "cell_type": "code",
   "execution_count": 26,
   "metadata": {},
   "outputs": [],
   "source": [
    "class SplitData:\n",
    "    def __init__(self,config:DatasplitConfig):\n",
    "        self.config = config\n",
    "    \n",
    "    def split_data(self):\n",
    "        df = pd.read_csv(self.config.feature_eng_data)\n",
    "        X = df.drop('price',axis=1)\n",
    "        y = df['price']\n",
    "        X_train,X_test,y_train,y_test = train_test_split(X,y,test_size=self.config.test_size,random_state=self.config.random_state)\n",
    "        print(f\"X_train shape:{X_train.shape}\")\n",
    "        print(f\"X_test shape:{X_test.shape}\")\n",
    "        print(f\"y_train shape:{y_train.shape}\")\n",
    "        print(f\"y_test shape:{y_test.shape}\")\n",
    "        print(X_train.head(2))\n",
    "        return X_train,X_test,y_train,y_test\n",
    "    \n",
    "    def save_data(self):\n",
    "        X_train,X_test,y_train,y_test = SplitData.split_data(self)\n",
    "        X_train.to_csv(self.config.X_train,index = False)\n",
    "        X_test.to_csv(self.config.X_test,index = False)\n",
    "        y_train.to_csv(self.config.y_train,index = False)\n",
    "        y_test.to_csv(self.config.y_test,index=False)\n",
    "        print(\"data save complete\")\n",
    "\n",
    "    def remove_unwanted_cols(self):\n",
    "        X_train = pd.read_csv(self.config.X_train)\n",
    "        X_test = pd.read_csv(self.config.X_test)\n",
    "\n",
    "        X_train.drop(columns='Unnamed: 0',axis=1,inplace=True)\n",
    "        X_train.to_csv(self.config.X_train,index=False)\n",
    "        X_test.drop(columns='Unnamed: 0',axis=1,inplace=True)\n",
    "        X_test.to_csv(self.config.X_test,index=False)\n",
    "        print(\"after clean:\\n\",X_train.head(1))\n",
    "        print(\"after clean:\\n\",X_test.head(1))"
   ]
  },
  {
   "cell_type": "code",
   "execution_count": 25,
   "metadata": {},
   "outputs": [
    {
     "name": "stdout",
     "output_type": "stream",
     "text": [
      "[2024-09-29 22:44:01,847: INFO]: yaml: config/bike_config.yaml loaded successfully\n",
      "[2024-09-29 22:44:01,850: INFO]: yaml: params/bike_params.yaml loaded successfully\n",
      "[2024-09-29 22:44:01,850: INFO]: created directory at: data/bike\n",
      "[2024-09-29 22:44:01,851: INFO]: created directory at: data/bike/data_split\n",
      "X_train shape:(26118, 8)\n",
      "X_test shape:(6530, 8)\n",
      "y_train shape:(26118,)\n",
      "y_test shape:(6530,)\n",
      "       Unnamed: 0  bike_name  city  kms_driven  owner   age    power  brand\n",
      "31044       31044        151     3   -0.645916      0   6.0 -0.84441      5\n",
      "24910       24910         56    10    0.434766      0  15.0 -0.47246      1\n",
      "X_train shape:(26118, 8)\n",
      "X_test shape:(6530, 8)\n",
      "y_train shape:(26118,)\n",
      "y_test shape:(6530,)\n",
      "       Unnamed: 0  bike_name  city  kms_driven  owner   age    power  brand\n",
      "31044       31044        151     3   -0.645916      0   6.0 -0.84441      5\n",
      "24910       24910         56    10    0.434766      0  15.0 -0.47246      1\n",
      "data save complete\n",
      "after clean:\n",
      "    bike_name  city  kms_driven  owner  age    power  brand\n",
      "0        151     3   -0.645916      0  6.0 -0.84441      5\n"
     ]
    }
   ],
   "source": [
    "try:\n",
    "    config = ConfigurationManger()\n",
    "    sp_config = config.get_data_split_config()\n",
    "    split = SplitData(config=sp_config)\n",
    "    split.split_data()\n",
    "    split.save_data()\n",
    "    split.remove_unwanted_cols()\n",
    "except Exception as e:\n",
    "    raise e"
   ]
  },
  {
   "cell_type": "code",
   "execution_count": null,
   "metadata": {},
   "outputs": [],
   "source": []
  }
 ],
 "metadata": {
  "kernelspec": {
   "display_name": "95m",
   "language": "python",
   "name": "python3"
  },
  "language_info": {
   "codemirror_mode": {
    "name": "ipython",
    "version": 3
   },
   "file_extension": ".py",
   "mimetype": "text/x-python",
   "name": "python",
   "nbconvert_exporter": "python",
   "pygments_lexer": "ipython3",
   "version": "3.12.5"
  }
 },
 "nbformat": 4,
 "nbformat_minor": 2
}
