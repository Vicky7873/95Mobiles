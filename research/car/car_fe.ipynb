{
 "cells": [
  {
   "cell_type": "code",
   "execution_count": 1,
   "metadata": {},
   "outputs": [],
   "source": [
    "import os"
   ]
  },
  {
   "cell_type": "code",
   "execution_count": 2,
   "metadata": {},
   "outputs": [],
   "source": [
    "os.chdir(\"../../\")"
   ]
  },
  {
   "cell_type": "code",
   "execution_count": 3,
   "metadata": {},
   "outputs": [
    {
     "data": {
      "text/plain": [
       "'/Users/bhikipallai/Desktop/Projects/95Mobiles'"
      ]
     },
     "execution_count": 3,
     "metadata": {},
     "output_type": "execute_result"
    }
   ],
   "source": [
    "%pwd"
   ]
  },
  {
   "cell_type": "code",
   "execution_count": 4,
   "metadata": {},
   "outputs": [],
   "source": [
    "from dataclasses import dataclass\n",
    "from pathlib import Path\n",
    "\n",
    "@dataclass(frozen=True)\n",
    "class CarFeatureEngConfig:\n",
    "    root_dir: Path\n",
    "    raw_data_path: Path\n",
    "    clean_data: Path"
   ]
  },
  {
   "cell_type": "code",
   "execution_count": 5,
   "metadata": {},
   "outputs": [],
   "source": [
    "from src.car.utils.common import read_yaml,create_directory\n",
    "from src.car.constants import *"
   ]
  },
  {
   "cell_type": "code",
   "execution_count": 7,
   "metadata": {},
   "outputs": [],
   "source": [
    "class ConfigurationManger:\n",
    "    def __init__(self,config_filepath = CONFIG_FILE_PATH,params_filepath = PARAM_FILE_PATH):\n",
    "        self.config = read_yaml(config_filepath)\n",
    "        self.params = read_yaml(params_filepath) \n",
    "\n",
    "        create_directory([self.config.data_root])      \n",
    "\n",
    "    def get_Car_fe(self)-> CarFeatureEngConfig:\n",
    "        config = self.config.car_fe\n",
    "        create_directory([config.root_dir])\n",
    "\n",
    "        Car_fe = CarFeatureEngConfig(\n",
    "            root_dir=config.root_dir,\n",
    "            raw_data_path = config.raw_data_path,\n",
    "            clean_data = config.clean_data\n",
    "        )\n",
    "        return Car_fe"
   ]
  },
  {
   "cell_type": "code",
   "execution_count": 8,
   "metadata": {},
   "outputs": [],
   "source": [
    "from sklearn.preprocessing import StandardScaler,LabelEncoder\n",
    "import pandas as pd"
   ]
  },
  {
   "cell_type": "code",
   "execution_count": 17,
   "metadata": {},
   "outputs": [],
   "source": [
    "class Carfe:\n",
    "    def __init__(self,config:CarFeatureEngConfig):\n",
    "        self.config = config\n",
    "    \n",
    "    @staticmethod\n",
    "    def loadDatset(self):\n",
    "        df = pd.read_csv(self.config.raw_data_path)\n",
    "        return df\n",
    "    \n",
    "    def feature_eng(self):\n",
    "        df = self.loadDatset(self)\n",
    "        print(df.shape)\n",
    "        cat_cols = []\n",
    "        num_cols = []\n",
    "\n",
    "        for col in df.columns:\n",
    "            if df[col].dtype == 'object':\n",
    "                cat_cols.append(col)\n",
    "\n",
    "        for col in df.columns:\n",
    "            if df[col].dtype == 'int64':\n",
    "                num_cols.append(col)\n",
    "\n",
    "        num_cols.remove('selling_price')\n",
    "\n",
    "        stc = StandardScaler()\n",
    "        le = LabelEncoder()\n",
    "        for cols in df[cat_cols]:\n",
    "            df[cols] = le.fit_transform(df[[cols]])\n",
    "         \n",
    "        for cols in df[num_cols]:\n",
    "            df[cols] = stc.fit_transform(df[[cols]])\n",
    "\n",
    "        print(df.head(2))\n",
    "\n",
    "        df.to_csv(self.config.clean_data)"
   ]
  },
  {
   "cell_type": "code",
   "execution_count": 18,
   "metadata": {},
   "outputs": [
    {
     "name": "stdout",
     "output_type": "stream",
     "text": [
      "[2024-10-01 09:58:15,409: INFO]: yaml: config/car_config.yaml loaded successfully\n",
      "[2024-10-01 09:58:15,410: INFO]: yaml: params/car_params.yaml loaded successfully\n",
      "[2024-10-01 09:58:15,411: INFO]: created directory at: data\n",
      "[2024-10-01 09:58:15,411: INFO]: created directory at: data/car/car_fe\n",
      "(4340, 8)\n",
      "   name      year  selling_price  ...  seller_type  transmission  owner\n",
      "0   775 -1.445074          60000  ...            1             1      0\n",
      "1  1041 -1.445074         135000  ...            1             1      0\n",
      "\n",
      "[2 rows x 8 columns]\n"
     ]
    },
    {
     "name": "stderr",
     "output_type": "stream",
     "text": [
      "/Applications/anaconda3/envs/95m/lib/python3.12/site-packages/sklearn/preprocessing/_label.py:114: DataConversionWarning: A column-vector y was passed when a 1d array was expected. Please change the shape of y to (n_samples, ), for example using ravel().\n",
      "  y = column_or_1d(y, warn=True)\n",
      "/Applications/anaconda3/envs/95m/lib/python3.12/site-packages/sklearn/preprocessing/_label.py:114: DataConversionWarning: A column-vector y was passed when a 1d array was expected. Please change the shape of y to (n_samples, ), for example using ravel().\n",
      "  y = column_or_1d(y, warn=True)\n",
      "/Applications/anaconda3/envs/95m/lib/python3.12/site-packages/sklearn/preprocessing/_label.py:114: DataConversionWarning: A column-vector y was passed when a 1d array was expected. Please change the shape of y to (n_samples, ), for example using ravel().\n",
      "  y = column_or_1d(y, warn=True)\n",
      "/Applications/anaconda3/envs/95m/lib/python3.12/site-packages/sklearn/preprocessing/_label.py:114: DataConversionWarning: A column-vector y was passed when a 1d array was expected. Please change the shape of y to (n_samples, ), for example using ravel().\n",
      "  y = column_or_1d(y, warn=True)\n",
      "/Applications/anaconda3/envs/95m/lib/python3.12/site-packages/sklearn/preprocessing/_label.py:114: DataConversionWarning: A column-vector y was passed when a 1d array was expected. Please change the shape of y to (n_samples, ), for example using ravel().\n",
      "  y = column_or_1d(y, warn=True)\n"
     ]
    }
   ],
   "source": [
    "try:\n",
    "    config = ConfigurationManger()\n",
    "    fe_config = config.get_Car_fe()\n",
    "    car_f = Carfe(config=fe_config)\n",
    "    car_f.feature_eng()\n",
    "except Exception as e:\n",
    "    raise e"
   ]
  },
  {
   "cell_type": "code",
   "execution_count": null,
   "metadata": {},
   "outputs": [],
   "source": []
  }
 ],
 "metadata": {
  "kernelspec": {
   "display_name": "95m",
   "language": "python",
   "name": "python3"
  },
  "language_info": {
   "codemirror_mode": {
    "name": "ipython",
    "version": 3
   },
   "file_extension": ".py",
   "mimetype": "text/x-python",
   "name": "python",
   "nbconvert_exporter": "python",
   "pygments_lexer": "ipython3",
   "version": "3.12.5"
  }
 },
 "nbformat": 4,
 "nbformat_minor": 2
}
