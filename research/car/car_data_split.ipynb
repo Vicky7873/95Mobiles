{
 "cells": [
  {
   "cell_type": "code",
   "execution_count": 1,
   "metadata": {},
   "outputs": [],
   "source": [
    "import os"
   ]
  },
  {
   "cell_type": "code",
   "execution_count": 2,
   "metadata": {},
   "outputs": [],
   "source": [
    "os.chdir(\"../../\")"
   ]
  },
  {
   "cell_type": "code",
   "execution_count": 3,
   "metadata": {},
   "outputs": [
    {
     "data": {
      "text/plain": [
       "'/Users/bhikipallai/Desktop/Projects/95Mobiles'"
      ]
     },
     "execution_count": 3,
     "metadata": {},
     "output_type": "execute_result"
    }
   ],
   "source": [
    "%pwd"
   ]
  },
  {
   "cell_type": "code",
   "execution_count": 4,
   "metadata": {},
   "outputs": [],
   "source": [
    "from dataclasses import dataclass\n",
    "from pathlib import Path\n",
    "\n",
    "@dataclass(frozen=True)\n",
    "class CarDatSPlitConfig:\n",
    "    root_dir: Path\n",
    "    clean_data: Path\n",
    "    X_train: Path\n",
    "    X_test: Path\n",
    "    y_train: Path\n",
    "    y_test: Path\n",
    "    test_size: float\n",
    "    random_state: int"
   ]
  },
  {
   "cell_type": "code",
   "execution_count": 5,
   "metadata": {},
   "outputs": [
    {
     "name": "stdout",
     "output_type": "stream",
     "text": [
      "[2024-10-01 11:16:33,087: INFO]: Logging file start\n"
     ]
    }
   ],
   "source": [
    "from src.car.utils.common import read_yaml,create_directory\n",
    "from src.car.constants import *"
   ]
  },
  {
   "cell_type": "code",
   "execution_count": 6,
   "metadata": {},
   "outputs": [],
   "source": [
    "class ConfigurationManger:\n",
    "    def __init__(self,config_filepath = CONFIG_FILE_PATH,param_filepath = PARAM_FILE_PATH):\n",
    "        self.config = read_yaml(config_filepath)\n",
    "        self.params = read_yaml(param_filepath)\n",
    "\n",
    "        create_directory([self.config.data_root])\n",
    "\n",
    "    def get_data_split(self)->CarDatSPlitConfig:\n",
    "        config = self.config.car_data_split\n",
    "        params = self.params.split\n",
    "\n",
    "        create_directory([config.root_dir])\n",
    "\n",
    "        get_ds = CarDatSPlitConfig(\n",
    "            root_dir=config.root_dir,\n",
    "            clean_data = config.clean_data,\n",
    "            X_train = config.X_train,\n",
    "            X_test = config.X_test,\n",
    "            y_train = config.y_train,\n",
    "            y_test = config.y_test,\n",
    "            test_size = params.test_size,\n",
    "            random_state = params.random_state\n",
    "        )\n",
    "\n",
    "        return get_ds"
   ]
  },
  {
   "cell_type": "code",
   "execution_count": 7,
   "metadata": {},
   "outputs": [],
   "source": [
    "from sklearn.model_selection import train_test_split\n",
    "import pandas as pd"
   ]
  },
  {
   "cell_type": "code",
   "execution_count": 8,
   "metadata": {},
   "outputs": [],
   "source": [
    "class CarDataSplit:\n",
    "    def __init__(self,config:CarDatSPlitConfig):\n",
    "        self.config = config\n",
    "    @staticmethod\n",
    "    def split_the_data(self):\n",
    "        df = pd.read_csv(self.config.clean_data)\n",
    "\n",
    "        X = df.drop(columns='selling_price',axis=1)\n",
    "        y = df['selling_price']\n",
    "\n",
    "        X_train,X_test,y_train,y_test = train_test_split(X,y,test_size=self.config.test_size,random_state=self.config.random_state)\n",
    "\n",
    "        return X_train,X_test,y_train,y_test\n",
    "    \n",
    "    def save_the_split(self):\n",
    "        X_train,X_test,y_train,y_test = self.split_the_data(self)\n",
    "        X_train.to_csv(self.config.X_train,index = False)\n",
    "        X_test.to_csv(self.config.X_test,index = False)\n",
    "        y_train.to_csv(self.config.y_train,index = False)\n",
    "        y_test.to_csv(self.config.y_test,index = False)\n",
    "\n",
    "        print(X_train.columns)\n",
    "\n",
    "    def remove_unwanted_cols(self):\n",
    "        X_train = pd.read_csv(self.config.X_train)\n",
    "        X_test = pd.read_csv(self.config.X_test)\n",
    "\n",
    "        X_train.drop(columns='Unnamed: 0',axis=1,inplace=True)\n",
    "        X_test.drop(columns='Unnamed: 0',axis=1,inplace=True)\n",
    "        X_train.to_csv(self.config.X_train,index = False)\n",
    "        X_test.to_csv(self.config.X_test,index = False)\n",
    "\n",
    "        print(\"after clean:\\n\",X_train.head(1))\n",
    "        print(\"after clean:\\n\",X_test.head(1))\n"
   ]
  },
  {
   "cell_type": "code",
   "execution_count": 9,
   "metadata": {},
   "outputs": [
    {
     "name": "stdout",
     "output_type": "stream",
     "text": [
      "[2024-10-01 11:16:33,864: INFO]: yaml: config/car_config.yaml loaded successfully\n",
      "[2024-10-01 11:16:33,865: INFO]: yaml: params/car_params.yaml loaded successfully\n",
      "[2024-10-01 11:16:33,865: INFO]: created directory at: data\n",
      "[2024-10-01 11:16:33,866: INFO]: created directory at: data/car/data_split\n",
      "Index(['Unnamed: 0', 'name', 'year', 'km_driven', 'fuel', 'seller_type',\n",
      "       'transmission', 'owner'],\n",
      "      dtype='object')\n",
      "after clean:\n",
      "    name      year  km_driven  fuel  seller_type  transmission  owner\n",
      "0  1151  0.690229  -0.990931     4            1             1      0\n",
      "after clean:\n",
      "    name      year  km_driven  fuel  seller_type  transmission  owner\n",
      "0  1389  0.927485   -0.40854     1            2             0      0\n"
     ]
    }
   ],
   "source": [
    "try:\n",
    "    config = ConfigurationManger()\n",
    "    split_config = config.get_data_split()\n",
    "    car_split = CarDataSplit(config=split_config)\n",
    "    car_split.save_the_split()\n",
    "    car_split.remove_unwanted_cols()\n",
    "except Exception as e:\n",
    "    raise e"
   ]
  },
  {
   "cell_type": "code",
   "execution_count": null,
   "metadata": {},
   "outputs": [],
   "source": []
  }
 ],
 "metadata": {
  "kernelspec": {
   "display_name": "95m",
   "language": "python",
   "name": "python3"
  },
  "language_info": {
   "codemirror_mode": {
    "name": "ipython",
    "version": 3
   },
   "file_extension": ".py",
   "mimetype": "text/x-python",
   "name": "python",
   "nbconvert_exporter": "python",
   "pygments_lexer": "ipython3",
   "version": "3.12.5"
  }
 },
 "nbformat": 4,
 "nbformat_minor": 2
}
