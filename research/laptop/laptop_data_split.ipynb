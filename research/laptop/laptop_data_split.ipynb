{
 "cells": [
  {
   "cell_type": "code",
   "execution_count": 1,
   "metadata": {},
   "outputs": [],
   "source": [
    "import os"
   ]
  },
  {
   "cell_type": "code",
   "execution_count": 2,
   "metadata": {},
   "outputs": [],
   "source": [
    "os.chdir(\"../../\")"
   ]
  },
  {
   "cell_type": "code",
   "execution_count": 3,
   "metadata": {},
   "outputs": [
    {
     "data": {
      "text/plain": [
       "'/Users/bhikipallai/Desktop/Projects/95Mobiles'"
      ]
     },
     "execution_count": 3,
     "metadata": {},
     "output_type": "execute_result"
    }
   ],
   "source": [
    "%pwd"
   ]
  },
  {
   "cell_type": "code",
   "execution_count": 4,
   "metadata": {},
   "outputs": [],
   "source": [
    "from dataclasses import dataclass\n",
    "from pathlib import Path\n",
    "\n",
    "@dataclass(frozen=True)\n",
    "class Laptop_datasplit:\n",
    "    root_dir: Path\n",
    "    laptop_cleaned_data: Path\n",
    "    X_train: Path\n",
    "    X_test: Path\n",
    "    y_train: Path\n",
    "    y_test: Path\n",
    "    test_size: float\n",
    "    random_state: int"
   ]
  },
  {
   "cell_type": "code",
   "execution_count": 5,
   "metadata": {},
   "outputs": [
    {
     "name": "stdout",
     "output_type": "stream",
     "text": [
      "[2024-10-05 18:33:09,755: INFO]: Logging file start\n"
     ]
    }
   ],
   "source": [
    "from src.laptop.utils.common import read_yaml,create_directory\n",
    "from src.laptop.constants import *"
   ]
  },
  {
   "cell_type": "code",
   "execution_count": 6,
   "metadata": {},
   "outputs": [],
   "source": [
    "class ConfigurationManger:\n",
    "    def __init__(self,config_filepath = CONFIG_FILE_PATH,param_filepath = PARAMS_FILE_PATH):\n",
    "        self.config = read_yaml(config_filepath)\n",
    "        self.params = read_yaml(param_filepath)\n",
    "        create_directory([self.config.data_root])\n",
    "    \n",
    "    def get_laptop_data_split(self) -> Laptop_datasplit:\n",
    "        config = self.config.data_split\n",
    "        param = self.params.split\n",
    "        create_directory([config.root_dir])\n",
    "\n",
    "        model_datasplitConfig = Laptop_datasplit(\n",
    "            root_dir = config.root_dir,\n",
    "            laptop_cleaned_data = config.laptop_cleaned_data,\n",
    "            X_train = config.X_train,\n",
    "            X_test = config.X_test,\n",
    "            y_train = config.y_train,\n",
    "            y_test = config.y_test,\n",
    "            test_size = param.test_size,\n",
    "            random_state = param.random_state\n",
    "        )\n",
    "\n",
    "        return model_datasplitConfig\n",
    "\n"
   ]
  },
  {
   "cell_type": "code",
   "execution_count": 7,
   "metadata": {},
   "outputs": [],
   "source": [
    "from sklearn.model_selection import train_test_split\n",
    "import pandas as pd"
   ]
  },
  {
   "cell_type": "code",
   "execution_count": 8,
   "metadata": {},
   "outputs": [],
   "source": [
    "class LaptopDatasplit:\n",
    "    def __init__(self,config:Laptop_datasplit):\n",
    "        self.config = config\n",
    "    \n",
    "    def load_data(self):\n",
    "        self.df = pd.read_csv(self.config.laptop_cleaned_data)\n",
    "        return self.df\n",
    "    \n",
    "    def Split_the_data(self):\n",
    "        df = self.df\n",
    "        X=df.drop('price',axis=1)\n",
    "        y=df['price']\n",
    "        X_train,X_test,y_train,y_test = train_test_split(X,y,test_size=self.config.random_state,random_state=self.config.random_state)\n",
    "        return X_train,X_test,y_train,y_test\n",
    "    \n",
    "    def remove_unwanted_cols_and_save(self):\n",
    "        X_train,X_test,y_train,y_test = self.Split_the_data()\n",
    "        X_train.drop('Unnamed: 0',inplace=True,axis=1)\n",
    "        X_test.drop('Unnamed: 0',axis=1,inplace=True)\n",
    "        X_train.to_csv(self.config.X_train)\n",
    "        X_test.to_csv(self.config.X_test)\n",
    "        y_train.to_csv(self.config.y_train)\n",
    "        y_test.to_csv(self.config.y_test)\n",
    "        print(X_train.head(2))\n",
    "    "
   ]
  },
  {
   "cell_type": "code",
   "execution_count": 9,
   "metadata": {},
   "outputs": [
    {
     "name": "stdout",
     "output_type": "stream",
     "text": [
      "[2024-10-05 18:33:10,535: INFO]: yaml: config/laptop_config.yaml loaded successfully\n",
      "[2024-10-05 18:33:10,535: INFO]: yaml: params/laptop_params.yaml loaded successfully\n",
      "[2024-10-05 18:33:10,536: INFO]: created directory at: data\n",
      "[2024-10-05 18:33:10,537: INFO]: created directory at: data/laptop/data_split\n",
      "     Company  Product  TypeName    Inches  ScreenResolution  Cpu  Ram  Memory  \\\n",
      "471        7      594         3  0.408772                 8   74    8      26   \n",
      "23         4      244         0 -1.204407                 7   83    8      16   \n",
      "\n",
      "     Gpu  OpSys    Weight  \n",
      "471    1      5 -0.208553  \n",
      "23    61      5 -0.629467  \n"
     ]
    }
   ],
   "source": [
    "try: \n",
    "    config = ConfigurationManger()\n",
    "    split_config = config.get_laptop_data_split()\n",
    "    ld_split = LaptopDatasplit(config=split_config)\n",
    "    ld_split.load_data()\n",
    "    ld_split.Split_the_data()\n",
    "    ld_split.remove_unwanted_cols_and_save()\n",
    "except Exception as e:\n",
    "    raise e"
   ]
  },
  {
   "cell_type": "code",
   "execution_count": null,
   "metadata": {},
   "outputs": [],
   "source": []
  }
 ],
 "metadata": {
  "kernelspec": {
   "display_name": "95m",
   "language": "python",
   "name": "python3"
  },
  "language_info": {
   "codemirror_mode": {
    "name": "ipython",
    "version": 3
   },
   "file_extension": ".py",
   "mimetype": "text/x-python",
   "name": "python",
   "nbconvert_exporter": "python",
   "pygments_lexer": "ipython3",
   "version": "3.12.5"
  }
 },
 "nbformat": 4,
 "nbformat_minor": 2
}
