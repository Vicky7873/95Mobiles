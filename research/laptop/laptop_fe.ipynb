{
 "cells": [
  {
   "cell_type": "code",
   "execution_count": 2,
   "metadata": {},
   "outputs": [],
   "source": [
    "import os"
   ]
  },
  {
   "cell_type": "code",
   "execution_count": 3,
   "metadata": {},
   "outputs": [],
   "source": [
    "os.chdir('../../')"
   ]
  },
  {
   "cell_type": "code",
   "execution_count": 4,
   "metadata": {},
   "outputs": [
    {
     "data": {
      "text/plain": [
       "'/Users/bhikipallai/Desktop/Projects/95Mobiles'"
      ]
     },
     "execution_count": 4,
     "metadata": {},
     "output_type": "execute_result"
    }
   ],
   "source": [
    "%pwd"
   ]
  },
  {
   "cell_type": "code",
   "execution_count": 5,
   "metadata": {},
   "outputs": [],
   "source": [
    "from dataclasses import dataclass\n",
    "from pathlib import Path\n",
    "\n",
    "\n",
    "@dataclass(frozen=True)\n",
    "class Laptop_feConfig:\n",
    "    root_dir: Path\n",
    "    laptop_raw_data: Path\n",
    "    laptop_cleaned_data: Path"
   ]
  },
  {
   "cell_type": "code",
   "execution_count": 6,
   "metadata": {},
   "outputs": [],
   "source": [
    "from src.laptop.utils.common import read_yaml,create_directory\n",
    "from src.laptop.constants import *"
   ]
  },
  {
   "cell_type": "code",
   "execution_count": 8,
   "metadata": {},
   "outputs": [],
   "source": [
    "class ConfigurationManger:\n",
    "    def __init__(self,config_filepath = CONFIG_FILE_PATH,param_filepath = PARAMS_FILE_PATH):\n",
    "        self.config = read_yaml(config_filepath)\n",
    "\n",
    "        create_directory([self.config.data_root])\n",
    "\n",
    "    def get_Fe_config(self)->Laptop_feConfig:\n",
    "        config = self.config.feature_eng\n",
    "        create_directory([config.root_dir])\n",
    "\n",
    "        model_feconfig = Laptop_feConfig(\n",
    "            root_dir=config.root_dir,\n",
    "            laptop_raw_data = config.laptop_raw_data,\n",
    "            laptop_cleaned_data = config.laptop_cleaned_data\n",
    "        )\n",
    "\n",
    "        return model_feconfig"
   ]
  },
  {
   "cell_type": "code",
   "execution_count": 10,
   "metadata": {},
   "outputs": [],
   "source": [
    "from sklearn.preprocessing import StandardScaler,LabelEncoder\n",
    "import pandas as pd"
   ]
  },
  {
   "cell_type": "code",
   "execution_count": 21,
   "metadata": {},
   "outputs": [],
   "source": [
    "class laptop_fe:\n",
    "    def __init__(self,config:Laptop_feConfig):\n",
    "        self.config = config\n",
    "\n",
    "    def load_data(self):\n",
    "        df = pd.read_csv(self.config.laptop_raw_data,encoding='ISO-8859-1')\n",
    "        return df\n",
    "    \n",
    "    def drop_and_rename_cols_change_cols_value(self):\n",
    "        df = self.load_data()\n",
    "        df.drop(columns='laptop_ID',axis=1,inplace=True)\n",
    "        df = df.rename(columns={\"Price_euros\":\"price\"})\n",
    "        df['price'] = df['price'].multiply(92)\n",
    "        df['Weight'] = df['Weight'].str.replace(\"kg\",'').astype(float)\n",
    "        return df\n",
    "    \n",
    "    def transform_data(self):\n",
    "        df = self.drop_and_rename_cols_change_cols_value()\n",
    "        le = LabelEncoder()\n",
    "        stc = StandardScaler()\n",
    "        cat_cols = []\n",
    "        num_cols = []\n",
    "\n",
    "        for col in df.columns:\n",
    "            if df[col].dtype == 'float64':\n",
    "                num_cols.append(col)\n",
    "            elif df[col].dtype == 'object':\n",
    "                cat_cols.append(col)\n",
    "        \n",
    "        num_cols.remove('price')\n",
    "\n",
    "        for col in df[num_cols]:\n",
    "            df[col] = stc.fit_transform(df[[col]])\n",
    "        \n",
    "        for col in df[cat_cols]:\n",
    "            df[col] = le.fit_transform(df[col])\n",
    "        \n",
    "        print(df.head(2))\n",
    "        return df\n",
    "    \n",
    "    def save_data(self):\n",
    "        df = self.transform_data()\n",
    "        df.to_csv(self.config.laptop_cleaned_data)\n",
    "        print(\"data was saved\")"
   ]
  },
  {
   "cell_type": "code",
   "execution_count": 22,
   "metadata": {},
   "outputs": [
    {
     "name": "stdout",
     "output_type": "stream",
     "text": [
      "[2024-10-05 14:31:06,221: INFO]: yaml: config/laptop_config.yaml loaded successfully\n",
      "[2024-10-05 14:31:06,223: INFO]: created directory at: data\n",
      "[2024-10-05 14:31:06,224: INFO]: created directory at: data/laptop/feature_eng\n",
      "   Company  Product  TypeName    Inches  ...  Gpu  OpSys    Weight      price\n",
      "0        1      300         4 -1.204407  ...   58      8 -1.005283  123251.48\n",
      "1        1      301         4 -1.204407  ...   51      8 -1.050381   82702.48\n",
      "\n",
      "[2 rows x 12 columns]\n",
      "   Company  Product  TypeName    Inches  ...  Gpu  OpSys    Weight      price\n",
      "0        1      300         4 -1.204407  ...   58      8 -1.005283  123251.48\n",
      "1        1      301         4 -1.204407  ...   51      8 -1.050381   82702.48\n",
      "\n",
      "[2 rows x 12 columns]\n",
      "data was saved\n"
     ]
    }
   ],
   "source": [
    "try:\n",
    "    config = ConfigurationManger()\n",
    "    fe_config = config.get_Fe_config()\n",
    "    laptop = laptop_fe(config=fe_config)\n",
    "    laptop.load_data()\n",
    "    laptop.drop_and_rename_cols_change_cols_value()\n",
    "    laptop.transform_data()\n",
    "    laptop.save_data()\n",
    "except Exception as e:\n",
    "    raise e"
   ]
  },
  {
   "cell_type": "code",
   "execution_count": null,
   "metadata": {},
   "outputs": [],
   "source": []
  }
 ],
 "metadata": {
  "kernelspec": {
   "display_name": "95m",
   "language": "python",
   "name": "python3"
  },
  "language_info": {
   "codemirror_mode": {
    "name": "ipython",
    "version": 3
   },
   "file_extension": ".py",
   "mimetype": "text/x-python",
   "name": "python",
   "nbconvert_exporter": "python",
   "pygments_lexer": "ipython3",
   "version": "3.12.5"
  }
 },
 "nbformat": 4,
 "nbformat_minor": 2
}
