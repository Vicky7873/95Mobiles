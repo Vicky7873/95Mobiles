{
 "cells": [
  {
   "cell_type": "code",
   "execution_count": 1,
   "metadata": {},
   "outputs": [],
   "source": [
    "import os"
   ]
  },
  {
   "cell_type": "code",
   "execution_count": 2,
   "metadata": {},
   "outputs": [],
   "source": [
    "os.chdir('../../')"
   ]
  },
  {
   "cell_type": "code",
   "execution_count": 3,
   "metadata": {},
   "outputs": [
    {
     "data": {
      "text/plain": [
       "'/Users/bhikipallai/Desktop/Projects/95Mobiles'"
      ]
     },
     "execution_count": 3,
     "metadata": {},
     "output_type": "execute_result"
    }
   ],
   "source": [
    "%pwd"
   ]
  },
  {
   "cell_type": "code",
   "execution_count": 4,
   "metadata": {},
   "outputs": [],
   "source": [
    "from pathlib import Path\n",
    "from dataclasses import dataclass\n",
    "\n",
    "@dataclass(frozen=True)\n",
    "class ModelTrainingConfig:\n",
    "    root_dir: Path\n",
    "    X_train: Path\n",
    "    X_test: Path\n",
    "    y_train: Path\n",
    "    y_test: Path\n",
    "    saved_model: Path\n",
    "    model_for_train: Path"
   ]
  },
  {
   "cell_type": "code",
   "execution_count": 5,
   "metadata": {},
   "outputs": [
    {
     "name": "stdout",
     "output_type": "stream",
     "text": [
      "[2024-10-05 20:52:06,993: INFO]: Logging file start\n"
     ]
    }
   ],
   "source": [
    "from src.laptop.utils.common import read_yaml,create_directory\n",
    "from src.laptop.constants import *"
   ]
  },
  {
   "cell_type": "code",
   "execution_count": 6,
   "metadata": {},
   "outputs": [],
   "source": [
    "class ConfigurationManger:\n",
    "    def __init__(self,config_filepath = CONFIG_FILE_PATH,param_filepath = PARAMS_FILE_PATH):\n",
    "        self.config = read_yaml(config_filepath)\n",
    "        self.params = read_yaml(param_filepath)\n",
    "        create_directory([self.config.data_root])\n",
    "\n",
    "    def get_moel_train(self)->ModelTrainingConfig:\n",
    "        config = self.config.Model_train\n",
    "        create_directory([config.root_dir])\n",
    "\n",
    "        model_trainconfig = ModelTrainingConfig(\n",
    "            root_dir=config.root_dir,\n",
    "            X_train=config.X_train,\n",
    "            X_test=config.X_test,\n",
    "            y_train=config.y_train,\n",
    "            y_test=config.y_test,\n",
    "            saved_model=config.saved_model,\n",
    "            model_for_train=config.model_for_train\n",
    "        )\n",
    "\n",
    "        return model_trainconfig"
   ]
  },
  {
   "cell_type": "code",
   "execution_count": 7,
   "metadata": {},
   "outputs": [],
   "source": [
    "from sklearn.linear_model import LinearRegression\n",
    "from sklearn.ensemble import RandomForestRegressor\n",
    "from sklearn.tree import DecisionTreeRegressor\n",
    "from sklearn.linear_model import ElasticNet,Ridge,Lasso\n",
    "import mlflow\n",
    "import joblib\n",
    "import pandas as pd\n",
    "import dagshub\n",
    "from sklearn.model_selection import GridSearchCV"
   ]
  },
  {
   "cell_type": "code",
   "execution_count": 8,
   "metadata": {},
   "outputs": [],
   "source": [
    "models = {\n",
    "    \"lr\":LinearRegression(),\n",
    "    \"rfr\":RandomForestRegressor(),\n",
    "    \"dtr\":DecisionTreeRegressor(),\n",
    "    \"enet\":ElasticNet(),\n",
    "    \"ridge\":Ridge(),\n",
    "    \"lasso\":Lasso()\n",
    "}"
   ]
  },
  {
   "cell_type": "code",
   "execution_count": 9,
   "metadata": {},
   "outputs": [],
   "source": [
    "grid_params = {\n",
    "    \"lr\":{\n",
    "        \"fit_intercept\":[False,True]\n",
    "    },\n",
    "    \"rfr\":{\n",
    "        \"n_estimators\":[15,17,19],\n",
    "        \"criterion\": [\"squared_error\", \"absolute_error\", \"friedman_mse\", \"poisson\"],\n",
    "        \"bootstrap\" : [True,False],\n",
    "        \"oob_score\" : [True,False]\n",
    "\n",
    "    },\n",
    "    \"dtr\":{\n",
    "        \"criterion\": [\"squared_error\", \"absolute_error\", \"friedman_mse\", \"poisson\"],\n",
    "        \"splitter\":[\"best\",\"random\"]\n",
    "    },\n",
    "    \"enet\":{\n",
    "        \"alpha\":[1.0,0.5,1.5,2.0],\n",
    "        \"l1_ratio\" :[0.3,0.4,0.5],\n",
    "        \"selection\": [\"cyclic\",\"random\"]\n",
    "    },\n",
    "    \"ridge\":{\n",
    "        \"alpha\":[1.0,0.5,1.5,2.0],\n",
    "        \"solver\":['auto', 'svd', 'cholesky', 'lsqr', 'sparse_cg', 'sag', 'saga']\n",
    "    },\n",
    "\n",
    "    \"lasso\" : {\n",
    "        \"alpha\":[1.0,0.5,1.5,2.0],\n",
    "    }\n",
    "}"
   ]
  },
  {
   "cell_type": "code",
   "execution_count": 10,
   "metadata": {},
   "outputs": [],
   "source": [
    "class Laptop_modeltrain:\n",
    "    def __init__(self,config:ModelTrainingConfig):\n",
    "        self.config = config\n",
    "    \n",
    "    def model_train(self):\n",
    "        X_train = pd.read_csv(self.config.X_train)\n",
    "        X_test = pd.read_csv(self.config.X_test)\n",
    "        y_train = pd.read_csv(self.config.y_train)\n",
    "        y_test = pd.read_csv(self.config.y_test)\n",
    "\n",
    "        dagshub.init(repo_owner='Vicky7873', repo_name='95Mobiles', mlflow=True)\n",
    "        mlflow.set_registry_uri(\"https://dagshub.com/Vicky7873/95Mobiles.mlflow\")\n",
    "        mlflow.set_experiment(\"Laptop model training\")\n",
    "\n",
    "        compare_score = -float(\"inf\")\n",
    "        with mlflow.start_run():\n",
    "            for model_name,model in models.items():\n",
    "                train_gdr = GridSearchCV(model,param_grid=grid_params[model_name],cv=5)\n",
    "                train_gdr.fit(X_train,y_train)\n",
    "                print(\"Best parameters: \", train_gdr.best_params_)\n",
    "                print(\"best score: \", train_gdr.best_score_)\n",
    "                print(\"best estimator: \", train_gdr.best_estimator_)\n",
    "\n",
    "                mlflow.log_metric(f\"{model_name}_best_score\",train_gdr.best_score_)\n",
    "                mlflow.log_params({f\"{model_name}_best_params\": train_gdr.best_params_})\n",
    "\n",
    "                if train_gdr.best_score_>compare_score:\n",
    "                    compare_score = train_gdr.best_score_\n",
    "                    self.best_model = train_gdr.best_estimator_\n",
    "                    print(\"Best Model Type:\", self.best_model)\n",
    "    \n",
    "\n",
    "    def model_save(self):\n",
    "        model = self.best_model\n",
    "        joblib.dump(model,self.config.saved_model)\n",
    "        joblib.dump(model, self.config.model_for_train)\n",
    "        print(f\"Model: {model} was saved to its path\")\n"
   ]
  },
  {
   "cell_type": "code",
   "execution_count": 11,
   "metadata": {},
   "outputs": [
    {
     "name": "stdout",
     "output_type": "stream",
     "text": [
      "[2024-10-05 20:52:08,561: INFO]: yaml: config/laptop_config.yaml loaded successfully\n",
      "[2024-10-05 20:52:08,563: INFO]: yaml: params/laptop_params.yaml loaded successfully\n",
      "[2024-10-05 20:52:08,564: INFO]: created directory at: data\n",
      "[2024-10-05 20:52:08,565: INFO]: created directory at: data/laptop/model_train\n",
      "[2024-10-05 20:52:08,924: INFO]: HTTP Request: GET https://dagshub.com/api/v1/user \"HTTP/1.1 200 OK\"\n"
     ]
    },
    {
     "data": {
      "text/html": [
       "<pre style=\"white-space:pre;overflow-x:auto;line-height:normal;font-family:Menlo,'DejaVu Sans Mono',consolas,'Courier New',monospace\">Accessing as Vicky7873\n",
       "</pre>\n"
      ],
      "text/plain": [
       "Accessing as Vicky7873\n"
      ]
     },
     "metadata": {},
     "output_type": "display_data"
    },
    {
     "name": "stdout",
     "output_type": "stream",
     "text": [
      "[2024-10-05 20:52:08,929: INFO]: Accessing as Vicky7873\n",
      "[2024-10-05 20:52:09,336: INFO]: HTTP Request: GET https://dagshub.com/api/v1/repos/Vicky7873/95Mobiles \"HTTP/1.1 200 OK\"\n"
     ]
    },
    {
     "data": {
      "text/html": [
       "<pre style=\"white-space:pre;overflow-x:auto;line-height:normal;font-family:Menlo,'DejaVu Sans Mono',consolas,'Courier New',monospace\">Initialized MLflow to track repo <span style=\"color: #008000; text-decoration-color: #008000\">\"Vicky7873/95Mobiles\"</span>\n",
       "</pre>\n"
      ],
      "text/plain": [
       "Initialized MLflow to track repo \u001b[32m\"Vicky7873/95Mobiles\"\u001b[0m\n"
      ]
     },
     "metadata": {},
     "output_type": "display_data"
    },
    {
     "name": "stdout",
     "output_type": "stream",
     "text": [
      "[2024-10-05 20:52:09,338: INFO]: Initialized MLflow to track repo \"Vicky7873/95Mobiles\"\n"
     ]
    },
    {
     "data": {
      "text/html": [
       "<pre style=\"white-space:pre;overflow-x:auto;line-height:normal;font-family:Menlo,'DejaVu Sans Mono',consolas,'Courier New',monospace\">Repository Vicky7873/95Mobiles initialized!\n",
       "</pre>\n"
      ],
      "text/plain": [
       "Repository Vicky7873/95Mobiles initialized!\n"
      ]
     },
     "metadata": {},
     "output_type": "display_data"
    },
    {
     "name": "stdout",
     "output_type": "stream",
     "text": [
      "[2024-10-05 20:52:09,340: INFO]: Repository Vicky7873/95Mobiles initialized!\n",
      "Best parameters:  {'fit_intercept': True}\n",
      "best score:  0.7362678834370764\n",
      "best estimator:  LinearRegression()\n",
      "Best Model Type: LinearRegression()\n"
     ]
    },
    {
     "name": "stderr",
     "output_type": "stream",
     "text": [
      "/Applications/anaconda3/envs/95m/lib/python3.12/site-packages/sklearn/ensemble/_forest.py:615: UserWarning: Some inputs do not have OOB scores. This probably means too few trees were used to compute any reliable OOB estimates.\n",
      "  warn(\n",
      "/Applications/anaconda3/envs/95m/lib/python3.12/site-packages/sklearn/ensemble/_forest.py:615: UserWarning: Some inputs do not have OOB scores. This probably means too few trees were used to compute any reliable OOB estimates.\n",
      "  warn(\n",
      "/Applications/anaconda3/envs/95m/lib/python3.12/site-packages/sklearn/ensemble/_forest.py:615: UserWarning: Some inputs do not have OOB scores. This probably means too few trees were used to compute any reliable OOB estimates.\n",
      "  warn(\n",
      "/Applications/anaconda3/envs/95m/lib/python3.12/site-packages/sklearn/ensemble/_forest.py:615: UserWarning: Some inputs do not have OOB scores. This probably means too few trees were used to compute any reliable OOB estimates.\n",
      "  warn(\n",
      "/Applications/anaconda3/envs/95m/lib/python3.12/site-packages/sklearn/ensemble/_forest.py:615: UserWarning: Some inputs do not have OOB scores. This probably means too few trees were used to compute any reliable OOB estimates.\n",
      "  warn(\n",
      "/Applications/anaconda3/envs/95m/lib/python3.12/site-packages/sklearn/ensemble/_forest.py:615: UserWarning: Some inputs do not have OOB scores. This probably means too few trees were used to compute any reliable OOB estimates.\n",
      "  warn(\n",
      "/Applications/anaconda3/envs/95m/lib/python3.12/site-packages/sklearn/ensemble/_forest.py:615: UserWarning: Some inputs do not have OOB scores. This probably means too few trees were used to compute any reliable OOB estimates.\n",
      "  warn(\n",
      "/Applications/anaconda3/envs/95m/lib/python3.12/site-packages/sklearn/ensemble/_forest.py:615: UserWarning: Some inputs do not have OOB scores. This probably means too few trees were used to compute any reliable OOB estimates.\n",
      "  warn(\n",
      "/Applications/anaconda3/envs/95m/lib/python3.12/site-packages/sklearn/ensemble/_forest.py:615: UserWarning: Some inputs do not have OOB scores. This probably means too few trees were used to compute any reliable OOB estimates.\n",
      "  warn(\n",
      "/Applications/anaconda3/envs/95m/lib/python3.12/site-packages/sklearn/ensemble/_forest.py:615: UserWarning: Some inputs do not have OOB scores. This probably means too few trees were used to compute any reliable OOB estimates.\n",
      "  warn(\n",
      "/Applications/anaconda3/envs/95m/lib/python3.12/site-packages/sklearn/ensemble/_forest.py:615: UserWarning: Some inputs do not have OOB scores. This probably means too few trees were used to compute any reliable OOB estimates.\n",
      "  warn(\n",
      "/Applications/anaconda3/envs/95m/lib/python3.12/site-packages/sklearn/ensemble/_forest.py:615: UserWarning: Some inputs do not have OOB scores. This probably means too few trees were used to compute any reliable OOB estimates.\n",
      "  warn(\n",
      "/Applications/anaconda3/envs/95m/lib/python3.12/site-packages/sklearn/ensemble/_forest.py:615: UserWarning: Some inputs do not have OOB scores. This probably means too few trees were used to compute any reliable OOB estimates.\n",
      "  warn(\n",
      "/Applications/anaconda3/envs/95m/lib/python3.12/site-packages/sklearn/ensemble/_forest.py:615: UserWarning: Some inputs do not have OOB scores. This probably means too few trees were used to compute any reliable OOB estimates.\n",
      "  warn(\n",
      "/Applications/anaconda3/envs/95m/lib/python3.12/site-packages/sklearn/ensemble/_forest.py:615: UserWarning: Some inputs do not have OOB scores. This probably means too few trees were used to compute any reliable OOB estimates.\n",
      "  warn(\n",
      "/Applications/anaconda3/envs/95m/lib/python3.12/site-packages/sklearn/ensemble/_forest.py:615: UserWarning: Some inputs do not have OOB scores. This probably means too few trees were used to compute any reliable OOB estimates.\n",
      "  warn(\n",
      "/Applications/anaconda3/envs/95m/lib/python3.12/site-packages/sklearn/ensemble/_forest.py:615: UserWarning: Some inputs do not have OOB scores. This probably means too few trees were used to compute any reliable OOB estimates.\n",
      "  warn(\n",
      "/Applications/anaconda3/envs/95m/lib/python3.12/site-packages/sklearn/ensemble/_forest.py:615: UserWarning: Some inputs do not have OOB scores. This probably means too few trees were used to compute any reliable OOB estimates.\n",
      "  warn(\n",
      "/Applications/anaconda3/envs/95m/lib/python3.12/site-packages/sklearn/ensemble/_forest.py:615: UserWarning: Some inputs do not have OOB scores. This probably means too few trees were used to compute any reliable OOB estimates.\n",
      "  warn(\n",
      "/Applications/anaconda3/envs/95m/lib/python3.12/site-packages/sklearn/ensemble/_forest.py:615: UserWarning: Some inputs do not have OOB scores. This probably means too few trees were used to compute any reliable OOB estimates.\n",
      "  warn(\n",
      "/Applications/anaconda3/envs/95m/lib/python3.12/site-packages/sklearn/ensemble/_forest.py:615: UserWarning: Some inputs do not have OOB scores. This probably means too few trees were used to compute any reliable OOB estimates.\n",
      "  warn(\n",
      "/Applications/anaconda3/envs/95m/lib/python3.12/site-packages/sklearn/model_selection/_validation.py:540: FitFailedWarning: \n",
      "60 fits failed out of a total of 240.\n",
      "The score on these train-test partitions for these parameters will be set to nan.\n",
      "If these failures are not expected, you can try to debug them by setting error_score='raise'.\n",
      "\n",
      "Below are more details about the failures:\n",
      "--------------------------------------------------------------------------------\n",
      "60 fits failed with the following error:\n",
      "Traceback (most recent call last):\n",
      "  File \"/Applications/anaconda3/envs/95m/lib/python3.12/site-packages/sklearn/model_selection/_validation.py\", line 888, in _fit_and_score\n",
      "    estimator.fit(X_train, y_train, **fit_params)\n",
      "  File \"/Applications/anaconda3/envs/95m/lib/python3.12/site-packages/sklearn/base.py\", line 1473, in wrapper\n",
      "    return fit_method(estimator, *args, **kwargs)\n",
      "           ^^^^^^^^^^^^^^^^^^^^^^^^^^^^^^^^^^^^^^\n",
      "  File \"/Applications/anaconda3/envs/95m/lib/python3.12/site-packages/sklearn/ensemble/_forest.py\", line 450, in fit\n",
      "    raise ValueError(\"Out of bag estimation only available if bootstrap=True\")\n",
      "ValueError: Out of bag estimation only available if bootstrap=True\n",
      "\n",
      "  warnings.warn(some_fits_failed_message, FitFailedWarning)\n",
      "/Applications/anaconda3/envs/95m/lib/python3.12/site-packages/sklearn/model_selection/_search.py:1103: UserWarning: One or more of the test scores are non-finite: [0.76489645 0.74788486 0.75736146 0.75821925 0.76483291 0.76725482\n",
      " 0.7905614  0.78642812 0.78613425 0.79503783 0.78811929 0.79069322\n",
      " 0.7682628  0.75454499 0.76056141 0.75623874 0.76292593 0.75402934\n",
      " 0.82288124 0.81932275 0.83006428 0.81882273 0.82152274 0.82814454\n",
      "        nan 0.57305519        nan 0.5661514         nan 0.56935828\n",
      "        nan 0.6419541         nan 0.6400159         nan 0.64029937\n",
      "        nan 0.58110787        nan 0.57661925        nan 0.58478679\n",
      "        nan 0.67829979        nan 0.67648337        nan 0.66660978]\n",
      "  warnings.warn(\n",
      "/Applications/anaconda3/envs/95m/lib/python3.12/site-packages/sklearn/ensemble/_forest.py:615: UserWarning: Some inputs do not have OOB scores. This probably means too few trees were used to compute any reliable OOB estimates.\n",
      "  warn(\n"
     ]
    },
    {
     "name": "stdout",
     "output_type": "stream",
     "text": [
      "Best parameters:  {'bootstrap': True, 'criterion': 'poisson', 'n_estimators': 17, 'oob_score': True}\n",
      "best score:  0.8300642802274133\n",
      "best estimator:  RandomForestRegressor(criterion='poisson', n_estimators=17, oob_score=True)\n",
      "Best Model Type: RandomForestRegressor(criterion='poisson', n_estimators=17, oob_score=True)\n",
      "Best parameters:  {'criterion': 'poisson', 'splitter': 'best'}\n",
      "best score:  0.6006945268308224\n",
      "best estimator:  DecisionTreeRegressor(criterion='poisson')\n",
      "Best parameters:  {'alpha': 0.5, 'l1_ratio': 0.5, 'selection': 'random'}\n",
      "best score:  0.7322970532939471\n",
      "best estimator:  ElasticNet(alpha=0.5, selection='random')\n"
     ]
    },
    {
     "name": "stderr",
     "output_type": "stream",
     "text": [
      "/Applications/anaconda3/envs/95m/lib/python3.12/site-packages/sklearn/linear_model/_sag.py:349: ConvergenceWarning: The max_iter was reached which means the coef_ did not converge\n",
      "  warnings.warn(\n",
      "/Applications/anaconda3/envs/95m/lib/python3.12/site-packages/sklearn/linear_model/_sag.py:349: ConvergenceWarning: The max_iter was reached which means the coef_ did not converge\n",
      "  warnings.warn(\n",
      "/Applications/anaconda3/envs/95m/lib/python3.12/site-packages/sklearn/linear_model/_sag.py:349: ConvergenceWarning: The max_iter was reached which means the coef_ did not converge\n",
      "  warnings.warn(\n",
      "/Applications/anaconda3/envs/95m/lib/python3.12/site-packages/sklearn/linear_model/_sag.py:349: ConvergenceWarning: The max_iter was reached which means the coef_ did not converge\n",
      "  warnings.warn(\n",
      "/Applications/anaconda3/envs/95m/lib/python3.12/site-packages/sklearn/linear_model/_sag.py:349: ConvergenceWarning: The max_iter was reached which means the coef_ did not converge\n",
      "  warnings.warn(\n",
      "/Applications/anaconda3/envs/95m/lib/python3.12/site-packages/sklearn/linear_model/_sag.py:349: ConvergenceWarning: The max_iter was reached which means the coef_ did not converge\n",
      "  warnings.warn(\n",
      "/Applications/anaconda3/envs/95m/lib/python3.12/site-packages/sklearn/linear_model/_sag.py:349: ConvergenceWarning: The max_iter was reached which means the coef_ did not converge\n",
      "  warnings.warn(\n",
      "/Applications/anaconda3/envs/95m/lib/python3.12/site-packages/sklearn/linear_model/_sag.py:349: ConvergenceWarning: The max_iter was reached which means the coef_ did not converge\n",
      "  warnings.warn(\n",
      "/Applications/anaconda3/envs/95m/lib/python3.12/site-packages/sklearn/linear_model/_sag.py:349: ConvergenceWarning: The max_iter was reached which means the coef_ did not converge\n",
      "  warnings.warn(\n",
      "/Applications/anaconda3/envs/95m/lib/python3.12/site-packages/sklearn/linear_model/_sag.py:349: ConvergenceWarning: The max_iter was reached which means the coef_ did not converge\n",
      "  warnings.warn(\n",
      "/Applications/anaconda3/envs/95m/lib/python3.12/site-packages/sklearn/linear_model/_sag.py:349: ConvergenceWarning: The max_iter was reached which means the coef_ did not converge\n",
      "  warnings.warn(\n",
      "/Applications/anaconda3/envs/95m/lib/python3.12/site-packages/sklearn/linear_model/_sag.py:349: ConvergenceWarning: The max_iter was reached which means the coef_ did not converge\n",
      "  warnings.warn(\n",
      "/Applications/anaconda3/envs/95m/lib/python3.12/site-packages/sklearn/linear_model/_sag.py:349: ConvergenceWarning: The max_iter was reached which means the coef_ did not converge\n",
      "  warnings.warn(\n",
      "/Applications/anaconda3/envs/95m/lib/python3.12/site-packages/sklearn/linear_model/_sag.py:349: ConvergenceWarning: The max_iter was reached which means the coef_ did not converge\n",
      "  warnings.warn(\n",
      "/Applications/anaconda3/envs/95m/lib/python3.12/site-packages/sklearn/linear_model/_sag.py:349: ConvergenceWarning: The max_iter was reached which means the coef_ did not converge\n",
      "  warnings.warn(\n",
      "/Applications/anaconda3/envs/95m/lib/python3.12/site-packages/sklearn/linear_model/_sag.py:349: ConvergenceWarning: The max_iter was reached which means the coef_ did not converge\n",
      "  warnings.warn(\n",
      "/Applications/anaconda3/envs/95m/lib/python3.12/site-packages/sklearn/linear_model/_sag.py:349: ConvergenceWarning: The max_iter was reached which means the coef_ did not converge\n",
      "  warnings.warn(\n",
      "/Applications/anaconda3/envs/95m/lib/python3.12/site-packages/sklearn/linear_model/_sag.py:349: ConvergenceWarning: The max_iter was reached which means the coef_ did not converge\n",
      "  warnings.warn(\n",
      "/Applications/anaconda3/envs/95m/lib/python3.12/site-packages/sklearn/linear_model/_sag.py:349: ConvergenceWarning: The max_iter was reached which means the coef_ did not converge\n",
      "  warnings.warn(\n",
      "/Applications/anaconda3/envs/95m/lib/python3.12/site-packages/sklearn/linear_model/_sag.py:349: ConvergenceWarning: The max_iter was reached which means the coef_ did not converge\n",
      "  warnings.warn(\n",
      "/Applications/anaconda3/envs/95m/lib/python3.12/site-packages/sklearn/linear_model/_sag.py:349: ConvergenceWarning: The max_iter was reached which means the coef_ did not converge\n",
      "  warnings.warn(\n",
      "/Applications/anaconda3/envs/95m/lib/python3.12/site-packages/sklearn/linear_model/_sag.py:349: ConvergenceWarning: The max_iter was reached which means the coef_ did not converge\n",
      "  warnings.warn(\n",
      "/Applications/anaconda3/envs/95m/lib/python3.12/site-packages/sklearn/linear_model/_sag.py:349: ConvergenceWarning: The max_iter was reached which means the coef_ did not converge\n",
      "  warnings.warn(\n",
      "/Applications/anaconda3/envs/95m/lib/python3.12/site-packages/sklearn/linear_model/_sag.py:349: ConvergenceWarning: The max_iter was reached which means the coef_ did not converge\n",
      "  warnings.warn(\n",
      "/Applications/anaconda3/envs/95m/lib/python3.12/site-packages/sklearn/linear_model/_sag.py:349: ConvergenceWarning: The max_iter was reached which means the coef_ did not converge\n",
      "  warnings.warn(\n",
      "/Applications/anaconda3/envs/95m/lib/python3.12/site-packages/sklearn/linear_model/_sag.py:349: ConvergenceWarning: The max_iter was reached which means the coef_ did not converge\n",
      "  warnings.warn(\n",
      "/Applications/anaconda3/envs/95m/lib/python3.12/site-packages/sklearn/linear_model/_sag.py:349: ConvergenceWarning: The max_iter was reached which means the coef_ did not converge\n",
      "  warnings.warn(\n",
      "/Applications/anaconda3/envs/95m/lib/python3.12/site-packages/sklearn/linear_model/_sag.py:349: ConvergenceWarning: The max_iter was reached which means the coef_ did not converge\n",
      "  warnings.warn(\n",
      "/Applications/anaconda3/envs/95m/lib/python3.12/site-packages/sklearn/linear_model/_sag.py:349: ConvergenceWarning: The max_iter was reached which means the coef_ did not converge\n",
      "  warnings.warn(\n",
      "/Applications/anaconda3/envs/95m/lib/python3.12/site-packages/sklearn/linear_model/_sag.py:349: ConvergenceWarning: The max_iter was reached which means the coef_ did not converge\n",
      "  warnings.warn(\n",
      "/Applications/anaconda3/envs/95m/lib/python3.12/site-packages/sklearn/linear_model/_sag.py:349: ConvergenceWarning: The max_iter was reached which means the coef_ did not converge\n",
      "  warnings.warn(\n",
      "/Applications/anaconda3/envs/95m/lib/python3.12/site-packages/sklearn/linear_model/_sag.py:349: ConvergenceWarning: The max_iter was reached which means the coef_ did not converge\n",
      "  warnings.warn(\n",
      "/Applications/anaconda3/envs/95m/lib/python3.12/site-packages/sklearn/linear_model/_sag.py:349: ConvergenceWarning: The max_iter was reached which means the coef_ did not converge\n",
      "  warnings.warn(\n",
      "/Applications/anaconda3/envs/95m/lib/python3.12/site-packages/sklearn/linear_model/_sag.py:349: ConvergenceWarning: The max_iter was reached which means the coef_ did not converge\n",
      "  warnings.warn(\n",
      "/Applications/anaconda3/envs/95m/lib/python3.12/site-packages/sklearn/linear_model/_sag.py:349: ConvergenceWarning: The max_iter was reached which means the coef_ did not converge\n",
      "  warnings.warn(\n",
      "/Applications/anaconda3/envs/95m/lib/python3.12/site-packages/sklearn/linear_model/_sag.py:349: ConvergenceWarning: The max_iter was reached which means the coef_ did not converge\n",
      "  warnings.warn(\n",
      "/Applications/anaconda3/envs/95m/lib/python3.12/site-packages/sklearn/linear_model/_sag.py:349: ConvergenceWarning: The max_iter was reached which means the coef_ did not converge\n",
      "  warnings.warn(\n",
      "/Applications/anaconda3/envs/95m/lib/python3.12/site-packages/sklearn/linear_model/_sag.py:349: ConvergenceWarning: The max_iter was reached which means the coef_ did not converge\n",
      "  warnings.warn(\n",
      "/Applications/anaconda3/envs/95m/lib/python3.12/site-packages/sklearn/linear_model/_sag.py:349: ConvergenceWarning: The max_iter was reached which means the coef_ did not converge\n",
      "  warnings.warn(\n",
      "/Applications/anaconda3/envs/95m/lib/python3.12/site-packages/sklearn/linear_model/_sag.py:349: ConvergenceWarning: The max_iter was reached which means the coef_ did not converge\n",
      "  warnings.warn(\n"
     ]
    },
    {
     "name": "stdout",
     "output_type": "stream",
     "text": [
      "Best parameters:  {'alpha': 2.0, 'solver': 'sparse_cg'}\n",
      "best score:  0.73629452774934\n",
      "best estimator:  Ridge(alpha=2.0, solver='sparse_cg')\n",
      "Best parameters:  {'alpha': 2.0}\n",
      "best score:  0.7362682613102145\n",
      "best estimator:  Lasso(alpha=2.0)\n"
     ]
    },
    {
     "name": "stderr",
     "output_type": "stream",
     "text": [
      "2024/10/05 20:53:20 INFO mlflow.tracking._tracking_service.client: 🏃 View run victorious-fly-32 at: https://dagshub.com/Vicky7873/95Mobiles.mlflow/#/experiments/5/runs/3d6d33cb0d1040a1ac0e90b61c62a06b.\n",
      "2024/10/05 20:53:20 INFO mlflow.tracking._tracking_service.client: 🧪 View experiment at: https://dagshub.com/Vicky7873/95Mobiles.mlflow/#/experiments/5.\n"
     ]
    },
    {
     "name": "stdout",
     "output_type": "stream",
     "text": [
      "Model: RandomForestRegressor(criterion='poisson', n_estimators=17, oob_score=True) was saved to its path\n"
     ]
    }
   ],
   "source": [
    "try:\n",
    "    config=ConfigurationManger()\n",
    "    model_config = config.get_moel_train()\n",
    "    lp_model = Laptop_modeltrain(config=model_config)\n",
    "    lp_model.model_train()\n",
    "    lp_model.model_save()\n",
    "except Exception as e:\n",
    "    raise e\n"
   ]
  },
  {
   "cell_type": "code",
   "execution_count": null,
   "metadata": {},
   "outputs": [],
   "source": []
  }
 ],
 "metadata": {
  "kernelspec": {
   "display_name": "95m",
   "language": "python",
   "name": "python3"
  },
  "language_info": {
   "codemirror_mode": {
    "name": "ipython",
    "version": 3
   },
   "file_extension": ".py",
   "mimetype": "text/x-python",
   "name": "python",
   "nbconvert_exporter": "python",
   "pygments_lexer": "ipython3",
   "version": "3.12.5"
  }
 },
 "nbformat": 4,
 "nbformat_minor": 2
}
